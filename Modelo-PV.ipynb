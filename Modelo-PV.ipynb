{
  "cells": [
    {
      "cell_type": "markdown",
      "metadata": {
        "id": "view-in-github",
        "colab_type": "text"
      },
      "source": [
        "<a href=\"https://colab.research.google.com/github/cristhiamdaniel/PV-System/blob/main/Modelo-PV.ipynb\" target=\"_parent\"><img src=\"https://colab.research.google.com/assets/colab-badge.svg\" alt=\"Open In Colab\"/></a>"
      ]
    },
    {
      "cell_type": "code",
      "execution_count": 2,
      "metadata": {
        "id": "HQ6p-J9GJbfe"
      },
      "outputs": [],
      "source": [
        "# Importar librerias\n",
        "import pandas as pd\n",
        "from sklearn.model_selection import train_test_split\n",
        "import tensorflow as tf\n",
        "import numpy as np\n",
        "import matplotlib.pyplot as plt"
      ]
    },
    {
      "cell_type": "code",
      "source": [
        "# Cargar los datos desde repositorio\n",
        "!git clone https://github.com/cristhiamdaniel/PV-System.git"
      ],
      "metadata": {
        "colab": {
          "base_uri": "https://localhost:8080/"
        },
        "id": "UVdWAlTu9LOF",
        "outputId": "3d6dc0e9-e209-46f2-a9dc-5ad368ebf118"
      },
      "execution_count": 1,
      "outputs": [
        {
          "output_type": "stream",
          "name": "stdout",
          "text": [
            "Cloning into 'PV-System'...\n",
            "remote: Enumerating objects: 978, done.\u001b[K\n",
            "remote: Counting objects: 100% (978/978), done.\u001b[K\n",
            "remote: Compressing objects: 100% (975/975), done.\u001b[K\n",
            "remote: Total 978 (delta 3), reused 972 (delta 2), pack-reused 0\u001b[K\n",
            "Receiving objects: 100% (978/978), 1.02 MiB | 6.85 MiB/s, done.\n",
            "Resolving deltas: 100% (3/3), done.\n"
          ]
        }
      ]
    },
    {
      "cell_type": "code",
      "source": [
        "!git status"
      ],
      "metadata": {
        "id": "nUM7wsh9pHiN",
        "outputId": "f7b06785-225b-4dde-9070-29158fe12779",
        "colab": {
          "base_uri": "https://localhost:8080/"
        }
      },
      "execution_count": 178,
      "outputs": [
        {
          "output_type": "stream",
          "name": "stdout",
          "text": [
            "fatal: not a git repository (or any of the parent directories): .git\n"
          ]
        }
      ]
    },
    {
      "cell_type": "markdown",
      "source": [
        "# Aproximacion Polinomica"
      ],
      "metadata": {
        "id": "baM6tZX8zN_D"
      }
    },
    {
      "cell_type": "markdown",
      "source": [
        "## Aproximacion 1 Trozo"
      ],
      "metadata": {
        "id": "jsQSJDkE3i_e"
      }
    },
    {
      "cell_type": "markdown",
      "source": [
        "### Procesamiento datos"
      ],
      "metadata": {
        "id": "aRAm49Zp3yLs"
      }
    },
    {
      "cell_type": "code",
      "source": [
        "path = '/content/PV-System/Data_PV/'"
      ],
      "metadata": {
        "id": "RgsFk7yOzM8e"
      },
      "execution_count": 3,
      "outputs": []
    },
    {
      "cell_type": "markdown",
      "source": [
        "Tomamos como ejemplo 1 solo archivo"
      ],
      "metadata": {
        "id": "BTOnknJo0ovi"
      }
    },
    {
      "cell_type": "code",
      "source": [
        "g = 1000\n",
        "t = 25\n",
        "filename = f'OutputPV_T{t}_G{g}.txt'\n",
        "df_aprox = pd.read_csv(path + filename, header=None)\n",
        "df_aprox.columns = ['V_pv','I_pv']\n",
        "df_aprox.insert(2,\"P_pv\",df_aprox[\"V_pv\"]*df_aprox[\"I_pv\"])\n",
        "df_aprox.head()"
      ],
      "metadata": {
        "id": "q51QhpyM0j5d",
        "outputId": "e8122bc8-4933-4ba1-8613-6f5edebc7791",
        "colab": {
          "base_uri": "https://localhost:8080/",
          "height": 206
        }
      },
      "execution_count": 106,
      "outputs": [
        {
          "output_type": "execute_result",
          "data": {
            "text/plain": [
              "   V_pv    I_pv     P_pv\n",
              "0     0  28.030    0.000\n",
              "1     1  28.028   28.028\n",
              "2     2  28.026   56.052\n",
              "3     3  28.024   84.072\n",
              "4     4  28.023  112.092"
            ],
            "text/html": [
              "\n",
              "  <div id=\"df-c14616e4-e8aa-4882-8df7-90acc8efec0c\">\n",
              "    <div class=\"colab-df-container\">\n",
              "      <div>\n",
              "<style scoped>\n",
              "    .dataframe tbody tr th:only-of-type {\n",
              "        vertical-align: middle;\n",
              "    }\n",
              "\n",
              "    .dataframe tbody tr th {\n",
              "        vertical-align: top;\n",
              "    }\n",
              "\n",
              "    .dataframe thead th {\n",
              "        text-align: right;\n",
              "    }\n",
              "</style>\n",
              "<table border=\"1\" class=\"dataframe\">\n",
              "  <thead>\n",
              "    <tr style=\"text-align: right;\">\n",
              "      <th></th>\n",
              "      <th>V_pv</th>\n",
              "      <th>I_pv</th>\n",
              "      <th>P_pv</th>\n",
              "    </tr>\n",
              "  </thead>\n",
              "  <tbody>\n",
              "    <tr>\n",
              "      <th>0</th>\n",
              "      <td>0</td>\n",
              "      <td>28.030</td>\n",
              "      <td>0.000</td>\n",
              "    </tr>\n",
              "    <tr>\n",
              "      <th>1</th>\n",
              "      <td>1</td>\n",
              "      <td>28.028</td>\n",
              "      <td>28.028</td>\n",
              "    </tr>\n",
              "    <tr>\n",
              "      <th>2</th>\n",
              "      <td>2</td>\n",
              "      <td>28.026</td>\n",
              "      <td>56.052</td>\n",
              "    </tr>\n",
              "    <tr>\n",
              "      <th>3</th>\n",
              "      <td>3</td>\n",
              "      <td>28.024</td>\n",
              "      <td>84.072</td>\n",
              "    </tr>\n",
              "    <tr>\n",
              "      <th>4</th>\n",
              "      <td>4</td>\n",
              "      <td>28.023</td>\n",
              "      <td>112.092</td>\n",
              "    </tr>\n",
              "  </tbody>\n",
              "</table>\n",
              "</div>\n",
              "      <button class=\"colab-df-convert\" onclick=\"convertToInteractive('df-c14616e4-e8aa-4882-8df7-90acc8efec0c')\"\n",
              "              title=\"Convert this dataframe to an interactive table.\"\n",
              "              style=\"display:none;\">\n",
              "        \n",
              "  <svg xmlns=\"http://www.w3.org/2000/svg\" height=\"24px\"viewBox=\"0 0 24 24\"\n",
              "       width=\"24px\">\n",
              "    <path d=\"M0 0h24v24H0V0z\" fill=\"none\"/>\n",
              "    <path d=\"M18.56 5.44l.94 2.06.94-2.06 2.06-.94-2.06-.94-.94-2.06-.94 2.06-2.06.94zm-11 1L8.5 8.5l.94-2.06 2.06-.94-2.06-.94L8.5 2.5l-.94 2.06-2.06.94zm10 10l.94 2.06.94-2.06 2.06-.94-2.06-.94-.94-2.06-.94 2.06-2.06.94z\"/><path d=\"M17.41 7.96l-1.37-1.37c-.4-.4-.92-.59-1.43-.59-.52 0-1.04.2-1.43.59L10.3 9.45l-7.72 7.72c-.78.78-.78 2.05 0 2.83L4 21.41c.39.39.9.59 1.41.59.51 0 1.02-.2 1.41-.59l7.78-7.78 2.81-2.81c.8-.78.8-2.07 0-2.86zM5.41 20L4 18.59l7.72-7.72 1.47 1.35L5.41 20z\"/>\n",
              "  </svg>\n",
              "      </button>\n",
              "      \n",
              "  <style>\n",
              "    .colab-df-container {\n",
              "      display:flex;\n",
              "      flex-wrap:wrap;\n",
              "      gap: 12px;\n",
              "    }\n",
              "\n",
              "    .colab-df-convert {\n",
              "      background-color: #E8F0FE;\n",
              "      border: none;\n",
              "      border-radius: 50%;\n",
              "      cursor: pointer;\n",
              "      display: none;\n",
              "      fill: #1967D2;\n",
              "      height: 32px;\n",
              "      padding: 0 0 0 0;\n",
              "      width: 32px;\n",
              "    }\n",
              "\n",
              "    .colab-df-convert:hover {\n",
              "      background-color: #E2EBFA;\n",
              "      box-shadow: 0px 1px 2px rgba(60, 64, 67, 0.3), 0px 1px 3px 1px rgba(60, 64, 67, 0.15);\n",
              "      fill: #174EA6;\n",
              "    }\n",
              "\n",
              "    [theme=dark] .colab-df-convert {\n",
              "      background-color: #3B4455;\n",
              "      fill: #D2E3FC;\n",
              "    }\n",
              "\n",
              "    [theme=dark] .colab-df-convert:hover {\n",
              "      background-color: #434B5C;\n",
              "      box-shadow: 0px 1px 3px 1px rgba(0, 0, 0, 0.15);\n",
              "      filter: drop-shadow(0px 1px 2px rgba(0, 0, 0, 0.3));\n",
              "      fill: #FFFFFF;\n",
              "    }\n",
              "  </style>\n",
              "\n",
              "      <script>\n",
              "        const buttonEl =\n",
              "          document.querySelector('#df-c14616e4-e8aa-4882-8df7-90acc8efec0c button.colab-df-convert');\n",
              "        buttonEl.style.display =\n",
              "          google.colab.kernel.accessAllowed ? 'block' : 'none';\n",
              "\n",
              "        async function convertToInteractive(key) {\n",
              "          const element = document.querySelector('#df-c14616e4-e8aa-4882-8df7-90acc8efec0c');\n",
              "          const dataTable =\n",
              "            await google.colab.kernel.invokeFunction('convertToInteractive',\n",
              "                                                     [key], {});\n",
              "          if (!dataTable) return;\n",
              "\n",
              "          const docLinkHtml = 'Like what you see? Visit the ' +\n",
              "            '<a target=\"_blank\" href=https://colab.research.google.com/notebooks/data_table.ipynb>data table notebook</a>'\n",
              "            + ' to learn more about interactive tables.';\n",
              "          element.innerHTML = '';\n",
              "          dataTable['output_type'] = 'display_data';\n",
              "          await google.colab.output.renderOutput(dataTable, element);\n",
              "          const docLink = document.createElement('div');\n",
              "          docLink.innerHTML = docLinkHtml;\n",
              "          element.appendChild(docLink);\n",
              "        }\n",
              "      </script>\n",
              "    </div>\n",
              "  </div>\n",
              "  "
            ]
          },
          "metadata": {},
          "execution_count": 106
        }
      ]
    },
    {
      "cell_type": "markdown",
      "source": [
        "### Curvas Caracteristicas"
      ],
      "metadata": {
        "id": "_t1go7RJ32Cd"
      }
    },
    {
      "cell_type": "code",
      "source": [
        "# Puntos de maxima potencia\n",
        "def PMM():\n",
        "    df_mask = df_aprox['P_pv']==df_aprox['P_pv'].max()\n",
        "    filtered_df = df_aprox[df_mask]\n",
        "    return filtered_df\n",
        "\n",
        "pmm = PMM()\n",
        "\n",
        "\n",
        "# Grafica Curvas caracteristicas\n",
        "def curvaCaracteristica():\n",
        "    global vpp, ipp, ppp\n",
        "    v = df_aprox.V_pv\n",
        "    i = df_aprox.I_pv\n",
        "    p = df_aprox.P_pv\n",
        "    vpp = pmm['V_pv']\n",
        "    ipp = pmm['I_pv']\n",
        "    ppp = pmm['P_pv']\n",
        "    \n",
        "    fig, ax1 = plt.subplots()\n",
        "    \n",
        "    color = \"tab:red\"\n",
        "    ax1.set_xlabel(\"Tension (V)\")\n",
        "    ax1.set_ylabel(\"Corriente (A)\", color=color)\n",
        "    ax1.plot(v, i, color=color)\n",
        "    ax1.plot(vpp, ipp, marker=\"o\", color=\"black\")\n",
        "    ax1.tick_params(axis=\"y\", labelcolor=color)\n",
        "    ax1.set_xlim(0,200)\n",
        "    ax1.set_ylim(0,40)\n",
        "    ax2 = ax1.twinx() \n",
        "    \n",
        "    color = \"tab:blue\"\n",
        "    ax2.set_ylabel(\"Potencia (W)\", color=color)  \n",
        "    ax2.plot(v, p, color=color)\n",
        "    ax2.plot(vpp, ppp, marker=\"o\", color=\"black\")\n",
        "    ax2.tick_params(axis=\"y\", labelcolor=color)\n",
        "    ax2.set_xlim(0,200)\n",
        "    ax2.set_ylim(0,4000)\n",
        "    \n",
        "    fig.tight_layout() \n",
        "    plt.grid()\n",
        "  \n",
        "    plt.show()\n",
        "\n",
        "curvaCaracteristica()"
      ],
      "metadata": {
        "id": "zkcTsYlmZ63-",
        "outputId": "1ad35e34-d18b-4612-88dc-4d12b84854bf",
        "colab": {
          "base_uri": "https://localhost:8080/",
          "height": 297
        }
      },
      "execution_count": 108,
      "outputs": [
        {
          "output_type": "display_data",
          "data": {
            "text/plain": [
              "<Figure size 432x288 with 2 Axes>"
            ],
            "image/png": "[encoded data removed]"
          },
          "metadata": {
            "needs_background": "light"
          }
        }
      ]
    },
    {
      "cell_type": "code",
      "source": [
        "# Curva VI\n",
        "x = df_aprox['V_pv']\n",
        "y = df_aprox['I_pv']\n",
        "fig = plt.figure(figsize=(8, 6))\n",
        "plt.plot(x,y)\n",
        "plt.title('Curva V-I',fontsize=25)\n",
        "plt.xlabel(\"V_pv\",fontsize=18)\n",
        "plt.ylabel(\"I_pv\",fontsize=18)\n",
        "plt.xlim(0,195)\n",
        "plt.ylim(0,30)\n",
        "plt.grid()\n",
        "plt.show()"
      ],
      "metadata": {
        "id": "qbfZG-Sy1Njl",
        "outputId": "99010042-53b9-4ecb-817c-80824e84505c",
        "colab": {
          "base_uri": "https://localhost:8080/",
          "height": 421
        }
      },
      "execution_count": 6,
      "outputs": [
        {
          "output_type": "display_data",
          "data": {
            "text/plain": [
              "<Figure size 576x432 with 1 Axes>"
            ],
            "image/png": "[encoded data removed]"
          },
          "metadata": {
            "needs_background": "light"
          }
        }
      ]
    },
    {
      "cell_type": "code",
      "source": [
        "# Curva PV\n",
        "df_aprox.insert(2,'P_pv',df_aprox['V_pv']*df_aprox['I_pv'])\n",
        "x = df_aprox['V_pv']\n",
        "y = df_aprox['P_pv']\n",
        "fig = plt.figure(figsize=(8, 6))\n",
        "plt.plot(x,y)\n",
        "plt.title('Curva V-P',fontsize=25)\n",
        "plt.xlabel(\"V_pv\",fontsize=18)\n",
        "plt.ylabel(\"P_pv\",fontsize=18)\n",
        "plt.xlim(0,195)\n",
        "plt.ylim(0,4000)\n",
        "plt.grid()\n",
        "plt.show()"
      ],
      "metadata": {
        "id": "g69KS76W1UzG",
        "outputId": "0678941d-982a-4d0a-8142-dbd58cb524d0",
        "colab": {
          "base_uri": "https://localhost:8080/",
          "height": 421
        }
      },
      "execution_count": 7,
      "outputs": [
        {
          "output_type": "display_data",
          "data": {
            "text/plain": [
              "<Figure size 576x432 with 1 Axes>"
            ],
            "image/png": "[encoded data removed]"
          },
          "metadata": {
            "needs_background": "light"
          }
        }
      ]
    },
    {
      "cell_type": "code",
      "source": [
        "# Potencia maxima (W)\n",
        "df_aprox['P_pv'].max()"
      ],
      "metadata": {
        "id": "OG86OMaO1euL",
        "outputId": "ea3f531e-1cd4-44f5-c436-67cba51b7628",
        "colab": {
          "base_uri": "https://localhost:8080/"
        }
      },
      "execution_count": 8,
      "outputs": [
        {
          "output_type": "execute_result",
          "data": {
            "text/plain": [
              "3885.15"
            ]
          },
          "metadata": {},
          "execution_count": 8
        }
      ]
    },
    {
      "cell_type": "code",
      "source": [
        "# Valores en el punto de maxima potencia\n",
        "v_mpp = df_aprox[df_aprox['P_pv'] == 3881.448]\n",
        "v_mpp"
      ],
      "metadata": {
        "id": "H6uxQnJT1iX8",
        "outputId": "9fc2625b-055b-425e-8ce9-dbc98d9ef858",
        "colab": {
          "base_uri": "https://localhost:8080/",
          "height": 81
        }
      },
      "execution_count": 9,
      "outputs": [
        {
          "output_type": "execute_result",
          "data": {
            "text/plain": [
              "     V_pv    I_pv      P_pv\n",
              "148   148  26.226  3881.448"
            ],
            "text/html": [
              "\n",
              "  <div id=\"df-eeaa2f99-940b-4ff8-8f33-c45db0a497ab\">\n",
              "    <div class=\"colab-df-container\">\n",
              "      <div>\n",
              "<style scoped>\n",
              "    .dataframe tbody tr th:only-of-type {\n",
              "        vertical-align: middle;\n",
              "    }\n",
              "\n",
              "    .dataframe tbody tr th {\n",
              "        vertical-align: top;\n",
              "    }\n",
              "\n",
              "    .dataframe thead th {\n",
              "        text-align: right;\n",
              "    }\n",
              "</style>\n",
              "<table border=\"1\" class=\"dataframe\">\n",
              "  <thead>\n",
              "    <tr style=\"text-align: right;\">\n",
              "      <th></th>\n",
              "      <th>V_pv</th>\n",
              "      <th>I_pv</th>\n",
              "      <th>P_pv</th>\n",
              "    </tr>\n",
              "  </thead>\n",
              "  <tbody>\n",
              "    <tr>\n",
              "      <th>148</th>\n",
              "      <td>148</td>\n",
              "      <td>26.226</td>\n",
              "      <td>3881.448</td>\n",
              "    </tr>\n",
              "  </tbody>\n",
              "</table>\n",
              "</div>\n",
              "      <button class=\"colab-df-convert\" onclick=\"convertToInteractive('df-eeaa2f99-940b-4ff8-8f33-c45db0a497ab')\"\n",
              "              title=\"Convert this dataframe to an interactive table.\"\n",
              "              style=\"display:none;\">\n",
              "        \n",
              "  <svg xmlns=\"http://www.w3.org/2000/svg\" height=\"24px\"viewBox=\"0 0 24 24\"\n",
              "       width=\"24px\">\n",
              "    <path d=\"M0 0h24v24H0V0z\" fill=\"none\"/>\n",
              "    <path d=\"M18.56 5.44l.94 2.06.94-2.06 2.06-.94-2.06-.94-.94-2.06-.94 2.06-2.06.94zm-11 1L8.5 8.5l.94-2.06 2.06-.94-2.06-.94L8.5 2.5l-.94 2.06-2.06.94zm10 10l.94 2.06.94-2.06 2.06-.94-2.06-.94-.94-2.06-.94 2.06-2.06.94z\"/><path d=\"M17.41 7.96l-1.37-1.37c-.4-.4-.92-.59-1.43-.59-.52 0-1.04.2-1.43.59L10.3 9.45l-7.72 7.72c-.78.78-.78 2.05 0 2.83L4 21.41c.39.39.9.59 1.41.59.51 0 1.02-.2 1.41-.59l7.78-7.78 2.81-2.81c.8-.78.8-2.07 0-2.86zM5.41 20L4 18.59l7.72-7.72 1.47 1.35L5.41 20z\"/>\n",
              "  </svg>\n",
              "      </button>\n",
              "      \n",
              "  <style>\n",
              "    .colab-df-container {\n",
              "      display:flex;\n",
              "      flex-wrap:wrap;\n",
              "      gap: 12px;\n",
              "    }\n",
              "\n",
              "    .colab-df-convert {\n",
              "      background-color: #E8F0FE;\n",
              "      border: none;\n",
              "      border-radius: 50%;\n",
              "      cursor: pointer;\n",
              "      display: none;\n",
              "      fill: #1967D2;\n",
              "      height: 32px;\n",
              "      padding: 0 0 0 0;\n",
              "      width: 32px;\n",
              "    }\n",
              "\n",
              "    .colab-df-convert:hover {\n",
              "      background-color: #E2EBFA;\n",
              "      box-shadow: 0px 1px 2px rgba(60, 64, 67, 0.3), 0px 1px 3px 1px rgba(60, 64, 67, 0.15);\n",
              "      fill: #174EA6;\n",
              "    }\n",
              "\n",
              "    [theme=dark] .colab-df-convert {\n",
              "      background-color: #3B4455;\n",
              "      fill: #D2E3FC;\n",
              "    }\n",
              "\n",
              "    [theme=dark] .colab-df-convert:hover {\n",
              "      background-color: #434B5C;\n",
              "      box-shadow: 0px 1px 3px 1px rgba(0, 0, 0, 0.15);\n",
              "      filter: drop-shadow(0px 1px 2px rgba(0, 0, 0, 0.3));\n",
              "      fill: #FFFFFF;\n",
              "    }\n",
              "  </style>\n",
              "\n",
              "      <script>\n",
              "        const buttonEl =\n",
              "          document.querySelector('#df-eeaa2f99-940b-4ff8-8f33-c45db0a497ab button.colab-df-convert');\n",
              "        buttonEl.style.display =\n",
              "          google.colab.kernel.accessAllowed ? 'block' : 'none';\n",
              "\n",
              "        async function convertToInteractive(key) {\n",
              "          const element = document.querySelector('#df-eeaa2f99-940b-4ff8-8f33-c45db0a497ab');\n",
              "          const dataTable =\n",
              "            await google.colab.kernel.invokeFunction('convertToInteractive',\n",
              "                                                     [key], {});\n",
              "          if (!dataTable) return;\n",
              "\n",
              "          const docLinkHtml = 'Like what you see? Visit the ' +\n",
              "            '<a target=\"_blank\" href=https://colab.research.google.com/notebooks/data_table.ipynb>data table notebook</a>'\n",
              "            + ' to learn more about interactive tables.';\n",
              "          element.innerHTML = '';\n",
              "          dataTable['output_type'] = 'display_data';\n",
              "          await google.colab.output.renderOutput(dataTable, element);\n",
              "          const docLink = document.createElement('div');\n",
              "          docLink.innerHTML = docLinkHtml;\n",
              "          element.appendChild(docLink);\n",
              "        }\n",
              "      </script>\n",
              "    </div>\n",
              "  </div>\n",
              "  "
            ]
          },
          "metadata": {},
          "execution_count": 9
        }
      ]
    },
    {
      "cell_type": "markdown",
      "source": [
        "### Modelo para Corriente"
      ],
      "metadata": {
        "id": "LReqMtT53-I-"
      }
    },
    {
      "cell_type": "code",
      "source": [
        "# Ajustamos la curva\n",
        "#fit polynomial models up to degree 5\n",
        "model1 = np.poly1d(np.polyfit(df_aprox.V_pv, df_aprox.I_pv, 1))\n",
        "model2 = np.poly1d(np.polyfit(df_aprox.V_pv, df_aprox.I_pv, 2))\n",
        "model3 = np.poly1d(np.polyfit(df_aprox.V_pv, df_aprox.I_pv, 3))\n",
        "model4 = np.poly1d(np.polyfit(df_aprox.V_pv, df_aprox.I_pv, 4))\n",
        "model5 = np.poly1d(np.polyfit(df_aprox.V_pv, df_aprox.I_pv, 5))\n",
        "\n",
        "#create scatterplot\n",
        "polyline = np.linspace(1, 200, 100)\n",
        "plt.scatter(df_aprox.V_pv, df_aprox.I_pv)\n",
        "\n",
        "#add fitted polynomial lines to scatterplot \n",
        "plt.plot(polyline, model1(polyline), color='green')\n",
        "plt.plot(polyline, model2(polyline), color='red')\n",
        "plt.plot(polyline, model3(polyline), color='purple')\n",
        "plt.plot(polyline, model4(polyline), color='blue')\n",
        "plt.plot(polyline, model5(polyline), color='orange')\n",
        "plt.show()"
      ],
      "metadata": {
        "id": "qilerYLE16O3",
        "outputId": "7726887b-9902-413f-a8f1-79f61026d72e",
        "colab": {
          "base_uri": "https://localhost:8080/",
          "height": 265
        }
      },
      "execution_count": 10,
      "outputs": [
        {
          "output_type": "display_data",
          "data": {
            "text/plain": [
              "<Figure size 432x288 with 1 Axes>"
            ],
            "image/png": "[encoded data removed]"
          },
          "metadata": {
            "needs_background": "light"
          }
        }
      ]
    },
    {
      "cell_type": "code",
      "source": [
        "#define function to calculate adjusted r-squared\n",
        "def adjR(x, y, degree):\n",
        "    results = {}\n",
        "    coeffs = np.polyfit(x, y, degree)\n",
        "    p = np.poly1d(coeffs)\n",
        "    yhat = p(x)\n",
        "    ybar = np.sum(y)/len(y)\n",
        "    ssreg = np.sum((yhat-ybar)**2)\n",
        "    sstot = np.sum((y - ybar)**2)\n",
        "    results['r_squared'] = 1- (((1-(ssreg/sstot))*(len(y)-1))/(len(y)-degree-1))\n",
        "\n",
        "    return results\n",
        "\n",
        "for i in range(1,6):\n",
        "  print(adjR(df_aprox.V_pv, df_aprox.I_pv, i))"
      ],
      "metadata": {
        "id": "GnK-y1YB2fCY",
        "outputId": "8afad585-c924-4707-e3a9-93297fe17355",
        "colab": {
          "base_uri": "https://localhost:8080/"
        }
      },
      "execution_count": 12,
      "outputs": [
        {
          "output_type": "stream",
          "name": "stdout",
          "text": [
            "{'r_squared': 0.4487414750626312}\n",
            "{'r_squared': 0.804551084831346}\n",
            "{'r_squared': 0.9625039074090337}\n",
            "{'r_squared': 0.9969668207395768}\n",
            "{'r_squared': 0.9986005415093702}\n"
          ]
        }
      ]
    },
    {
      "cell_type": "code",
      "source": [
        "print(model5)"
      ],
      "metadata": {
        "id": "N9ZkfaQj27va",
        "outputId": "0a0e740c-2bdc-435c-d442-02ae0137b45b",
        "colab": {
          "base_uri": "https://localhost:8080/"
        }
      },
      "execution_count": 13,
      "outputs": [
        {
          "output_type": "stream",
          "name": "stdout",
          "text": [
            "            5            4             3             2\n",
            "-9.478e-10 x + 2.54e-07 x - 2.009e-05 x + 0.0003348 x + 0.008208 x + 27.9\n"
          ]
        }
      ]
    },
    {
      "cell_type": "code",
      "source": [
        "def funcion_i(x):\n",
        "    return -9.478e-10*x**5 + 2.54e-07*x**4 - 2.009e-05*x**3 + 0.0003348*x**2 + 0.008208*x + 27.9"
      ],
      "metadata": {
        "id": "gZHuVFG83BUg"
      },
      "execution_count": 37,
      "outputs": []
    },
    {
      "cell_type": "code",
      "source": [
        "x = np.linspace(0,200,100)\n",
        "y = funcion_i(x)\n",
        "fig = plt.figure(figsize=(10, 6))\n",
        "plt.plot(x,y)\n",
        "plt.plot(df_aprox['V_pv'],df_aprox['I_pv'])\n",
        "plt.xlim(0,195)\n",
        "plt.ylim(0,30)\n",
        "plt.grid()\n",
        "plt.show()"
      ],
      "metadata": {
        "id": "3YCzJ6L63MKq",
        "outputId": "15bbf810-76ca-45f1-acba-a35a86592308",
        "colab": {
          "base_uri": "https://localhost:8080/",
          "height": 378
        }
      },
      "execution_count": 20,
      "outputs": [
        {
          "output_type": "display_data",
          "data": {
            "text/plain": [
              "<Figure size 720x432 with 1 Axes>"
            ],
            "image/png": "[encoded data removed]"
          },
          "metadata": {
            "needs_background": "light"
          }
        }
      ]
    },
    {
      "cell_type": "markdown",
      "source": [
        "### Modelo para Potencia\n"
      ],
      "metadata": {
        "id": "Lq7Cblg24B6L"
      }
    },
    {
      "cell_type": "code",
      "source": [
        "# Ajustamos la curva\n",
        "#fit polynomial models up to degree 5\n",
        "\n",
        "model1 = np.poly1d(np.polyfit(df_aprox.V_pv, df_aprox.P_pv, 1))\n",
        "model2 = np.poly1d(np.polyfit(df_aprox.V_pv, df_aprox.P_pv, 2))\n",
        "model3 = np.poly1d(np.polyfit(df_aprox.V_pv, df_aprox.P_pv, 3))\n",
        "model4 = np.poly1d(np.polyfit(df_aprox.V_pv, df_aprox.P_pv, 4))\n",
        "model5 = np.poly1d(np.polyfit(df_aprox.V_pv, df_aprox.P_pv, 5))\n",
        "\n",
        "#create scatterplot\n",
        "polyline = np.linspace(0, 195, 100)\n",
        "plt.scatter(df_aprox.V_pv, df_aprox.P_pv)\n",
        "\n",
        "#add fitted polynomial lines to scatterplot \n",
        "plt.plot(polyline, model1(polyline), color='green')\n",
        "plt.plot(polyline, model2(polyline), color='red')\n",
        "plt.plot(polyline, model3(polyline), color='purple')\n",
        "plt.plot(polyline, model4(polyline), color='blue')\n",
        "plt.plot(polyline, model5(polyline), color='orange')\n",
        "\n",
        "plt.show()"
      ],
      "metadata": {
        "id": "AxKcJxSo4Dzy",
        "outputId": "67c70c53-de56-48f5-d090-79a5e387a8e7",
        "colab": {
          "base_uri": "https://localhost:8080/",
          "height": 265
        }
      },
      "execution_count": 28,
      "outputs": [
        {
          "output_type": "display_data",
          "data": {
            "text/plain": [
              "<Figure size 432x288 with 1 Axes>"
            ],
            "image/png": "[encoded data removed]"
          },
          "metadata": {
            "needs_background": "light"
          }
        }
      ]
    },
    {
      "cell_type": "code",
      "source": [
        "#define function to calculate adjusted r-squared\n",
        "def adjR(x, y, degree):\n",
        "    results = {}\n",
        "    coeffs = np.polyfit(x, y, degree)\n",
        "    p = np.poly1d(coeffs)\n",
        "    yhat = p(x)\n",
        "    ybar = np.sum(y)/len(y)\n",
        "    ssreg = np.sum((yhat-ybar)**2)\n",
        "    sstot = np.sum((y - ybar)**2)\n",
        "    results['r_squared'] = 1- (((1-(ssreg/sstot))*(len(y)-1))/(len(y)-degree-1))\n",
        "\n",
        "    return results\n",
        "\n",
        "for i in range(1,6):\n",
        "  print(adjR(df_aprox.V_pv, df_aprox.P_pv, i))"
      ],
      "metadata": {
        "id": "SCPBHQhU4-RL",
        "outputId": "a4660d83-0dc5-4e76-c462-1741186767c2",
        "colab": {
          "base_uri": "https://localhost:8080/"
        }
      },
      "execution_count": 29,
      "outputs": [
        {
          "output_type": "stream",
          "name": "stdout",
          "text": [
            "{'r_squared': 0.10023753330243035}\n",
            "{'r_squared': 0.655083100498483}\n",
            "{'r_squared': 0.9222044750700639}\n",
            "{'r_squared': 0.992327795258567}\n",
            "{'r_squared': 0.9987608065441425}\n"
          ]
        }
      ]
    },
    {
      "cell_type": "code",
      "source": [
        "print(model5)"
      ],
      "metadata": {
        "id": "FpKlzs8C5C93",
        "outputId": "e34fd830-f945-4213-c45f-64b6b535078b",
        "colab": {
          "base_uri": "https://localhost:8080/"
        }
      },
      "execution_count": 30,
      "outputs": [
        {
          "output_type": "stream",
          "name": "stdout",
          "text": [
            "            5             4           3          2\n",
            "-2.892e-07 x + 9.628e-05 x - 0.01114 x + 0.5216 x + 19.24 x + 30.06\n"
          ]
        }
      ]
    },
    {
      "cell_type": "code",
      "source": [
        "def funcion_p(x):\n",
        "    return -2.892e-07*x**5 + 9.628e-05*x**4 - 0.01114*x**3 + 0.5216*x**2 + 19.24*x + 30.06"
      ],
      "metadata": {
        "id": "HuXUVn9z5G03"
      },
      "execution_count": 38,
      "outputs": []
    },
    {
      "cell_type": "code",
      "source": [
        "x = np.linspace(0,195,100)\n",
        "y = funcion_p(x)\n",
        "fig = plt.figure(figsize=(10, 6))\n",
        "plt.plot(x,y,label=\"Curva Simulink\")\n",
        "plt.plot(df_aprox['V_pv'],df_aprox['P_pv'], label=\"Curva Modelo\")\n",
        "plt.legend()\n",
        "plt.xlim(0,195)\n",
        "plt.ylim(0,4000)\n",
        "plt.grid()\n",
        "plt.show()"
      ],
      "metadata": {
        "id": "2VZ7yvrd5SJI",
        "outputId": "65593878-863a-463b-f2fb-813b5872b597",
        "colab": {
          "base_uri": "https://localhost:8080/",
          "height": 378
        }
      },
      "execution_count": 34,
      "outputs": [
        {
          "output_type": "display_data",
          "data": {
            "text/plain": [
              "<Figure size 720x432 with 1 Axes>"
            ],
            "image/png": "[encoded data removed]"
          },
          "metadata": {
            "needs_background": "light"
          }
        }
      ]
    },
    {
      "cell_type": "markdown",
      "source": [
        "### Error de prediccion"
      ],
      "metadata": {
        "id": "HvAuP5To57e3"
      }
    },
    {
      "cell_type": "code",
      "source": [
        "df_aprox['i_pred'] = funcion_i(df_aprox['V_pv'])\n",
        "df_aprox['p_pred'] = funcion_p(df_aprox['V_pv'])\n",
        "\n",
        "\n",
        "# Filtrar las filas cuyos valores de corriente es negativo\n",
        "\n",
        "filtro = df_aprox['I_pv'] > 0\n",
        "dataF = df_aprox[filtro]\n",
        "dataF"
      ],
      "metadata": {
        "id": "zfMy6PLI59dl",
        "outputId": "30113726-9aaa-42ba-a459-177ea2028589",
        "colab": {
          "base_uri": "https://localhost:8080/",
          "height": 424
        }
      },
      "execution_count": 41,
      "outputs": [
        {
          "output_type": "execute_result",
          "data": {
            "text/plain": [
              "     V_pv      I_pv       P_pv     i_pred       p_pred\n",
              "0       0  28.03000    0.00000  27.900000    30.060000\n",
              "1       1  28.02800   28.02800  27.908523    49.810556\n",
              "2       2  28.02600   56.05200  27.917599    70.538811\n",
              "3       3  28.02400   84.07200  27.927115    92.181348\n",
              "4       4  28.02300  112.09200  27.936967   114.676992\n",
              "..    ...       ...        ...        ...          ...\n",
              "185   185   4.96470  918.46950   5.809590  1014.954536\n",
              "186   186   3.89300  724.09800   4.742009   823.809348\n",
              "187   187   2.79980  523.56260   3.636145   624.026402\n",
              "188   188   1.68570  316.91160   2.491038   415.366261\n",
              "189   189   0.55156  104.24484   1.305709   197.585310\n",
              "\n",
              "[190 rows x 5 columns]"
            ],
            "text/html": [
              "\n",
              "  <div id=\"df-9bf274e3-aa49-4885-95d9-8ea34b476154\">\n",
              "    <div class=\"colab-df-container\">\n",
              "      <div>\n",
              "<style scoped>\n",
              "    .dataframe tbody tr th:only-of-type {\n",
              "        vertical-align: middle;\n",
              "    }\n",
              "\n",
              "    .dataframe tbody tr th {\n",
              "        vertical-align: top;\n",
              "    }\n",
              "\n",
              "    .dataframe thead th {\n",
              "        text-align: right;\n",
              "    }\n",
              "</style>\n",
              "<table border=\"1\" class=\"dataframe\">\n",
              "  <thead>\n",
              "    <tr style=\"text-align: right;\">\n",
              "      <th></th>\n",
              "      <th>V_pv</th>\n",
              "      <th>I_pv</th>\n",
              "      <th>P_pv</th>\n",
              "      <th>i_pred</th>\n",
              "      <th>p_pred</th>\n",
              "    </tr>\n",
              "  </thead>\n",
              "  <tbody>\n",
              "    <tr>\n",
              "      <th>0</th>\n",
              "      <td>0</td>\n",
              "      <td>28.03000</td>\n",
              "      <td>0.00000</td>\n",
              "      <td>27.900000</td>\n",
              "      <td>30.060000</td>\n",
              "    </tr>\n",
              "    <tr>\n",
              "      <th>1</th>\n",
              "      <td>1</td>\n",
              "      <td>28.02800</td>\n",
              "      <td>28.02800</td>\n",
              "      <td>27.908523</td>\n",
              "      <td>49.810556</td>\n",
              "    </tr>\n",
              "    <tr>\n",
              "      <th>2</th>\n",
              "      <td>2</td>\n",
              "      <td>28.02600</td>\n",
              "      <td>56.05200</td>\n",
              "      <td>27.917599</td>\n",
              "      <td>70.538811</td>\n",
              "    </tr>\n",
              "    <tr>\n",
              "      <th>3</th>\n",
              "      <td>3</td>\n",
              "      <td>28.02400</td>\n",
              "      <td>84.07200</td>\n",
              "      <td>27.927115</td>\n",
              "      <td>92.181348</td>\n",
              "    </tr>\n",
              "    <tr>\n",
              "      <th>4</th>\n",
              "      <td>4</td>\n",
              "      <td>28.02300</td>\n",
              "      <td>112.09200</td>\n",
              "      <td>27.936967</td>\n",
              "      <td>114.676992</td>\n",
              "    </tr>\n",
              "    <tr>\n",
              "      <th>...</th>\n",
              "      <td>...</td>\n",
              "      <td>...</td>\n",
              "      <td>...</td>\n",
              "      <td>...</td>\n",
              "      <td>...</td>\n",
              "    </tr>\n",
              "    <tr>\n",
              "      <th>185</th>\n",
              "      <td>185</td>\n",
              "      <td>4.96470</td>\n",
              "      <td>918.46950</td>\n",
              "      <td>5.809590</td>\n",
              "      <td>1014.954536</td>\n",
              "    </tr>\n",
              "    <tr>\n",
              "      <th>186</th>\n",
              "      <td>186</td>\n",
              "      <td>3.89300</td>\n",
              "      <td>724.09800</td>\n",
              "      <td>4.742009</td>\n",
              "      <td>823.809348</td>\n",
              "    </tr>\n",
              "    <tr>\n",
              "      <th>187</th>\n",
              "      <td>187</td>\n",
              "      <td>2.79980</td>\n",
              "      <td>523.56260</td>\n",
              "      <td>3.636145</td>\n",
              "      <td>624.026402</td>\n",
              "    </tr>\n",
              "    <tr>\n",
              "      <th>188</th>\n",
              "      <td>188</td>\n",
              "      <td>1.68570</td>\n",
              "      <td>316.91160</td>\n",
              "      <td>2.491038</td>\n",
              "      <td>415.366261</td>\n",
              "    </tr>\n",
              "    <tr>\n",
              "      <th>189</th>\n",
              "      <td>189</td>\n",
              "      <td>0.55156</td>\n",
              "      <td>104.24484</td>\n",
              "      <td>1.305709</td>\n",
              "      <td>197.585310</td>\n",
              "    </tr>\n",
              "  </tbody>\n",
              "</table>\n",
              "<p>190 rows × 5 columns</p>\n",
              "</div>\n",
              "      <button class=\"colab-df-convert\" onclick=\"convertToInteractive('df-9bf274e3-aa49-4885-95d9-8ea34b476154')\"\n",
              "              title=\"Convert this dataframe to an interactive table.\"\n",
              "              style=\"display:none;\">\n",
              "        \n",
              "  <svg xmlns=\"http://www.w3.org/2000/svg\" height=\"24px\"viewBox=\"0 0 24 24\"\n",
              "       width=\"24px\">\n",
              "    <path d=\"M0 0h24v24H0V0z\" fill=\"none\"/>\n",
              "    <path d=\"M18.56 5.44l.94 2.06.94-2.06 2.06-.94-2.06-.94-.94-2.06-.94 2.06-2.06.94zm-11 1L8.5 8.5l.94-2.06 2.06-.94-2.06-.94L8.5 2.5l-.94 2.06-2.06.94zm10 10l.94 2.06.94-2.06 2.06-.94-2.06-.94-.94-2.06-.94 2.06-2.06.94z\"/><path d=\"M17.41 7.96l-1.37-1.37c-.4-.4-.92-.59-1.43-.59-.52 0-1.04.2-1.43.59L10.3 9.45l-7.72 7.72c-.78.78-.78 2.05 0 2.83L4 21.41c.39.39.9.59 1.41.59.51 0 1.02-.2 1.41-.59l7.78-7.78 2.81-2.81c.8-.78.8-2.07 0-2.86zM5.41 20L4 18.59l7.72-7.72 1.47 1.35L5.41 20z\"/>\n",
              "  </svg>\n",
              "      </button>\n",
              "      \n",
              "  <style>\n",
              "    .colab-df-container {\n",
              "      display:flex;\n",
              "      flex-wrap:wrap;\n",
              "      gap: 12px;\n",
              "    }\n",
              "\n",
              "    .colab-df-convert {\n",
              "      background-color: #E8F0FE;\n",
              "      border: none;\n",
              "      border-radius: 50%;\n",
              "      cursor: pointer;\n",
              "      display: none;\n",
              "      fill: #1967D2;\n",
              "      height: 32px;\n",
              "      padding: 0 0 0 0;\n",
              "      width: 32px;\n",
              "    }\n",
              "\n",
              "    .colab-df-convert:hover {\n",
              "      background-color: #E2EBFA;\n",
              "      box-shadow: 0px 1px 2px rgba(60, 64, 67, 0.3), 0px 1px 3px 1px rgba(60, 64, 67, 0.15);\n",
              "      fill: #174EA6;\n",
              "    }\n",
              "\n",
              "    [theme=dark] .colab-df-convert {\n",
              "      background-color: #3B4455;\n",
              "      fill: #D2E3FC;\n",
              "    }\n",
              "\n",
              "    [theme=dark] .colab-df-convert:hover {\n",
              "      background-color: #434B5C;\n",
              "      box-shadow: 0px 1px 3px 1px rgba(0, 0, 0, 0.15);\n",
              "      filter: drop-shadow(0px 1px 2px rgba(0, 0, 0, 0.3));\n",
              "      fill: #FFFFFF;\n",
              "    }\n",
              "  </style>\n",
              "\n",
              "      <script>\n",
              "        const buttonEl =\n",
              "          document.querySelector('#df-9bf274e3-aa49-4885-95d9-8ea34b476154 button.colab-df-convert');\n",
              "        buttonEl.style.display =\n",
              "          google.colab.kernel.accessAllowed ? 'block' : 'none';\n",
              "\n",
              "        async function convertToInteractive(key) {\n",
              "          const element = document.querySelector('#df-9bf274e3-aa49-4885-95d9-8ea34b476154');\n",
              "          const dataTable =\n",
              "            await google.colab.kernel.invokeFunction('convertToInteractive',\n",
              "                                                     [key], {});\n",
              "          if (!dataTable) return;\n",
              "\n",
              "          const docLinkHtml = 'Like what you see? Visit the ' +\n",
              "            '<a target=\"_blank\" href=https://colab.research.google.com/notebooks/data_table.ipynb>data table notebook</a>'\n",
              "            + ' to learn more about interactive tables.';\n",
              "          element.innerHTML = '';\n",
              "          dataTable['output_type'] = 'display_data';\n",
              "          await google.colab.output.renderOutput(dataTable, element);\n",
              "          const docLink = document.createElement('div');\n",
              "          docLink.innerHTML = docLinkHtml;\n",
              "          element.appendChild(docLink);\n",
              "        }\n",
              "      </script>\n",
              "    </div>\n",
              "  </div>\n",
              "  "
            ]
          },
          "metadata": {},
          "execution_count": 41
        }
      ]
    },
    {
      "cell_type": "code",
      "source": [
        "dataF['error_i'] = 100*(abs(dataF['I_pv'] - dataF['i_pred'])/dataF['I_pv'] )\n",
        "dataF['error_p'] = 100*(abs(dataF['P_pv'] - dataF['p_pred'])/dataF['P_pv'] )\n",
        "dataF"
      ],
      "metadata": {
        "id": "IDDXmHtb7TcN",
        "outputId": "c798bb61-2bb7-4fc7-b5b7-bcc88d71b302",
        "colab": {
          "base_uri": "https://localhost:8080/",
          "height": 652
        }
      },
      "execution_count": 42,
      "outputs": [
        {
          "output_type": "stream",
          "name": "stderr",
          "text": [
            "/usr/local/lib/python3.7/dist-packages/ipykernel_launcher.py:1: SettingWithCopyWarning: \n",
            "A value is trying to be set on a copy of a slice from a DataFrame.\n",
            "Try using .loc[row_indexer,col_indexer] = value instead\n",
            "\n",
            "See the caveats in the documentation: https://pandas.pydata.org/pandas-docs/stable/user_guide/indexing.html#returning-a-view-versus-a-copy\n",
            "  \"\"\"Entry point for launching an IPython kernel.\n",
            "/usr/local/lib/python3.7/dist-packages/ipykernel_launcher.py:2: SettingWithCopyWarning: \n",
            "A value is trying to be set on a copy of a slice from a DataFrame.\n",
            "Try using .loc[row_indexer,col_indexer] = value instead\n",
            "\n",
            "See the caveats in the documentation: https://pandas.pydata.org/pandas-docs/stable/user_guide/indexing.html#returning-a-view-versus-a-copy\n",
            "  \n"
          ]
        },
        {
          "output_type": "execute_result",
          "data": {
            "text/plain": [
              "     V_pv      I_pv       P_pv     i_pred       p_pred     error_i    error_p\n",
              "0       0  28.03000    0.00000  27.900000    30.060000    0.463789        inf\n",
              "1       1  28.02800   28.02800  27.908523    49.810556    0.426277  77.717126\n",
              "2       2  28.02600   56.05200  27.917599    70.538811    0.386789  25.845307\n",
              "3       3  28.02400   84.07200  27.927115    92.181348    0.345721   9.645718\n",
              "4       4  28.02300  112.09200  27.936967   114.676992    0.307008   2.306134\n",
              "..    ...       ...        ...        ...          ...         ...        ...\n",
              "185   185   4.96470  918.46950   5.809590  1014.954536   17.017944  10.504980\n",
              "186   186   3.89300  724.09800   4.742009   823.809348   21.808604  13.770422\n",
              "187   187   2.79980  523.56260   3.636145   624.026402   29.871614  19.188499\n",
              "188   188   1.68570  316.91160   2.491038   415.366261   47.774674  31.066916\n",
              "189   189   0.55156  104.24484   1.305709   197.585310  136.730152  89.539655\n",
              "\n",
              "[190 rows x 7 columns]"
            ],
            "text/html": [
              "\n",
              "  <div id=\"df-1d83056c-884e-4b34-a7e7-e6c27c7e6868\">\n",
              "    <div class=\"colab-df-container\">\n",
              "      <div>\n",
              "<style scoped>\n",
              "    .dataframe tbody tr th:only-of-type {\n",
              "        vertical-align: middle;\n",
              "    }\n",
              "\n",
              "    .dataframe tbody tr th {\n",
              "        vertical-align: top;\n",
              "    }\n",
              "\n",
              "    .dataframe thead th {\n",
              "        text-align: right;\n",
              "    }\n",
              "</style>\n",
              "<table border=\"1\" class=\"dataframe\">\n",
              "  <thead>\n",
              "    <tr style=\"text-align: right;\">\n",
              "      <th></th>\n",
              "      <th>V_pv</th>\n",
              "      <th>I_pv</th>\n",
              "      <th>P_pv</th>\n",
              "      <th>i_pred</th>\n",
              "      <th>p_pred</th>\n",
              "      <th>error_i</th>\n",
              "      <th>error_p</th>\n",
              "    </tr>\n",
              "  </thead>\n",
              "  <tbody>\n",
              "    <tr>\n",
              "      <th>0</th>\n",
              "      <td>0</td>\n",
              "      <td>28.03000</td>\n",
              "      <td>0.00000</td>\n",
              "      <td>27.900000</td>\n",
              "      <td>30.060000</td>\n",
              "      <td>0.463789</td>\n",
              "      <td>inf</td>\n",
              "    </tr>\n",
              "    <tr>\n",
              "      <th>1</th>\n",
              "      <td>1</td>\n",
              "      <td>28.02800</td>\n",
              "      <td>28.02800</td>\n",
              "      <td>27.908523</td>\n",
              "      <td>49.810556</td>\n",
              "      <td>0.426277</td>\n",
              "      <td>77.717126</td>\n",
              "    </tr>\n",
              "    <tr>\n",
              "      <th>2</th>\n",
              "      <td>2</td>\n",
              "      <td>28.02600</td>\n",
              "      <td>56.05200</td>\n",
              "      <td>27.917599</td>\n",
              "      <td>70.538811</td>\n",
              "      <td>0.386789</td>\n",
              "      <td>25.845307</td>\n",
              "    </tr>\n",
              "    <tr>\n",
              "      <th>3</th>\n",
              "      <td>3</td>\n",
              "      <td>28.02400</td>\n",
              "      <td>84.07200</td>\n",
              "      <td>27.927115</td>\n",
              "      <td>92.181348</td>\n",
              "      <td>0.345721</td>\n",
              "      <td>9.645718</td>\n",
              "    </tr>\n",
              "    <tr>\n",
              "      <th>4</th>\n",
              "      <td>4</td>\n",
              "      <td>28.02300</td>\n",
              "      <td>112.09200</td>\n",
              "      <td>27.936967</td>\n",
              "      <td>114.676992</td>\n",
              "      <td>0.307008</td>\n",
              "      <td>2.306134</td>\n",
              "    </tr>\n",
              "    <tr>\n",
              "      <th>...</th>\n",
              "      <td>...</td>\n",
              "      <td>...</td>\n",
              "      <td>...</td>\n",
              "      <td>...</td>\n",
              "      <td>...</td>\n",
              "      <td>...</td>\n",
              "      <td>...</td>\n",
              "    </tr>\n",
              "    <tr>\n",
              "      <th>185</th>\n",
              "      <td>185</td>\n",
              "      <td>4.96470</td>\n",
              "      <td>918.46950</td>\n",
              "      <td>5.809590</td>\n",
              "      <td>1014.954536</td>\n",
              "      <td>17.017944</td>\n",
              "      <td>10.504980</td>\n",
              "    </tr>\n",
              "    <tr>\n",
              "      <th>186</th>\n",
              "      <td>186</td>\n",
              "      <td>3.89300</td>\n",
              "      <td>724.09800</td>\n",
              "      <td>4.742009</td>\n",
              "      <td>823.809348</td>\n",
              "      <td>21.808604</td>\n",
              "      <td>13.770422</td>\n",
              "    </tr>\n",
              "    <tr>\n",
              "      <th>187</th>\n",
              "      <td>187</td>\n",
              "      <td>2.79980</td>\n",
              "      <td>523.56260</td>\n",
              "      <td>3.636145</td>\n",
              "      <td>624.026402</td>\n",
              "      <td>29.871614</td>\n",
              "      <td>19.188499</td>\n",
              "    </tr>\n",
              "    <tr>\n",
              "      <th>188</th>\n",
              "      <td>188</td>\n",
              "      <td>1.68570</td>\n",
              "      <td>316.91160</td>\n",
              "      <td>2.491038</td>\n",
              "      <td>415.366261</td>\n",
              "      <td>47.774674</td>\n",
              "      <td>31.066916</td>\n",
              "    </tr>\n",
              "    <tr>\n",
              "      <th>189</th>\n",
              "      <td>189</td>\n",
              "      <td>0.55156</td>\n",
              "      <td>104.24484</td>\n",
              "      <td>1.305709</td>\n",
              "      <td>197.585310</td>\n",
              "      <td>136.730152</td>\n",
              "      <td>89.539655</td>\n",
              "    </tr>\n",
              "  </tbody>\n",
              "</table>\n",
              "<p>190 rows × 7 columns</p>\n",
              "</div>\n",
              "      <button class=\"colab-df-convert\" onclick=\"convertToInteractive('df-1d83056c-884e-4b34-a7e7-e6c27c7e6868')\"\n",
              "              title=\"Convert this dataframe to an interactive table.\"\n",
              "              style=\"display:none;\">\n",
              "        \n",
              "  <svg xmlns=\"http://www.w3.org/2000/svg\" height=\"24px\"viewBox=\"0 0 24 24\"\n",
              "       width=\"24px\">\n",
              "    <path d=\"M0 0h24v24H0V0z\" fill=\"none\"/>\n",
              "    <path d=\"M18.56 5.44l.94 2.06.94-2.06 2.06-.94-2.06-.94-.94-2.06-.94 2.06-2.06.94zm-11 1L8.5 8.5l.94-2.06 2.06-.94-2.06-.94L8.5 2.5l-.94 2.06-2.06.94zm10 10l.94 2.06.94-2.06 2.06-.94-2.06-.94-.94-2.06-.94 2.06-2.06.94z\"/><path d=\"M17.41 7.96l-1.37-1.37c-.4-.4-.92-.59-1.43-.59-.52 0-1.04.2-1.43.59L10.3 9.45l-7.72 7.72c-.78.78-.78 2.05 0 2.83L4 21.41c.39.39.9.59 1.41.59.51 0 1.02-.2 1.41-.59l7.78-7.78 2.81-2.81c.8-.78.8-2.07 0-2.86zM5.41 20L4 18.59l7.72-7.72 1.47 1.35L5.41 20z\"/>\n",
              "  </svg>\n",
              "      </button>\n",
              "      \n",
              "  <style>\n",
              "    .colab-df-container {\n",
              "      display:flex;\n",
              "      flex-wrap:wrap;\n",
              "      gap: 12px;\n",
              "    }\n",
              "\n",
              "    .colab-df-convert {\n",
              "      background-color: #E8F0FE;\n",
              "      border: none;\n",
              "      border-radius: 50%;\n",
              "      cursor: pointer;\n",
              "      display: none;\n",
              "      fill: #1967D2;\n",
              "      height: 32px;\n",
              "      padding: 0 0 0 0;\n",
              "      width: 32px;\n",
              "    }\n",
              "\n",
              "    .colab-df-convert:hover {\n",
              "      background-color: #E2EBFA;\n",
              "      box-shadow: 0px 1px 2px rgba(60, 64, 67, 0.3), 0px 1px 3px 1px rgba(60, 64, 67, 0.15);\n",
              "      fill: #174EA6;\n",
              "    }\n",
              "\n",
              "    [theme=dark] .colab-df-convert {\n",
              "      background-color: #3B4455;\n",
              "      fill: #D2E3FC;\n",
              "    }\n",
              "\n",
              "    [theme=dark] .colab-df-convert:hover {\n",
              "      background-color: #434B5C;\n",
              "      box-shadow: 0px 1px 3px 1px rgba(0, 0, 0, 0.15);\n",
              "      filter: drop-shadow(0px 1px 2px rgba(0, 0, 0, 0.3));\n",
              "      fill: #FFFFFF;\n",
              "    }\n",
              "  </style>\n",
              "\n",
              "      <script>\n",
              "        const buttonEl =\n",
              "          document.querySelector('#df-1d83056c-884e-4b34-a7e7-e6c27c7e6868 button.colab-df-convert');\n",
              "        buttonEl.style.display =\n",
              "          google.colab.kernel.accessAllowed ? 'block' : 'none';\n",
              "\n",
              "        async function convertToInteractive(key) {\n",
              "          const element = document.querySelector('#df-1d83056c-884e-4b34-a7e7-e6c27c7e6868');\n",
              "          const dataTable =\n",
              "            await google.colab.kernel.invokeFunction('convertToInteractive',\n",
              "                                                     [key], {});\n",
              "          if (!dataTable) return;\n",
              "\n",
              "          const docLinkHtml = 'Like what you see? Visit the ' +\n",
              "            '<a target=\"_blank\" href=https://colab.research.google.com/notebooks/data_table.ipynb>data table notebook</a>'\n",
              "            + ' to learn more about interactive tables.';\n",
              "          element.innerHTML = '';\n",
              "          dataTable['output_type'] = 'display_data';\n",
              "          await google.colab.output.renderOutput(dataTable, element);\n",
              "          const docLink = document.createElement('div');\n",
              "          docLink.innerHTML = docLinkHtml;\n",
              "          element.appendChild(docLink);\n",
              "        }\n",
              "      </script>\n",
              "    </div>\n",
              "  </div>\n",
              "  "
            ]
          },
          "metadata": {},
          "execution_count": 42
        }
      ]
    },
    {
      "cell_type": "code",
      "source": [
        "dataF2 = dataF.drop(dataF.index[0])\n",
        "dataF2"
      ],
      "metadata": {
        "id": "dW6gk7mi79TI",
        "outputId": "f62575d1-e2e4-407d-a3ad-0f5048b8389f",
        "colab": {
          "base_uri": "https://localhost:8080/",
          "height": 424
        }
      },
      "execution_count": 47,
      "outputs": [
        {
          "output_type": "execute_result",
          "data": {
            "text/plain": [
              "     V_pv      I_pv       P_pv     i_pred       p_pred     error_i    error_p\n",
              "1       1  28.02800   28.02800  27.908523    49.810556    0.426277  77.717126\n",
              "2       2  28.02600   56.05200  27.917599    70.538811    0.386789  25.845307\n",
              "3       3  28.02400   84.07200  27.927115    92.181348    0.345721   9.645718\n",
              "4       4  28.02300  112.09200  27.936967   114.676992    0.307008   2.306134\n",
              "5       5  28.02100  140.10500  27.947055   137.966771    0.263893   1.526162\n",
              "..    ...       ...        ...        ...          ...         ...        ...\n",
              "185   185   4.96470  918.46950   5.809590  1014.954536   17.017944  10.504980\n",
              "186   186   3.89300  724.09800   4.742009   823.809348   21.808604  13.770422\n",
              "187   187   2.79980  523.56260   3.636145   624.026402   29.871614  19.188499\n",
              "188   188   1.68570  316.91160   2.491038   415.366261   47.774674  31.066916\n",
              "189   189   0.55156  104.24484   1.305709   197.585310  136.730152  89.539655\n",
              "\n",
              "[189 rows x 7 columns]"
            ],
            "text/html": [
              "\n",
              "  <div id=\"df-49e9d592-bb03-437e-be63-879b59eb653f\">\n",
              "    <div class=\"colab-df-container\">\n",
              "      <div>\n",
              "<style scoped>\n",
              "    .dataframe tbody tr th:only-of-type {\n",
              "        vertical-align: middle;\n",
              "    }\n",
              "\n",
              "    .dataframe tbody tr th {\n",
              "        vertical-align: top;\n",
              "    }\n",
              "\n",
              "    .dataframe thead th {\n",
              "        text-align: right;\n",
              "    }\n",
              "</style>\n",
              "<table border=\"1\" class=\"dataframe\">\n",
              "  <thead>\n",
              "    <tr style=\"text-align: right;\">\n",
              "      <th></th>\n",
              "      <th>V_pv</th>\n",
              "      <th>I_pv</th>\n",
              "      <th>P_pv</th>\n",
              "      <th>i_pred</th>\n",
              "      <th>p_pred</th>\n",
              "      <th>error_i</th>\n",
              "      <th>error_p</th>\n",
              "    </tr>\n",
              "  </thead>\n",
              "  <tbody>\n",
              "    <tr>\n",
              "      <th>1</th>\n",
              "      <td>1</td>\n",
              "      <td>28.02800</td>\n",
              "      <td>28.02800</td>\n",
              "      <td>27.908523</td>\n",
              "      <td>49.810556</td>\n",
              "      <td>0.426277</td>\n",
              "      <td>77.717126</td>\n",
              "    </tr>\n",
              "    <tr>\n",
              "      <th>2</th>\n",
              "      <td>2</td>\n",
              "      <td>28.02600</td>\n",
              "      <td>56.05200</td>\n",
              "      <td>27.917599</td>\n",
              "      <td>70.538811</td>\n",
              "      <td>0.386789</td>\n",
              "      <td>25.845307</td>\n",
              "    </tr>\n",
              "    <tr>\n",
              "      <th>3</th>\n",
              "      <td>3</td>\n",
              "      <td>28.02400</td>\n",
              "      <td>84.07200</td>\n",
              "      <td>27.927115</td>\n",
              "      <td>92.181348</td>\n",
              "      <td>0.345721</td>\n",
              "      <td>9.645718</td>\n",
              "    </tr>\n",
              "    <tr>\n",
              "      <th>4</th>\n",
              "      <td>4</td>\n",
              "      <td>28.02300</td>\n",
              "      <td>112.09200</td>\n",
              "      <td>27.936967</td>\n",
              "      <td>114.676992</td>\n",
              "      <td>0.307008</td>\n",
              "      <td>2.306134</td>\n",
              "    </tr>\n",
              "    <tr>\n",
              "      <th>5</th>\n",
              "      <td>5</td>\n",
              "      <td>28.02100</td>\n",
              "      <td>140.10500</td>\n",
              "      <td>27.947055</td>\n",
              "      <td>137.966771</td>\n",
              "      <td>0.263893</td>\n",
              "      <td>1.526162</td>\n",
              "    </tr>\n",
              "    <tr>\n",
              "      <th>...</th>\n",
              "      <td>...</td>\n",
              "      <td>...</td>\n",
              "      <td>...</td>\n",
              "      <td>...</td>\n",
              "      <td>...</td>\n",
              "      <td>...</td>\n",
              "      <td>...</td>\n",
              "    </tr>\n",
              "    <tr>\n",
              "      <th>185</th>\n",
              "      <td>185</td>\n",
              "      <td>4.96470</td>\n",
              "      <td>918.46950</td>\n",
              "      <td>5.809590</td>\n",
              "      <td>1014.954536</td>\n",
              "      <td>17.017944</td>\n",
              "      <td>10.504980</td>\n",
              "    </tr>\n",
              "    <tr>\n",
              "      <th>186</th>\n",
              "      <td>186</td>\n",
              "      <td>3.89300</td>\n",
              "      <td>724.09800</td>\n",
              "      <td>4.742009</td>\n",
              "      <td>823.809348</td>\n",
              "      <td>21.808604</td>\n",
              "      <td>13.770422</td>\n",
              "    </tr>\n",
              "    <tr>\n",
              "      <th>187</th>\n",
              "      <td>187</td>\n",
              "      <td>2.79980</td>\n",
              "      <td>523.56260</td>\n",
              "      <td>3.636145</td>\n",
              "      <td>624.026402</td>\n",
              "      <td>29.871614</td>\n",
              "      <td>19.188499</td>\n",
              "    </tr>\n",
              "    <tr>\n",
              "      <th>188</th>\n",
              "      <td>188</td>\n",
              "      <td>1.68570</td>\n",
              "      <td>316.91160</td>\n",
              "      <td>2.491038</td>\n",
              "      <td>415.366261</td>\n",
              "      <td>47.774674</td>\n",
              "      <td>31.066916</td>\n",
              "    </tr>\n",
              "    <tr>\n",
              "      <th>189</th>\n",
              "      <td>189</td>\n",
              "      <td>0.55156</td>\n",
              "      <td>104.24484</td>\n",
              "      <td>1.305709</td>\n",
              "      <td>197.585310</td>\n",
              "      <td>136.730152</td>\n",
              "      <td>89.539655</td>\n",
              "    </tr>\n",
              "  </tbody>\n",
              "</table>\n",
              "<p>189 rows × 7 columns</p>\n",
              "</div>\n",
              "      <button class=\"colab-df-convert\" onclick=\"convertToInteractive('df-49e9d592-bb03-437e-be63-879b59eb653f')\"\n",
              "              title=\"Convert this dataframe to an interactive table.\"\n",
              "              style=\"display:none;\">\n",
              "        \n",
              "  <svg xmlns=\"http://www.w3.org/2000/svg\" height=\"24px\"viewBox=\"0 0 24 24\"\n",
              "       width=\"24px\">\n",
              "    <path d=\"M0 0h24v24H0V0z\" fill=\"none\"/>\n",
              "    <path d=\"M18.56 5.44l.94 2.06.94-2.06 2.06-.94-2.06-.94-.94-2.06-.94 2.06-2.06.94zm-11 1L8.5 8.5l.94-2.06 2.06-.94-2.06-.94L8.5 2.5l-.94 2.06-2.06.94zm10 10l.94 2.06.94-2.06 2.06-.94-2.06-.94-.94-2.06-.94 2.06-2.06.94z\"/><path d=\"M17.41 7.96l-1.37-1.37c-.4-.4-.92-.59-1.43-.59-.52 0-1.04.2-1.43.59L10.3 9.45l-7.72 7.72c-.78.78-.78 2.05 0 2.83L4 21.41c.39.39.9.59 1.41.59.51 0 1.02-.2 1.41-.59l7.78-7.78 2.81-2.81c.8-.78.8-2.07 0-2.86zM5.41 20L4 18.59l7.72-7.72 1.47 1.35L5.41 20z\"/>\n",
              "  </svg>\n",
              "      </button>\n",
              "      \n",
              "  <style>\n",
              "    .colab-df-container {\n",
              "      display:flex;\n",
              "      flex-wrap:wrap;\n",
              "      gap: 12px;\n",
              "    }\n",
              "\n",
              "    .colab-df-convert {\n",
              "      background-color: #E8F0FE;\n",
              "      border: none;\n",
              "      border-radius: 50%;\n",
              "      cursor: pointer;\n",
              "      display: none;\n",
              "      fill: #1967D2;\n",
              "      height: 32px;\n",
              "      padding: 0 0 0 0;\n",
              "      width: 32px;\n",
              "    }\n",
              "\n",
              "    .colab-df-convert:hover {\n",
              "      background-color: #E2EBFA;\n",
              "      box-shadow: 0px 1px 2px rgba(60, 64, 67, 0.3), 0px 1px 3px 1px rgba(60, 64, 67, 0.15);\n",
              "      fill: #174EA6;\n",
              "    }\n",
              "\n",
              "    [theme=dark] .colab-df-convert {\n",
              "      background-color: #3B4455;\n",
              "      fill: #D2E3FC;\n",
              "    }\n",
              "\n",
              "    [theme=dark] .colab-df-convert:hover {\n",
              "      background-color: #434B5C;\n",
              "      box-shadow: 0px 1px 3px 1px rgba(0, 0, 0, 0.15);\n",
              "      filter: drop-shadow(0px 1px 2px rgba(0, 0, 0, 0.3));\n",
              "      fill: #FFFFFF;\n",
              "    }\n",
              "  </style>\n",
              "\n",
              "      <script>\n",
              "        const buttonEl =\n",
              "          document.querySelector('#df-49e9d592-bb03-437e-be63-879b59eb653f button.colab-df-convert');\n",
              "        buttonEl.style.display =\n",
              "          google.colab.kernel.accessAllowed ? 'block' : 'none';\n",
              "\n",
              "        async function convertToInteractive(key) {\n",
              "          const element = document.querySelector('#df-49e9d592-bb03-437e-be63-879b59eb653f');\n",
              "          const dataTable =\n",
              "            await google.colab.kernel.invokeFunction('convertToInteractive',\n",
              "                                                     [key], {});\n",
              "          if (!dataTable) return;\n",
              "\n",
              "          const docLinkHtml = 'Like what you see? Visit the ' +\n",
              "            '<a target=\"_blank\" href=https://colab.research.google.com/notebooks/data_table.ipynb>data table notebook</a>'\n",
              "            + ' to learn more about interactive tables.';\n",
              "          element.innerHTML = '';\n",
              "          dataTable['output_type'] = 'display_data';\n",
              "          await google.colab.output.renderOutput(dataTable, element);\n",
              "          const docLink = document.createElement('div');\n",
              "          docLink.innerHTML = docLinkHtml;\n",
              "          element.appendChild(docLink);\n",
              "        }\n",
              "      </script>\n",
              "    </div>\n",
              "  </div>\n",
              "  "
            ]
          },
          "metadata": {},
          "execution_count": 47
        }
      ]
    },
    {
      "cell_type": "code",
      "source": [
        "plt.hist(dataF2['error_i'])"
      ],
      "metadata": {
        "id": "lorOEiXH8zXV",
        "outputId": "6d416def-2b45-440a-f2de-25124c056a02",
        "colab": {
          "base_uri": "https://localhost:8080/",
          "height": 352
        }
      },
      "execution_count": 50,
      "outputs": [
        {
          "output_type": "execute_result",
          "data": {
            "text/plain": [
              "(array([183.,   3.,   1.,   1.,   0.,   0.,   0.,   0.,   0.,   1.]),\n",
              " array([3.55117037e-03, 1.36762113e+01, 2.73488714e+01, 4.10215315e+01,\n",
              "        5.46941916e+01, 6.83668518e+01, 8.20395119e+01, 9.57121720e+01,\n",
              "        1.09384832e+02, 1.23057492e+02, 1.36730152e+02]),\n",
              " <a list of 10 Patch objects>)"
            ]
          },
          "metadata": {},
          "execution_count": 50
        },
        {
          "output_type": "display_data",
          "data": {
            "text/plain": [
              "<Figure size 432x288 with 1 Axes>"
            ],
            "image/png": "[encoded data removed]"
          },
          "metadata": {
            "needs_background": "light"
          }
        }
      ]
    },
    {
      "cell_type": "code",
      "source": [
        "plt.hist(dataF2['error_p'])"
      ],
      "metadata": {
        "id": "Se-2si7y9FBo",
        "outputId": "e57c8e58-eca2-4198-b98b-5041b6b9c7ab",
        "colab": {
          "base_uri": "https://localhost:8080/",
          "height": 352
        }
      },
      "execution_count": 51,
      "outputs": [
        {
          "output_type": "execute_result",
          "data": {
            "text/plain": [
              "(array([181.,   3.,   2.,   1.,   0.,   0.,   0.,   0.,   1.,   1.]),\n",
              " array([4.36244993e-03, 8.95789172e+00, 1.79114210e+01, 2.68649503e+01,\n",
              "        3.58184795e+01, 4.47720088e+01, 5.37255381e+01, 6.26790673e+01,\n",
              "        7.16325966e+01, 8.05861259e+01, 8.95396551e+01]),\n",
              " <a list of 10 Patch objects>)"
            ]
          },
          "metadata": {},
          "execution_count": 51
        },
        {
          "output_type": "display_data",
          "data": {
            "text/plain": [
              "<Figure size 432x288 with 1 Axes>"
            ],
            "image/png": "[encoded data removed]"
          },
          "metadata": {
            "needs_background": "light"
          }
        }
      ]
    },
    {
      "cell_type": "markdown",
      "source": [
        "## Aproximacion por 2 trozos"
      ],
      "metadata": {
        "id": "UnMURFH49L1z"
      }
    },
    {
      "cell_type": "code",
      "source": [
        "# Puntos de maxima potencia\n",
        "def PMM():\n",
        "    df_mask = df_aprox['P_pv']==df_aprox['P_pv'].max()\n",
        "    filtered_df = dataF2[df_mask]\n",
        "    return filtered_df\n",
        "\n",
        "pmm = PMM()\n",
        "print(pmm)"
      ],
      "metadata": {
        "id": "SL9VUQE9CE5U",
        "outputId": "b6c3a184-add2-46d9-8248-522e40842d57",
        "colab": {
          "base_uri": "https://localhost:8080/"
        }
      },
      "execution_count": 109,
      "outputs": [
        {
          "output_type": "stream",
          "name": "stdout",
          "text": [
            "     V_pv    I_pv     P_pv     i_pred    p_pred   error_i   error_p\n",
            "150   150  25.901  3885.15  25.474388  3835.185  1.647089  1.286051\n"
          ]
        },
        {
          "output_type": "stream",
          "name": "stderr",
          "text": [
            "/usr/local/lib/python3.7/dist-packages/ipykernel_launcher.py:4: UserWarning: Boolean Series key will be reindexed to match DataFrame index.\n",
            "  after removing the cwd from sys.path.\n"
          ]
        }
      ]
    },
    {
      "cell_type": "code",
      "source": [
        "# Funcion para obtener el indice del PMM\n",
        "def index_pmm():\n",
        "    pmm = PMM()\n",
        "    index = pmm.index.values[0]\n",
        "    return index"
      ],
      "metadata": {
        "id": "xskm-ldiCamG"
      },
      "execution_count": 110,
      "outputs": []
    },
    {
      "cell_type": "code",
      "source": [
        "# funcion para calcular el modelo de la curva ajustada\n",
        "def model(x,y,degree):\n",
        "    model = np.poly1d(np.polyfit(x, y, degree))\n",
        "    return model"
      ],
      "metadata": {
        "id": "dBs90qW2Cc5E"
      },
      "execution_count": 55,
      "outputs": []
    },
    {
      "cell_type": "code",
      "source": [
        "# Funcion para calcular el R-cuadrado ajustado\n",
        "def adjR(x, y, degree):\n",
        "    results = {}\n",
        "    coeffs = np.polyfit(x, y, degree)\n",
        "    p = np.poly1d(coeffs)\n",
        "    yhat = p(x)\n",
        "    ybar = np.sum(y)/len(y)\n",
        "    ssreg = np.sum((yhat-ybar)**2)\n",
        "    sstot = np.sum((y - ybar)**2)\n",
        "    results['r_squared'] = 1- (((1-(ssreg/sstot))*(len(y)-1))/(len(y)-degree-1))\n",
        "\n",
        "    return results"
      ],
      "metadata": {
        "id": "lRpr5-86CecF"
      },
      "execution_count": 56,
      "outputs": []
    },
    {
      "cell_type": "code",
      "source": [
        "i = index_pmm()\n",
        "\n",
        "rangos = [10, 20, 30, 40, 50]\n",
        "grados = [3,5,7]\n",
        "model1 = []\n",
        "model2 = []\n",
        "r2_1 = []\n",
        "r2_2 = []"
      ],
      "metadata": {
        "id": "TnTsjVkeCg-0",
        "outputId": "30636f69-ae34-4411-8606-b2d9b75f1d87",
        "colab": {
          "base_uri": "https://localhost:8080/"
        }
      },
      "execution_count": 113,
      "outputs": [
        {
          "output_type": "stream",
          "name": "stderr",
          "text": [
            "/usr/local/lib/python3.7/dist-packages/ipykernel_launcher.py:4: UserWarning: Boolean Series key will be reindexed to match DataFrame index.\n",
            "  after removing the cwd from sys.path.\n"
          ]
        }
      ]
    },
    {
      "cell_type": "code",
      "source": [
        "for g in grados:\n",
        "    for r in rangos:   \n",
        "        df1 = df_aprox.iloc[:i+r]\n",
        "        df2 = df_aprox.iloc[i-r:]\n",
        "        \n",
        "        v1 = df1.V_pv\n",
        "        p1 = df1.P_pv\n",
        "        v2 = df2.V_pv\n",
        "        p2 = df2.P_pv\n",
        "           \n",
        "        m1 = model(v1,p1,g)\n",
        "        m2 = model(v2,p2,g)\n",
        "            \n",
        "        model1.append(m1)\n",
        "        model2.append(m2)\n",
        "        \n",
        "        ad1 = adjR(v1, p1, g)\n",
        "        ad2 = adjR(v2, p2, g)\n",
        "        \n",
        "        r2_1.append(ad1)\n",
        "        r2_2.append(ad2)"
      ],
      "metadata": {
        "id": "CUf849W89QIT"
      },
      "execution_count": 114,
      "outputs": []
    },
    {
      "cell_type": "code",
      "source": [
        "for i in range(5):\n",
        "  print(model1[i])"
      ],
      "metadata": {
        "id": "5TYC8AKsC9gE",
        "outputId": "7d59cc09-16a4-43f0-97b4-db52b46a651f",
        "colab": {
          "base_uri": "https://localhost:8080/"
        }
      },
      "execution_count": 115,
      "outputs": [
        {
          "output_type": "stream",
          "name": "stdout",
          "text": [
            "            3          2\n",
            "-0.0006964 x + 0.1293 x + 21.61 x + 62.03\n",
            "           3          2\n",
            "-0.001379 x + 0.2734 x + 13.75 x + 146.4\n",
            "           3          2\n",
            "-0.002371 x + 0.4955 x + 0.9131 x + 292.6\n",
            "           3          2\n",
            "-0.003537 x + 0.7711 x - 15.92 x + 495.4\n",
            "           3         2\n",
            "-0.004682 x + 1.057 x - 34.3 x + 728.7\n"
          ]
        }
      ]
    },
    {
      "cell_type": "code",
      "source": [
        "def p1_1(x):\n",
        "    return -0.0006964*x**3 + 0.1293*x**2 + 21.61*x + 62.03\n",
        "def p1_2(x):\n",
        "    return -0.001379*x**3 + 0.2734*x**2 + 13.75*x + 146.4\n",
        "def p1_3(x):\n",
        "    return -0.002371*x**3 + 0.4955*x**2 + 0.9131*x + 292.6\n",
        "def p1_4(x):\n",
        "    return -0.003537*x**3 + 0.7711*x**2 - 15.92*x + 495.4\n",
        "def p1_5(x):\n",
        "    return -0.004682*x**3 + 1.057*x**2 - 34.3*x + 728.7\n"
      ],
      "metadata": {
        "id": "7tN7SWHyDN0Q"
      },
      "execution_count": 127,
      "outputs": []
    },
    {
      "cell_type": "code",
      "source": [
        "for i in range(5,10):\n",
        "  print(model1[i])"
      ],
      "metadata": {
        "id": "SHBs-ig-D-vG",
        "outputId": "0bfa2c08-b747-4673-9b60-b5554ca21de8",
        "colab": {
          "base_uri": "https://localhost:8080/"
        }
      },
      "execution_count": 128,
      "outputs": [
        {
          "output_type": "stream",
          "name": "stdout",
          "text": [
            "            5             4            3          2\n",
            "-1.715e-07 x + 5.636e-05 x - 0.006563 x + 0.3175 x + 22.23 x + 23.21\n",
            "            5             4           3          2\n",
            "-2.794e-07 x + 9.657e-05 x - 0.01183 x + 0.6039 x + 16.44 x + 49\n",
            "            5           4           3          2\n",
            "-3.642e-07 x + 0.00013 x - 0.01646 x + 0.8703 x + 10.74 x + 75.89\n",
            "            5             4         3          2\n",
            "-3.739e-07 x + 0.0001339 x - 0.017 x + 0.9019 x + 10.06 x + 79.15\n",
            "            5             4           3          2\n",
            "-3.001e-07 x + 0.0001012 x - 0.01193 x + 0.5738 x + 17.95 x + 37.08\n"
          ]
        }
      ]
    },
    {
      "cell_type": "code",
      "source": [
        "def p1_6(x):\n",
        "    return -1.715e-07*x*5 + 5.636e-05*x**4 - 0.006563*x**3 + 0.3175*x**2 + 22.23*x + 23.21\n",
        "def p1_7(x):\n",
        "    return -2.794e-07*x*5 + 9.657e-05*x**4 - 0.01183*x**3 + 0.6039*x**2 + 16.44*x + 49\n",
        "def p1_8(x):\n",
        "    return -3.642e-07*x*5 + 0.00013*x**4 - 0.01646*x**3 + 0.8703*x**2 + 10.74*x + 75.89\n",
        "def p1_9(x):\n",
        "    return -3.739e-07*x*5 + 0.0001339*x**4 - 0.017*x**3 + 0.9019*x**2+ 10.06*x + 79.15\n",
        "def p1_10(x):\n",
        "    return -3.001e-07*x*5 + 0.0001012*x**4- 0.01193*x**3 + 0.5738*x**2 + 17.95*x + 37.08"
      ],
      "metadata": {
        "id": "u_IFVxz5ENh-"
      },
      "execution_count": 129,
      "outputs": []
    },
    {
      "cell_type": "code",
      "source": [
        "for i in range(10,15):\n",
        "  print(model1[i])"
      ],
      "metadata": {
        "id": "fZr1Ojx4D-1x",
        "outputId": "6c31a8ca-d9f2-4273-aa43-ef50db02364b",
        "colab": {
          "base_uri": "https://localhost:8080/"
        }
      },
      "execution_count": 130,
      "outputs": [
        {
          "output_type": "stream",
          "name": "stdout",
          "text": [
            "            7             6            5             4            3\n",
            "-2.192e-11 x + 1.007e-08 x - 1.84e-06 x + 0.0001687 x - 0.008076 x\n",
            "           2\n",
            " + 0.1878 x + 26.24 x + 3.749\n",
            "            7            6             5             4            3\n",
            "-2.204e-11 x + 1.01e-08 x - 1.838e-06 x + 0.0001677 x - 0.007979 x\n",
            "           2\n",
            " + 0.1841 x + 26.29 x + 3.595\n",
            "            7             6             5             4            3\n",
            "-6.162e-12 x + 1.034e-09 x + 1.973e-07 x - 5.978e-05 x + 0.005209 x\n",
            "           2\n",
            " - 0.1891 x + 30.53 x - 7.154\n",
            "           7             6             5             4           3\n",
            "1.964e-11 x - 1.448e-08 x + 3.864e-06 x - 0.0004913 x + 0.03155 x\n",
            "           2\n",
            " - 0.9743 x + 39.93 x - 32.37\n",
            "           7             6             5             4           3\n",
            "3.957e-11 x - 2.706e-08 x + 6.992e-06 x - 0.0008783 x + 0.05639 x\n",
            "          2\n",
            " - 1.753 x + 49.74 x - 60.14\n"
          ]
        }
      ]
    },
    {
      "cell_type": "code",
      "source": [
        "def p1_11(x):\n",
        "    return -2.192e-11*x**7 + 1.007e-08*x**6 - 1.84e-06*x**5 + 0.0001687*x**4 - 0.008076*x**3 + 0.1878*x**2 + 26.24*x + 3.749\n",
        "def p1_12(x):\n",
        "    return -2.204e-11*x**7 + 1.01e-08*x**6 - 1.838e-06*x**5 + 0.0001677*x**4 - 0.007979*x**3 + 0.1841*x**2 + 26.29*x + 3.595\n",
        "def p1_13(x):\n",
        "    return -6.162e-12*x**7 + 1.034e-09*x**6 + 1.973e-07*x**5 - 5.978e-05*x**4 + 0.005209*x**3 - 0.1891*x**2 + 30.53*x - 7.154\n",
        "def p1_14(x):\n",
        "    return 1.964e-11*x**7 - 1.448e-08*x**6 + 3.864e-06*x**5 - 0.0004913*x**4 + 0.03155*x**3  - 0.9743*x**2 + 39.93*x - 32.37\n",
        "def p1_15(x):\n",
        "    return 3.957e-11*x**7 - 2.706e-08*x**6 + 6.992e-06*x**5 - 0.0008783*x**4 + 0.05639*x**3  - 1.753*x**2 + 49.74*x - 60.14\n"
      ],
      "metadata": {
        "id": "nhOtQqDmEOAM"
      },
      "execution_count": 131,
      "outputs": []
    },
    {
      "cell_type": "code",
      "source": [
        "v_max = 150\n",
        "p_max = 3885.15\n",
        "def error(a):\n",
        "    return round(((abs(a - p_max))/p_max)*100,2)"
      ],
      "metadata": {
        "id": "g65YlUMlO_8h"
      },
      "execution_count": 125,
      "outputs": []
    },
    {
      "cell_type": "code",
      "source": [
        "print(\"Error modelo 1: \", error(p1_1(v_max)))\n",
        "print(\"Error modelo 2: \", error(p1_2(v_max)))\n",
        "print(\"Error modelo 3: \", error(p1_3(v_max)))\n",
        "print(\"Error modelo 4: \", error(p1_4(v_max)))\n",
        "print(\"Error modelo 5: \", error(p1_5(v_max)))\n",
        "print(\"Error modelo 6: \", error(p1_6(v_max)))\n",
        "print(\"Error modelo 7: \", error(p1_7(v_max)))\n",
        "print(\"Error modelo 8: \", error(p1_8(v_max)))\n",
        "print(\"Error modelo 9: \", error(p1_9(v_max)))\n",
        "print(\"Error modelo 10: \", error(p1_10(v_max)))\n",
        "print(\"Error modelo 11: \", error(p1_11(v_max)))\n",
        "print(\"Error modelo 12: \", error(p1_12(v_max)))\n",
        "print(\"Error modelo 13: \", error(p1_13(v_max)))\n",
        "print(\"Error modelo 14: \", error(p1_14(v_max)))\n",
        "print(\"Error modelo 15: \", error(p1_15(v_max)))"
      ],
      "metadata": {
        "id": "_n7kdyK_PGx9",
        "outputId": "cd4d5eb8-2d12-4e41-8657-ef775ae205d2",
        "colab": {
          "base_uri": "https://localhost:8080/"
        }
      },
      "execution_count": 126,
      "outputs": [
        {
          "output_type": "stream",
          "name": "stdout",
          "text": [
            "Error modelo 1:  0.58\n",
            "Error modelo 2:  4.6\n",
            "Error modelo 3:  7.95\n",
            "Error modelo 4:  9.4\n",
            "Error modelo 5:  8.25\n",
            "Error modelo 6:  334.57\n",
            "Error modelo 7:  545.15\n",
            "Error modelo 8:  711.52\n",
            "Error modelo 9:  731.18\n",
            "Error modelo 10:  584.89\n",
            "Error modelo 11:  1.18\n",
            "Error modelo 12:  0.31\n",
            "Error modelo 13:  0.48\n",
            "Error modelo 14:  1.19\n",
            "Error modelo 15:  2.16\n"
          ]
        }
      ]
    },
    {
      "cell_type": "code",
      "source": [
        "for i in range(5):\n",
        "  print(model2[i])"
      ],
      "metadata": {
        "id": "cZuTWmTQP8qj",
        "outputId": "1beaac33-da30-460b-ee9a-9edcc401db2a",
        "colab": {
          "base_uri": "https://localhost:8080/"
        }
      },
      "execution_count": 134,
      "outputs": [
        {
          "output_type": "stream",
          "name": "stdout",
          "text": [
            "          3         2\n",
            "-0.01369 x + 4.199 x - 334.8 x + 5885\n",
            "          3         2\n",
            "-0.01903 x + 6.961 x - 808.3 x + 3.278e+04\n",
            "          3         2\n",
            "-0.02122 x + 8.063 x - 992.4 x + 4.294e+04\n",
            "          3         2\n",
            "-0.02109 x + 8.004 x - 983.2 x + 4.247e+04\n",
            "          3         2\n",
            "-0.01966 x + 7.322 x - 876.3 x + 3.698e+04\n"
          ]
        }
      ]
    },
    {
      "cell_type": "code",
      "source": [
        "def p2_1(x):\n",
        "    return -0.01369*x**3 + 4.199*x**2 - 334.8*x + 5885\n",
        "def p2_2(x):\n",
        "    return -0.01903*x**3 + 6.961*x**2 - 808.3*x + 3.278e+04\n",
        "def p2_3(x):\n",
        "    return -0.02122*x**3 + 8.063*x**2 - 992.4*x + 4.294e+04\n",
        "def p2_4(x):\n",
        "    return -0.02109*x**3 + 8.004*x**2 - 983.2*x + 4.247e+04\n",
        "def p2_5(x):\n",
        "    return -0.01966*x**3 + 7.322*x**2 - 876.3*x + 3.698e+04\n"
      ],
      "metadata": {
        "id": "_EKrLmvXQTPB"
      },
      "execution_count": 135,
      "outputs": []
    },
    {
      "cell_type": "code",
      "source": [
        "for i in range(5,10):\n",
        "  print(model2[i])"
      ],
      "metadata": {
        "id": "pvxuEc3GQtWc",
        "outputId": "76e965ba-0de1-427a-a627-23a883ff65e6",
        "colab": {
          "base_uri": "https://localhost:8080/"
        }
      },
      "execution_count": 136,
      "outputs": [
        {
          "output_type": "stream",
          "name": "stdout",
          "text": [
            "           5             4          3         2\n",
            "4.294e-07 x + 3.297e-05 x - 0.1607 x + 52.02 x - 6293 x + 2.703e+05\n",
            "           5            4          3         2\n",
            "3.872e-06 x - 0.002906 x + 0.8394 x - 117.5 x + 8024 x - 2.115e+05\n",
            "           5            4         3         2\n",
            "4.948e-06 x - 0.003803 x + 1.137 x - 166.6 x + 1.206e+04 x - 3.432e+05\n",
            "           5            4         3         2\n",
            "4.437e-06 x - 0.003392 x + 1.006 x - 145.9 x + 1.043e+04 x - 2.925e+05\n",
            "           5            4          3         2\n",
            "3.332e-06 x - 0.002526 x + 0.7369 x - 104.5 x + 7275 x - 1.974e+05\n"
          ]
        }
      ]
    },
    {
      "cell_type": "code",
      "source": [
        "def p2_6(x):\n",
        "    return 4.294e-07*x**5 + 3.297e-05*x**4 - 0.1607*x**3 + 52.02*x**2 - 6293*x + 2.703e+05\n",
        "def p2_7(x):\n",
        "    return 3.872e-06*x**5 - 0.002906*x**4 + 0.8394*x**3 - 117.5*x**2 + 8024*x - 2.115e+05\n",
        "def p2_8(x):\n",
        "    return 4.948e-06*x**5 - 0.003803*x**4 + 1.137*x**3 - 166.6*x**2 + 1.206e+04*x - 3.432e+05\n",
        "def p2_9(x):\n",
        "    return 4.437e-06*x**5 - 0.003392*x**4 + 1.006*x**3 - 145.9*x**2 + 1.043e+04*x - 2.925e+05\n",
        "def p2_10(x):\n",
        "    return 3.332e-06*x**5 - 0.002526*x**4 + 0.7369*x**3 - 104.5*x**2 + 7275*x - 1.974e+05"
      ],
      "metadata": {
        "id": "PpM9WANXQ7XI"
      },
      "execution_count": 137,
      "outputs": []
    },
    {
      "cell_type": "code",
      "source": [
        "for i in range(10,15):\n",
        "  print(model2[i])"
      ],
      "metadata": {
        "id": "q7w4b2DiRpS-",
        "outputId": "6d2ede15-36b4-4f14-bb93-f150b3fa1c05",
        "colab": {
          "base_uri": "https://localhost:8080/"
        }
      },
      "execution_count": 138,
      "outputs": [
        {
          "output_type": "stream",
          "name": "stdout",
          "text": [
            "           7            6             5          4         3        2\n",
            "1.058e-09 x - 1.41e-06 x + 0.0007947 x - 0.2457 x + 44.99 x - 4881 x + 2.906e+05 x - 7.331e+06\n",
            "            7             6             5          4         3        2\n",
            "-1.189e-09 x + 1.264e-06 x - 0.0005647 x + 0.1373 x - 19.59 x + 1635 x - 7.367e+04 x + 1.374e+06\n",
            "            7         6             5          4         3        2\n",
            "-1.823e-09 x + 2e-06 x - 0.0009302 x + 0.2377 x - 36.08 x + 3254 x - 1.617e+05 x + 3.416e+06\n",
            "            7             6             5          4         3        2\n",
            "-1.389e-09 x + 1.514e-06 x - 0.0006982 x + 0.1765 x - 26.45 x + 2351 x - 1.148e+05 x + 2.38e+06\n",
            "            7             6             5          4         3        2\n",
            "-7.425e-10 x + 8.093e-07 x - 0.0003711 x + 0.0928 x - 13.68 x + 1190 x - 5.659e+04 x + 1.139e+06\n"
          ]
        }
      ]
    },
    {
      "cell_type": "code",
      "source": [
        "def p2_11(x):\n",
        "    return 1.058e-09*x**7 - 1.41e-06*x**6 + 0.0007947*x**5 - 0.2457*x**4 + 44.99*x**3 - 4881*x**2 + 2.906e+05*x - 7.331e+06\n",
        "def p2_12(x):\n",
        "    return -1.189e-09*x**7 + 1.264e-06*x**6 - 0.0005647*x**5 + 0.1373*x**4 - 19.59*x**3 + 1635*x**2 - 7.367e+04*x + 1.374e+06\n",
        "def p2_13(x):\n",
        "    return -1.823e-09*x**7 + 2e-06*x**6 - 0.0009302*x**5 + 0.2377*x**4 - 36.08*x**3 + 3254*x**2 - 1.617e+05*x + 3.416e+06\n",
        "def p2_14(x):\n",
        "    return -1.389e-09*x**7 + 1.514e-06*x**6 - 0.0006982*x**5 + 0.1765*x**4 - 26.45*x**3 + 2351*x**2 - 1.148e+05*x + 2.38e+06\n",
        "def p2_15(x):\n",
        "    return -7.425e-10*x**7 + 8.093e-07*x**6 - 0.0003711*x**5 + 0.0928*x**4 - 13.68*x**3 + 1190*x**2 - 5.659e+04*x + 1.139e+06\n"
      ],
      "metadata": {
        "id": "jX6XBHPPST9C"
      },
      "execution_count": 139,
      "outputs": []
    },
    {
      "cell_type": "code",
      "source": [
        "print(\"Error modelo 1: \", error(p2_1(v_max)))\n",
        "print(\"Error modelo 2: \", error(p2_2(v_max)))\n",
        "print(\"Error modelo 3: \", error(p2_3(v_max)))\n",
        "print(\"Error modelo 4: \", error(p2_4(v_max)))\n",
        "print(\"Error modelo 5: \", error(p2_5(v_max)))\n",
        "print(\"Error modelo 6: \", error(p2_6(v_max)))\n",
        "print(\"Error modelo 7: \", error(p2_7(v_max)))\n",
        "print(\"Error modelo 8: \", error(p2_8(v_max)))\n",
        "print(\"Error modelo 9: \", error(p2_9(v_max)))\n",
        "print(\"Error modelo 10: \", error(p2_10(v_max)))\n",
        "print(\"Error modelo 11: \", error(p2_11(v_max)))\n",
        "print(\"Error modelo 12: \", error(p2_12(v_max)))\n",
        "print(\"Error modelo 13: \", error(p2_13(v_max)))\n",
        "print(\"Error modelo 14: \", error(p2_14(v_max)))\n",
        "print(\"Error modelo 15: \", error(p2_15(v_max)))"
      ],
      "metadata": {
        "id": "XjEznczzT9mT",
        "outputId": "485d9e11-ad62-4d5f-bbd2-0b4b69b18708",
        "colab": {
          "base_uri": "https://localhost:8080/"
        }
      },
      "execution_count": 140,
      "outputs": [
        {
          "output_type": "stream",
          "name": "stdout",
          "text": [
            "Error modelo 1:  1.38\n",
            "Error modelo 2:  1.19\n",
            "Error modelo 3:  0.13\n",
            "Error modelo 4:  0.41\n",
            "Error modelo 5:  1.09\n",
            "Error modelo 6:  3.84\n",
            "Error modelo 7:  7.91\n",
            "Error modelo 8:  32.43\n",
            "Error modelo 9:  9.0\n",
            "Error modelo 10:  0.29\n",
            "Error modelo 11:  445.75\n",
            "Error modelo 12:  429.44\n",
            "Error modelo 13:  845.25\n",
            "Error modelo 14:  242.03\n",
            "Error modelo 15:  26.01\n"
          ]
        }
      ]
    },
    {
      "cell_type": "code",
      "source": [
        "x = np.linspace(0, 200)\n",
        "y = np.piecewise(x, [ (x < v_max) & (x >= 0), (x <= 200) & (x >= v_max)], [lambda x: p1_1(x), lambda x: p2_3(x)])\n",
        "fig = plt.figure(figsize=(10, 6))\n",
        "plt.plot(x, y, \"b-\")\n",
        "plt.plot(dataF2.V_pv,dataF2.P_pv,\"r--\")\n",
        "plt.ylim(0,4000)\n",
        "plt.grid()\n",
        "plt.show()"
      ],
      "metadata": {
        "id": "cx9txrH3USUz",
        "outputId": "5b5eba83-e41c-43d8-b096-8435f4be0822",
        "colab": {
          "base_uri": "https://localhost:8080/",
          "height": 378
        }
      },
      "execution_count": 142,
      "outputs": [
        {
          "output_type": "display_data",
          "data": {
            "text/plain": [
              "<Figure size 720x432 with 1 Axes>"
            ],
            "image/png": "[encoded data removed]"
          },
          "metadata": {
            "needs_background": "light"
          }
        }
      ]
    },
    {
      "cell_type": "code",
      "source": [
        "df_trozo1 = df_aprox[:v_max]\n",
        "df_trozo1.head()"
      ],
      "metadata": {
        "id": "giyDYvTrh6Hp",
        "outputId": "a9d481e4-8f87-41a0-ad57-b5c90802fcd8",
        "colab": {
          "base_uri": "https://localhost:8080/",
          "height": 206
        }
      },
      "execution_count": 144,
      "outputs": [
        {
          "output_type": "execute_result",
          "data": {
            "text/plain": [
              "   V_pv    I_pv     P_pv\n",
              "0     0  28.030    0.000\n",
              "1     1  28.028   28.028\n",
              "2     2  28.026   56.052\n",
              "3     3  28.024   84.072\n",
              "4     4  28.023  112.092"
            ],
            "text/html": [
              "\n",
              "  <div id=\"df-a7901642-444f-4139-9f8f-89a5c2a96a84\">\n",
              "    <div class=\"colab-df-container\">\n",
              "      <div>\n",
              "<style scoped>\n",
              "    .dataframe tbody tr th:only-of-type {\n",
              "        vertical-align: middle;\n",
              "    }\n",
              "\n",
              "    .dataframe tbody tr th {\n",
              "        vertical-align: top;\n",
              "    }\n",
              "\n",
              "    .dataframe thead th {\n",
              "        text-align: right;\n",
              "    }\n",
              "</style>\n",
              "<table border=\"1\" class=\"dataframe\">\n",
              "  <thead>\n",
              "    <tr style=\"text-align: right;\">\n",
              "      <th></th>\n",
              "      <th>V_pv</th>\n",
              "      <th>I_pv</th>\n",
              "      <th>P_pv</th>\n",
              "    </tr>\n",
              "  </thead>\n",
              "  <tbody>\n",
              "    <tr>\n",
              "      <th>0</th>\n",
              "      <td>0</td>\n",
              "      <td>28.030</td>\n",
              "      <td>0.000</td>\n",
              "    </tr>\n",
              "    <tr>\n",
              "      <th>1</th>\n",
              "      <td>1</td>\n",
              "      <td>28.028</td>\n",
              "      <td>28.028</td>\n",
              "    </tr>\n",
              "    <tr>\n",
              "      <th>2</th>\n",
              "      <td>2</td>\n",
              "      <td>28.026</td>\n",
              "      <td>56.052</td>\n",
              "    </tr>\n",
              "    <tr>\n",
              "      <th>3</th>\n",
              "      <td>3</td>\n",
              "      <td>28.024</td>\n",
              "      <td>84.072</td>\n",
              "    </tr>\n",
              "    <tr>\n",
              "      <th>4</th>\n",
              "      <td>4</td>\n",
              "      <td>28.023</td>\n",
              "      <td>112.092</td>\n",
              "    </tr>\n",
              "  </tbody>\n",
              "</table>\n",
              "</div>\n",
              "      <button class=\"colab-df-convert\" onclick=\"convertToInteractive('df-a7901642-444f-4139-9f8f-89a5c2a96a84')\"\n",
              "              title=\"Convert this dataframe to an interactive table.\"\n",
              "              style=\"display:none;\">\n",
              "        \n",
              "  <svg xmlns=\"http://www.w3.org/2000/svg\" height=\"24px\"viewBox=\"0 0 24 24\"\n",
              "       width=\"24px\">\n",
              "    <path d=\"M0 0h24v24H0V0z\" fill=\"none\"/>\n",
              "    <path d=\"M18.56 5.44l.94 2.06.94-2.06 2.06-.94-2.06-.94-.94-2.06-.94 2.06-2.06.94zm-11 1L8.5 8.5l.94-2.06 2.06-.94-2.06-.94L8.5 2.5l-.94 2.06-2.06.94zm10 10l.94 2.06.94-2.06 2.06-.94-2.06-.94-.94-2.06-.94 2.06-2.06.94z\"/><path d=\"M17.41 7.96l-1.37-1.37c-.4-.4-.92-.59-1.43-.59-.52 0-1.04.2-1.43.59L10.3 9.45l-7.72 7.72c-.78.78-.78 2.05 0 2.83L4 21.41c.39.39.9.59 1.41.59.51 0 1.02-.2 1.41-.59l7.78-7.78 2.81-2.81c.8-.78.8-2.07 0-2.86zM5.41 20L4 18.59l7.72-7.72 1.47 1.35L5.41 20z\"/>\n",
              "  </svg>\n",
              "      </button>\n",
              "      \n",
              "  <style>\n",
              "    .colab-df-container {\n",
              "      display:flex;\n",
              "      flex-wrap:wrap;\n",
              "      gap: 12px;\n",
              "    }\n",
              "\n",
              "    .colab-df-convert {\n",
              "      background-color: #E8F0FE;\n",
              "      border: none;\n",
              "      border-radius: 50%;\n",
              "      cursor: pointer;\n",
              "      display: none;\n",
              "      fill: #1967D2;\n",
              "      height: 32px;\n",
              "      padding: 0 0 0 0;\n",
              "      width: 32px;\n",
              "    }\n",
              "\n",
              "    .colab-df-convert:hover {\n",
              "      background-color: #E2EBFA;\n",
              "      box-shadow: 0px 1px 2px rgba(60, 64, 67, 0.3), 0px 1px 3px 1px rgba(60, 64, 67, 0.15);\n",
              "      fill: #174EA6;\n",
              "    }\n",
              "\n",
              "    [theme=dark] .colab-df-convert {\n",
              "      background-color: #3B4455;\n",
              "      fill: #D2E3FC;\n",
              "    }\n",
              "\n",
              "    [theme=dark] .colab-df-convert:hover {\n",
              "      background-color: #434B5C;\n",
              "      box-shadow: 0px 1px 3px 1px rgba(0, 0, 0, 0.15);\n",
              "      filter: drop-shadow(0px 1px 2px rgba(0, 0, 0, 0.3));\n",
              "      fill: #FFFFFF;\n",
              "    }\n",
              "  </style>\n",
              "\n",
              "      <script>\n",
              "        const buttonEl =\n",
              "          document.querySelector('#df-a7901642-444f-4139-9f8f-89a5c2a96a84 button.colab-df-convert');\n",
              "        buttonEl.style.display =\n",
              "          google.colab.kernel.accessAllowed ? 'block' : 'none';\n",
              "\n",
              "        async function convertToInteractive(key) {\n",
              "          const element = document.querySelector('#df-a7901642-444f-4139-9f8f-89a5c2a96a84');\n",
              "          const dataTable =\n",
              "            await google.colab.kernel.invokeFunction('convertToInteractive',\n",
              "                                                     [key], {});\n",
              "          if (!dataTable) return;\n",
              "\n",
              "          const docLinkHtml = 'Like what you see? Visit the ' +\n",
              "            '<a target=\"_blank\" href=https://colab.research.google.com/notebooks/data_table.ipynb>data table notebook</a>'\n",
              "            + ' to learn more about interactive tables.';\n",
              "          element.innerHTML = '';\n",
              "          dataTable['output_type'] = 'display_data';\n",
              "          await google.colab.output.renderOutput(dataTable, element);\n",
              "          const docLink = document.createElement('div');\n",
              "          docLink.innerHTML = docLinkHtml;\n",
              "          element.appendChild(docLink);\n",
              "        }\n",
              "      </script>\n",
              "    </div>\n",
              "  </div>\n",
              "  "
            ]
          },
          "metadata": {},
          "execution_count": 144
        }
      ]
    },
    {
      "cell_type": "code",
      "source": [
        "df_trozo1.info()"
      ],
      "metadata": {
        "id": "5OwS-7xIkOk6",
        "outputId": "c886d3ef-6752-427a-b584-f12b36f90a18",
        "colab": {
          "base_uri": "https://localhost:8080/"
        }
      },
      "execution_count": 151,
      "outputs": [
        {
          "output_type": "stream",
          "name": "stdout",
          "text": [
            "<class 'pandas.core.frame.DataFrame'>\n",
            "RangeIndex: 150 entries, 0 to 149\n",
            "Data columns (total 18 columns):\n",
            " #   Column  Non-Null Count  Dtype  \n",
            "---  ------  --------------  -----  \n",
            " 0   V_pv    150 non-null    int64  \n",
            " 1   I_pv    150 non-null    float64\n",
            " 2   P_pv    150 non-null    float64\n",
            " 3   P1      150 non-null    float64\n",
            " 4   P2      150 non-null    float64\n",
            " 5   P3      150 non-null    float64\n",
            " 6   P4      150 non-null    float64\n",
            " 7   P5      150 non-null    float64\n",
            " 8   P6      150 non-null    float64\n",
            " 9   P7      150 non-null    float64\n",
            " 10  P8      150 non-null    float64\n",
            " 11  P9      150 non-null    float64\n",
            " 12  P10     150 non-null    float64\n",
            " 13  P11     150 non-null    float64\n",
            " 14  P12     150 non-null    float64\n",
            " 15  P13     150 non-null    float64\n",
            " 16  P14     150 non-null    float64\n",
            " 17  P15     150 non-null    float64\n",
            "dtypes: float64(17), int64(1)\n",
            "memory usage: 21.2 KB\n"
          ]
        }
      ]
    },
    {
      "cell_type": "code",
      "source": [
        "df_trozo1['P1'] = p1_1(df_trozo1['V_pv'])\n",
        "df_trozo1['P2'] = p1_2(df_trozo1['V_pv'])\n",
        "df_trozo1['P3'] = p1_3(df_trozo1['V_pv'])\n",
        "df_trozo1['P4'] = p1_4(df_trozo1['V_pv'])\n",
        "df_trozo1['P5'] = p1_5(df_trozo1['V_pv'])\n",
        "df_trozo1['P6'] = p1_6(df_trozo1['V_pv'])\n",
        "df_trozo1['P7'] = p1_7(df_trozo1['V_pv'])\n",
        "df_trozo1['P8'] = p1_8(df_trozo1['V_pv'])\n",
        "df_trozo1['P9'] = p1_9(df_trozo1['V_pv'])\n",
        "df_trozo1['P10'] = p1_10(df_trozo1['V_pv'])\n",
        "df_trozo1['P11'] = p1_11(df_trozo1['V_pv'])\n",
        "df_trozo1['P12'] = p1_12(df_trozo1['V_pv'])\n",
        "df_trozo1['P13'] = p1_13(df_trozo1['V_pv'])\n",
        "df_trozo1['P14'] = p1_14(df_trozo1['V_pv'])\n",
        "df_trozo1['P15'] = p1_15(df_trozo1['V_pv'])\n",
        "df_trozo1.head()"
      ],
      "metadata": {
        "id": "LQfhdBrijEL4"
      },
      "execution_count": null,
      "outputs": []
    },
    {
      "cell_type": "code",
      "source": [
        "def error_medio(x):\n",
        "  error = []\n",
        "  for i in range(150):\n",
        "    real = df_trozo1.iloc[i]['P_pv']\n",
        "    aprox = df_trozo1.iloc[i][x]\n",
        "    if real != 0:\n",
        "      e = 100*(abs(real-aprox)/real)\n",
        "      error.append(e)\n",
        "  media = np.mean(error)\n",
        "  std = np.std(error)\n",
        "  return print(f\"El promedio de error de {x} es: \", media, \"y la desv est: \", std)\n"
      ],
      "metadata": {
        "id": "UWeNWo_Ej5rU"
      },
      "execution_count": 164,
      "outputs": []
    },
    {
      "cell_type": "code",
      "source": [
        "for i in range(1,16):\n",
        "  x = f'P{i}'\n",
        "  error_medio(x)"
      ],
      "metadata": {
        "id": "6rn7ZGrfmL6j",
        "outputId": "dc86b3bc-de2e-4440-ddff-f0d7ac0161d4",
        "colab": {
          "base_uri": "https://localhost:8080/"
        }
      },
      "execution_count": 165,
      "outputs": [
        {
          "output_type": "stream",
          "name": "stdout",
          "text": [
            "El promedio de error de P1 es:  4.443110812745671 y la desv est:  18.311853896085776\n",
            "El promedio de error de P2 es:  10.463468289946828 y la desv est:  43.66436605063006\n",
            "El promedio de error de P3 es:  20.784303272636233 y la desv est:  88.0258033810762\n",
            "El promedio de error de P4 es:  35.12739523176626 y la desv est:  150.08056217798506\n",
            "El promedio de error de P5 es:  51.82989483539773 y la desv est:  221.9682704290052\n",
            "El promedio de error de P6 es:  63.91243728011967 y la desv est:  84.22111092870475\n",
            "El promedio de error de P7 es:  104.70262848380658 y la desv est:  137.1865982644151\n",
            "El promedio de error de P8 es:  137.12837540176614 y la desv est:  178.84893043599263\n",
            "El promedio de error de P9 es:  141.01780212115304 y la desv est:  183.78084769334106\n",
            "El promedio de error de P10 es:  111.66998591553178 y la desv est:  147.59393374218874\n",
            "El promedio de error de P11 es:  0.33692577136356094 y la desv est:  0.672531678049347\n",
            "El promedio de error de P12 es:  0.1988729411125218 y la desv est:  0.6141326656246826\n",
            "El promedio de error de P13 es:  0.4050661388123808 y la desv est:  1.4710828716093942\n",
            "El promedio de error de P14 es:  1.610180888245927 y la desv est:  6.519243510634082\n",
            "El promedio de error de P15 es:  3.1403382856000395 y la desv est:  12.205652447990222\n"
          ]
        }
      ]
    },
    {
      "cell_type": "code",
      "source": [
        "df_trozo2 = df_aprox[v_max-1:]\n",
        "df_trozo2.head()"
      ],
      "metadata": {
        "id": "iAH3IlceXjov",
        "outputId": "09a95c61-9d7b-44de-fa0f-24465792b462",
        "colab": {
          "base_uri": "https://localhost:8080/",
          "height": 206
        }
      },
      "execution_count": 166,
      "outputs": [
        {
          "output_type": "execute_result",
          "data": {
            "text/plain": [
              "     V_pv    I_pv      P_pv\n",
              "149   149  26.070  3884.430\n",
              "150   150  25.901  3885.150\n",
              "151   151  25.716  3883.116\n",
              "152   152  25.516  3878.432\n",
              "153   153  25.298  3870.594"
            ],
            "text/html": [
              "\n",
              "  <div id=\"df-364507fb-f01a-47ab-9098-7757a0c9859d\">\n",
              "    <div class=\"colab-df-container\">\n",
              "      <div>\n",
              "<style scoped>\n",
              "    .dataframe tbody tr th:only-of-type {\n",
              "        vertical-align: middle;\n",
              "    }\n",
              "\n",
              "    .dataframe tbody tr th {\n",
              "        vertical-align: top;\n",
              "    }\n",
              "\n",
              "    .dataframe thead th {\n",
              "        text-align: right;\n",
              "    }\n",
              "</style>\n",
              "<table border=\"1\" class=\"dataframe\">\n",
              "  <thead>\n",
              "    <tr style=\"text-align: right;\">\n",
              "      <th></th>\n",
              "      <th>V_pv</th>\n",
              "      <th>I_pv</th>\n",
              "      <th>P_pv</th>\n",
              "    </tr>\n",
              "  </thead>\n",
              "  <tbody>\n",
              "    <tr>\n",
              "      <th>149</th>\n",
              "      <td>149</td>\n",
              "      <td>26.070</td>\n",
              "      <td>3884.430</td>\n",
              "    </tr>\n",
              "    <tr>\n",
              "      <th>150</th>\n",
              "      <td>150</td>\n",
              "      <td>25.901</td>\n",
              "      <td>3885.150</td>\n",
              "    </tr>\n",
              "    <tr>\n",
              "      <th>151</th>\n",
              "      <td>151</td>\n",
              "      <td>25.716</td>\n",
              "      <td>3883.116</td>\n",
              "    </tr>\n",
              "    <tr>\n",
              "      <th>152</th>\n",
              "      <td>152</td>\n",
              "      <td>25.516</td>\n",
              "      <td>3878.432</td>\n",
              "    </tr>\n",
              "    <tr>\n",
              "      <th>153</th>\n",
              "      <td>153</td>\n",
              "      <td>25.298</td>\n",
              "      <td>3870.594</td>\n",
              "    </tr>\n",
              "  </tbody>\n",
              "</table>\n",
              "</div>\n",
              "      <button class=\"colab-df-convert\" onclick=\"convertToInteractive('df-364507fb-f01a-47ab-9098-7757a0c9859d')\"\n",
              "              title=\"Convert this dataframe to an interactive table.\"\n",
              "              style=\"display:none;\">\n",
              "        \n",
              "  <svg xmlns=\"http://www.w3.org/2000/svg\" height=\"24px\"viewBox=\"0 0 24 24\"\n",
              "       width=\"24px\">\n",
              "    <path d=\"M0 0h24v24H0V0z\" fill=\"none\"/>\n",
              "    <path d=\"M18.56 5.44l.94 2.06.94-2.06 2.06-.94-2.06-.94-.94-2.06-.94 2.06-2.06.94zm-11 1L8.5 8.5l.94-2.06 2.06-.94-2.06-.94L8.5 2.5l-.94 2.06-2.06.94zm10 10l.94 2.06.94-2.06 2.06-.94-2.06-.94-.94-2.06-.94 2.06-2.06.94z\"/><path d=\"M17.41 7.96l-1.37-1.37c-.4-.4-.92-.59-1.43-.59-.52 0-1.04.2-1.43.59L10.3 9.45l-7.72 7.72c-.78.78-.78 2.05 0 2.83L4 21.41c.39.39.9.59 1.41.59.51 0 1.02-.2 1.41-.59l7.78-7.78 2.81-2.81c.8-.78.8-2.07 0-2.86zM5.41 20L4 18.59l7.72-7.72 1.47 1.35L5.41 20z\"/>\n",
              "  </svg>\n",
              "      </button>\n",
              "      \n",
              "  <style>\n",
              "    .colab-df-container {\n",
              "      display:flex;\n",
              "      flex-wrap:wrap;\n",
              "      gap: 12px;\n",
              "    }\n",
              "\n",
              "    .colab-df-convert {\n",
              "      background-color: #E8F0FE;\n",
              "      border: none;\n",
              "      border-radius: 50%;\n",
              "      cursor: pointer;\n",
              "      display: none;\n",
              "      fill: #1967D2;\n",
              "      height: 32px;\n",
              "      padding: 0 0 0 0;\n",
              "      width: 32px;\n",
              "    }\n",
              "\n",
              "    .colab-df-convert:hover {\n",
              "      background-color: #E2EBFA;\n",
              "      box-shadow: 0px 1px 2px rgba(60, 64, 67, 0.3), 0px 1px 3px 1px rgba(60, 64, 67, 0.15);\n",
              "      fill: #174EA6;\n",
              "    }\n",
              "\n",
              "    [theme=dark] .colab-df-convert {\n",
              "      background-color: #3B4455;\n",
              "      fill: #D2E3FC;\n",
              "    }\n",
              "\n",
              "    [theme=dark] .colab-df-convert:hover {\n",
              "      background-color: #434B5C;\n",
              "      box-shadow: 0px 1px 3px 1px rgba(0, 0, 0, 0.15);\n",
              "      filter: drop-shadow(0px 1px 2px rgba(0, 0, 0, 0.3));\n",
              "      fill: #FFFFFF;\n",
              "    }\n",
              "  </style>\n",
              "\n",
              "      <script>\n",
              "        const buttonEl =\n",
              "          document.querySelector('#df-364507fb-f01a-47ab-9098-7757a0c9859d button.colab-df-convert');\n",
              "        buttonEl.style.display =\n",
              "          google.colab.kernel.accessAllowed ? 'block' : 'none';\n",
              "\n",
              "        async function convertToInteractive(key) {\n",
              "          const element = document.querySelector('#df-364507fb-f01a-47ab-9098-7757a0c9859d');\n",
              "          const dataTable =\n",
              "            await google.colab.kernel.invokeFunction('convertToInteractive',\n",
              "                                                     [key], {});\n",
              "          if (!dataTable) return;\n",
              "\n",
              "          const docLinkHtml = 'Like what you see? Visit the ' +\n",
              "            '<a target=\"_blank\" href=https://colab.research.google.com/notebooks/data_table.ipynb>data table notebook</a>'\n",
              "            + ' to learn more about interactive tables.';\n",
              "          element.innerHTML = '';\n",
              "          dataTable['output_type'] = 'display_data';\n",
              "          await google.colab.output.renderOutput(dataTable, element);\n",
              "          const docLink = document.createElement('div');\n",
              "          docLink.innerHTML = docLinkHtml;\n",
              "          element.appendChild(docLink);\n",
              "        }\n",
              "      </script>\n",
              "    </div>\n",
              "  </div>\n",
              "  "
            ]
          },
          "metadata": {},
          "execution_count": 166
        }
      ]
    },
    {
      "cell_type": "code",
      "source": [
        "df_trozo2.info()"
      ],
      "metadata": {
        "id": "9yOq8tvFnISH",
        "outputId": "3053ae5e-1ce1-49f2-ae7e-41cef47f0ee7",
        "colab": {
          "base_uri": "https://localhost:8080/"
        }
      },
      "execution_count": 167,
      "outputs": [
        {
          "output_type": "stream",
          "name": "stdout",
          "text": [
            "<class 'pandas.core.frame.DataFrame'>\n",
            "RangeIndex: 52 entries, 149 to 200\n",
            "Data columns (total 3 columns):\n",
            " #   Column  Non-Null Count  Dtype  \n",
            "---  ------  --------------  -----  \n",
            " 0   V_pv    52 non-null     int64  \n",
            " 1   I_pv    52 non-null     float64\n",
            " 2   P_pv    52 non-null     float64\n",
            "dtypes: float64(2), int64(1)\n",
            "memory usage: 1.3 KB\n"
          ]
        }
      ]
    },
    {
      "cell_type": "code",
      "source": [
        "df_trozo2['P1'] = p2_1(df_trozo2['V_pv'])\n",
        "df_trozo2['P2'] = p2_2(df_trozo2['V_pv'])\n",
        "df_trozo2['P3'] = p2_3(df_trozo2['V_pv'])\n",
        "df_trozo2['P4'] = p2_4(df_trozo2['V_pv'])\n",
        "df_trozo2['P5'] = p2_5(df_trozo2['V_pv'])\n",
        "df_trozo2['P6'] = p2_6(df_trozo2['V_pv'])\n",
        "df_trozo2['P7'] = p2_7(df_trozo2['V_pv'])\n",
        "df_trozo2['P8'] = p2_8(df_trozo2['V_pv'])\n",
        "df_trozo2['P9'] = p2_9(df_trozo2['V_pv'])\n",
        "df_trozo2['P10'] = p2_10(df_trozo2['V_pv'])\n",
        "df_trozo2['P11'] = p2_11(df_trozo2['V_pv'])\n",
        "df_trozo2['P12'] = p2_12(df_trozo2['V_pv'])\n",
        "df_trozo2['P13'] = p2_13(df_trozo2['V_pv'])\n",
        "df_trozo2['P14'] = p2_14(df_trozo2['V_pv'])\n",
        "df_trozo2['P15'] = p2_15(df_trozo2['V_pv'])"
      ],
      "metadata": {
        "id": "FQceJ_bPnN6v"
      },
      "execution_count": null,
      "outputs": []
    },
    {
      "cell_type": "code",
      "source": [
        "def error_medio(x):\n",
        "  error = []\n",
        "  for i in range(52):\n",
        "    real = df_trozo2.iloc[i]['P_pv']\n",
        "    aprox = df_trozo2.iloc[i][x]\n",
        "    if real != 0:\n",
        "      e = 100*(abs(real-aprox)/real)\n",
        "      error.append(e)\n",
        "  media = np.mean(error)\n",
        "  std = np.std(error)\n",
        "  return print(f\"El promedio de error de {x} es: \", media, \"y la desv est: \", std)"
      ],
      "metadata": {
        "id": "E_VASZhtYV-d"
      },
      "execution_count": 174,
      "outputs": []
    },
    {
      "cell_type": "code",
      "source": [
        "for i in range(1,16):\n",
        "  x = f'P{i}'\n",
        "  error_medio(x)"
      ],
      "metadata": {
        "id": "g_SuGlafYjAc",
        "outputId": "1643f814-df4a-4b0b-afbd-3e3a7ee7179f",
        "colab": {
          "base_uri": "https://localhost:8080/"
        }
      },
      "execution_count": 175,
      "outputs": [
        {
          "output_type": "stream",
          "name": "stdout",
          "text": [
            "El promedio de error de P1 es:  0.6782335437069752 y la desv est:  13.934783712081389\n",
            "El promedio de error de P2 es:  0.9592383081723503 y la desv est:  16.296840262700986\n",
            "El promedio de error de P3 es:  0.7963943879048487 y la desv est:  5.525462443037723\n",
            "El promedio de error de P4 es:  1.0114292409996104 y la desv est:  12.896275124152885\n",
            "El promedio de error de P5 es:  0.8669605508183522 y la desv est:  14.402685050618343\n",
            "El promedio de error de P6 es:  3.758419256767813 y la desv est:  55.85016902868651\n",
            "El promedio de error de P7 es:  7.788328083792328 y la desv est:  96.02148247434856\n",
            "El promedio de error de P8 es:  31.001443609290398 y la desv est:  356.2150592896234\n",
            "El promedio de error de P9 es:  8.761919648272869 y la desv est:  125.08740996477384\n",
            "El promedio de error de P10 es:  0.15831229133181715 y la desv est:  7.622208635624573\n",
            "El promedio de error de P11 es:  439.88713318990693 y la desv est:  6916.984251804879\n",
            "El promedio de error de P12 es:  443.8343975363483 y la desv est:  4789.038506072365\n",
            "El promedio de error de P13 es:  849.6588315216638 y la desv est:  13249.248947202812\n",
            "El promedio de error de P14 es:  268.24587434513876 y la desv est:  6727.200816364478\n",
            "El promedio de error de P15 es:  16.10738022034641 y la desv est:  386.84460602688637\n"
          ]
        }
      ]
    },
    {
      "cell_type": "code",
      "source": [
        "x = np.linspace(0, 200)\n",
        "y = np.piecewise(x, [ (x < v_max) & (x >= 0), (x <= 200) & (x >= v_max)], [lambda x: p1_12(x), lambda x: p2_3(x)])\n",
        "fig = plt.figure(figsize=(10, 6))\n",
        "plt.plot(x, y, \"b-\")\n",
        "plt.plot(df_aprox.V_pv,df_aprox.P_pv,\"r--\")\n",
        "plt.ylim(0,4000)\n",
        "plt.grid()\n",
        "plt.show()"
      ],
      "metadata": {
        "id": "k9Rybnm3oF38",
        "outputId": "026c4b64-42e4-480e-deab-2d2a99b9b1fb",
        "colab": {
          "base_uri": "https://localhost:8080/",
          "height": 378
        }
      },
      "execution_count": 177,
      "outputs": [
        {
          "output_type": "display_data",
          "data": {
            "text/plain": [
              "<Figure size 720x432 with 1 Axes>"
            ],
            "image/png": "[encoded data removed]"
          },
          "metadata": {
            "needs_background": "light"
          }
        }
      ]
    },
    {
      "cell_type": "markdown",
      "source": [
        "# Modelo de Red Neuronal para un Arreglo PV"
      ],
      "metadata": {
        "id": "-a7Lzh7bKChb"
      }
    },
    {
      "cell_type": "markdown",
      "source": [
        "Los datos entregados por el modelo ```Sunset.slx``` corresponden a 961 archivos iterados de la siguiente manera: 31 temperaturas ```T=[15-45]``` con un $\\Delta$ T = 1. Y 31 irradiancias ```G=[400-1000]``` con un $\\Delta$ G = 20.\n",
        "\n",
        "Cada archivo esta nombrado de la siguiente manera: ```Outputpv_T{T}_G{G}.txt``` que contienen los calculos obtenidos por simulink: La variacion de la corriente con respecto a la tension para una temperatura e irradiancia determinada.\n",
        "\n",
        "La tension varia de 0 a 200 V con un $\\Delta$ V = 1."
      ],
      "metadata": {
        "id": "y4cuGKr-KG7H"
      }
    },
    {
      "cell_type": "markdown",
      "source": [
        "## Procesamiento de Datos"
      ],
      "metadata": {
        "id": "Jbk1zagT9T2f"
      }
    },
    {
      "cell_type": "markdown",
      "source": [
        "### Data Potencia Maxima"
      ],
      "metadata": {
        "id": "45lm2QdR_5V4"
      }
    },
    {
      "cell_type": "code",
      "source": [
        "# Creacion de un dataframe general con la maxima potencia para cada T y G\n",
        "\n",
        "path = '/content/PV-System/Data_PV/'\n",
        "\n",
        "# Iteramos en los archivos para extraer la maxima potencia\n",
        "pot_max = []\n",
        "irra = []\n",
        "temp = []\n",
        "for t in range(15,45+1):\n",
        "  for g in range(400,1000+1,20):\n",
        "    filename = f'OutputPV_T{t}_G{g}.txt'\n",
        "    df = pd.read_csv(path + filename, header=None)\n",
        "    encabezado = [\"V\", \"I\"]\n",
        "    df.columns = encabezado\n",
        "    df['P'] = df['V'] * df['I']\n",
        "    pmm = df['P'].max()\n",
        "    pot_max.append(pmm)\n",
        "    irra.append(g)\n",
        "    temp.append(t)\n",
        "\n",
        "# Creacion del DF\n",
        "\n",
        "dataframe_pot = pd.DataFrame()\n",
        "dataframe_pot['T'] = temp\n",
        "dataframe_pot['G'] = irra\n",
        "dataframe_pot['Pmax'] = pot_max\n",
        "dataframe_pot"
      ],
      "metadata": {
        "colab": {
          "base_uri": "https://localhost:8080/",
          "height": 424
        },
        "id": "-wnWTchz_OBZ",
        "outputId": "5a8a35c9-cc4a-47c5-c0ff-977fd96ad01a"
      },
      "execution_count": 4,
      "outputs": [
        {
          "output_type": "execute_result",
          "data": {
            "text/plain": [
              "      T     G      Pmax\n",
              "0    15   400  1582.992\n",
              "1    15   420  1666.400\n",
              "2    15   440  1749.760\n",
              "3    15   460  1832.985\n",
              "4    15   480  1916.222\n",
              "..   ..   ...       ...\n",
              "956  45   920  3225.292\n",
              "957  45   940  3294.253\n",
              "958  45   960  3363.087\n",
              "959  45   980  3431.794\n",
              "960  45  1000  3500.247\n",
              "\n",
              "[961 rows x 3 columns]"
            ],
            "text/html": [
              "\n",
              "  <div id=\"df-8bfdc903-0aff-438d-9b89-740fbfd7c52b\">\n",
              "    <div class=\"colab-df-container\">\n",
              "      <div>\n",
              "<style scoped>\n",
              "    .dataframe tbody tr th:only-of-type {\n",
              "        vertical-align: middle;\n",
              "    }\n",
              "\n",
              "    .dataframe tbody tr th {\n",
              "        vertical-align: top;\n",
              "    }\n",
              "\n",
              "    .dataframe thead th {\n",
              "        text-align: right;\n",
              "    }\n",
              "</style>\n",
              "<table border=\"1\" class=\"dataframe\">\n",
              "  <thead>\n",
              "    <tr style=\"text-align: right;\">\n",
              "      <th></th>\n",
              "      <th>T</th>\n",
              "      <th>G</th>\n",
              "      <th>Pmax</th>\n",
              "    </tr>\n",
              "  </thead>\n",
              "  <tbody>\n",
              "    <tr>\n",
              "      <th>0</th>\n",
              "      <td>15</td>\n",
              "      <td>400</td>\n",
              "      <td>1582.992</td>\n",
              "    </tr>\n",
              "    <tr>\n",
              "      <th>1</th>\n",
              "      <td>15</td>\n",
              "      <td>420</td>\n",
              "      <td>1666.400</td>\n",
              "    </tr>\n",
              "    <tr>\n",
              "      <th>2</th>\n",
              "      <td>15</td>\n",
              "      <td>440</td>\n",
              "      <td>1749.760</td>\n",
              "    </tr>\n",
              "    <tr>\n",
              "      <th>3</th>\n",
              "      <td>15</td>\n",
              "      <td>460</td>\n",
              "      <td>1832.985</td>\n",
              "    </tr>\n",
              "    <tr>\n",
              "      <th>4</th>\n",
              "      <td>15</td>\n",
              "      <td>480</td>\n",
              "      <td>1916.222</td>\n",
              "    </tr>\n",
              "    <tr>\n",
              "      <th>...</th>\n",
              "      <td>...</td>\n",
              "      <td>...</td>\n",
              "      <td>...</td>\n",
              "    </tr>\n",
              "    <tr>\n",
              "      <th>956</th>\n",
              "      <td>45</td>\n",
              "      <td>920</td>\n",
              "      <td>3225.292</td>\n",
              "    </tr>\n",
              "    <tr>\n",
              "      <th>957</th>\n",
              "      <td>45</td>\n",
              "      <td>940</td>\n",
              "      <td>3294.253</td>\n",
              "    </tr>\n",
              "    <tr>\n",
              "      <th>958</th>\n",
              "      <td>45</td>\n",
              "      <td>960</td>\n",
              "      <td>3363.087</td>\n",
              "    </tr>\n",
              "    <tr>\n",
              "      <th>959</th>\n",
              "      <td>45</td>\n",
              "      <td>980</td>\n",
              "      <td>3431.794</td>\n",
              "    </tr>\n",
              "    <tr>\n",
              "      <th>960</th>\n",
              "      <td>45</td>\n",
              "      <td>1000</td>\n",
              "      <td>3500.247</td>\n",
              "    </tr>\n",
              "  </tbody>\n",
              "</table>\n",
              "<p>961 rows × 3 columns</p>\n",
              "</div>\n",
              "      <button class=\"colab-df-convert\" onclick=\"convertToInteractive('df-8bfdc903-0aff-438d-9b89-740fbfd7c52b')\"\n",
              "              title=\"Convert this dataframe to an interactive table.\"\n",
              "              style=\"display:none;\">\n",
              "        \n",
              "  <svg xmlns=\"http://www.w3.org/2000/svg\" height=\"24px\"viewBox=\"0 0 24 24\"\n",
              "       width=\"24px\">\n",
              "    <path d=\"M0 0h24v24H0V0z\" fill=\"none\"/>\n",
              "    <path d=\"M18.56 5.44l.94 2.06.94-2.06 2.06-.94-2.06-.94-.94-2.06-.94 2.06-2.06.94zm-11 1L8.5 8.5l.94-2.06 2.06-.94-2.06-.94L8.5 2.5l-.94 2.06-2.06.94zm10 10l.94 2.06.94-2.06 2.06-.94-2.06-.94-.94-2.06-.94 2.06-2.06.94z\"/><path d=\"M17.41 7.96l-1.37-1.37c-.4-.4-.92-.59-1.43-.59-.52 0-1.04.2-1.43.59L10.3 9.45l-7.72 7.72c-.78.78-.78 2.05 0 2.83L4 21.41c.39.39.9.59 1.41.59.51 0 1.02-.2 1.41-.59l7.78-7.78 2.81-2.81c.8-.78.8-2.07 0-2.86zM5.41 20L4 18.59l7.72-7.72 1.47 1.35L5.41 20z\"/>\n",
              "  </svg>\n",
              "      </button>\n",
              "      \n",
              "  <style>\n",
              "    .colab-df-container {\n",
              "      display:flex;\n",
              "      flex-wrap:wrap;\n",
              "      gap: 12px;\n",
              "    }\n",
              "\n",
              "    .colab-df-convert {\n",
              "      background-color: #E8F0FE;\n",
              "      border: none;\n",
              "      border-radius: 50%;\n",
              "      cursor: pointer;\n",
              "      display: none;\n",
              "      fill: #1967D2;\n",
              "      height: 32px;\n",
              "      padding: 0 0 0 0;\n",
              "      width: 32px;\n",
              "    }\n",
              "\n",
              "    .colab-df-convert:hover {\n",
              "      background-color: #E2EBFA;\n",
              "      box-shadow: 0px 1px 2px rgba(60, 64, 67, 0.3), 0px 1px 3px 1px rgba(60, 64, 67, 0.15);\n",
              "      fill: #174EA6;\n",
              "    }\n",
              "\n",
              "    [theme=dark] .colab-df-convert {\n",
              "      background-color: #3B4455;\n",
              "      fill: #D2E3FC;\n",
              "    }\n",
              "\n",
              "    [theme=dark] .colab-df-convert:hover {\n",
              "      background-color: #434B5C;\n",
              "      box-shadow: 0px 1px 3px 1px rgba(0, 0, 0, 0.15);\n",
              "      filter: drop-shadow(0px 1px 2px rgba(0, 0, 0, 0.3));\n",
              "      fill: #FFFFFF;\n",
              "    }\n",
              "  </style>\n",
              "\n",
              "      <script>\n",
              "        const buttonEl =\n",
              "          document.querySelector('#df-8bfdc903-0aff-438d-9b89-740fbfd7c52b button.colab-df-convert');\n",
              "        buttonEl.style.display =\n",
              "          google.colab.kernel.accessAllowed ? 'block' : 'none';\n",
              "\n",
              "        async function convertToInteractive(key) {\n",
              "          const element = document.querySelector('#df-8bfdc903-0aff-438d-9b89-740fbfd7c52b');\n",
              "          const dataTable =\n",
              "            await google.colab.kernel.invokeFunction('convertToInteractive',\n",
              "                                                     [key], {});\n",
              "          if (!dataTable) return;\n",
              "\n",
              "          const docLinkHtml = 'Like what you see? Visit the ' +\n",
              "            '<a target=\"_blank\" href=https://colab.research.google.com/notebooks/data_table.ipynb>data table notebook</a>'\n",
              "            + ' to learn more about interactive tables.';\n",
              "          element.innerHTML = '';\n",
              "          dataTable['output_type'] = 'display_data';\n",
              "          await google.colab.output.renderOutput(dataTable, element);\n",
              "          const docLink = document.createElement('div');\n",
              "          docLink.innerHTML = docLinkHtml;\n",
              "          element.appendChild(docLink);\n",
              "        }\n",
              "      </script>\n",
              "    </div>\n",
              "  </div>\n",
              "  "
            ]
          },
          "metadata": {},
          "execution_count": 4
        }
      ]
    },
    {
      "cell_type": "code",
      "source": [
        "dataframe_pot.info()"
      ],
      "metadata": {
        "id": "Cq1QCL6g_i06"
      },
      "execution_count": null,
      "outputs": []
    },
    {
      "cell_type": "code",
      "source": [
        "# Guardar el archivo local\n",
        "dataframe_pot.to_csv('Data_pot.csv')"
      ],
      "metadata": {
        "id": "aUi3reUp_oMZ"
      },
      "execution_count": null,
      "outputs": []
    },
    {
      "cell_type": "markdown",
      "source": [
        "### Data Potencia: Entrenamiento - Validacion "
      ],
      "metadata": {
        "id": "MHrUGz6S9WFW"
      }
    },
    {
      "cell_type": "code",
      "source": [
        "train_1, test_1 = train_test_split(dataframe_pot, test_size = 0.30)\n",
        "train_1.to_csv('train_pot.csv')\n",
        "test_1.to_csv('test_pot.csv')"
      ],
      "metadata": {
        "id": "vyIFXmOmAEsb"
      },
      "execution_count": null,
      "outputs": []
    },
    {
      "cell_type": "markdown",
      "source": [
        "## Modelo 1 - Potencia Max"
      ],
      "metadata": {
        "id": "benAs7S2Y0lO"
      }
    },
    {
      "cell_type": "markdown",
      "source": [
        "### RNA 1"
      ],
      "metadata": {
        "id": "Wjg7fHjsAjDZ"
      }
    },
    {
      "cell_type": "markdown",
      "source": [
        "Vamos a predecir la ```potencia maxima``` teniendo como entrada la ```temperatura``` y la ```irradiancia```."
      ],
      "metadata": {
        "id": "mQxlbfsXZBr8"
      }
    },
    {
      "cell_type": "code",
      "source": [
        "g = train_1['G']\n",
        "t = train_1['T']\n",
        "\n",
        "entrada = np.array(np.column_stack((g,t)), dtype='float')\n",
        "\n",
        "p = train_1['Pmax']\n",
        "salida = np.array(np.transpose(p), dtype='float')"
      ],
      "metadata": {
        "id": "8sLAOeqNjmtM"
      },
      "execution_count": null,
      "outputs": []
    },
    {
      "cell_type": "code",
      "source": [
        "oculta1 = tf.keras.layers.Dense(units=10, input_shape=[2])\n",
        "oculta2 = tf.keras.layers.Dense(units=10)\n",
        "output = tf.keras.layers.Dense(units=1)\n",
        "modelo = tf.keras.Sequential([oculta1,  oculta2, output])"
      ],
      "metadata": {
        "id": "fsn_yda6j8a2"
      },
      "execution_count": null,
      "outputs": []
    },
    {
      "cell_type": "code",
      "source": [
        "modelo.compile(\n",
        "    optimizer = tf.keras.optimizers.Adam(0.1),\n",
        "    loss = 'mean_squared_error'\n",
        ")"
      ],
      "metadata": {
        "id": "WYmb4g7WkJCK"
      },
      "execution_count": null,
      "outputs": []
    },
    {
      "cell_type": "code",
      "source": [
        "print(\"Comenzando entrettnamiento ... \")\n",
        "historial = modelo.fit(entrada,salida, epochs=100, verbose=False)\n",
        "print(\"Modelo entranado!\")"
      ],
      "metadata": {
        "colab": {
          "base_uri": "https://localhost:8080/"
        },
        "id": "GHRoKYVbkM9t",
        "outputId": "a65362a6-56c6-490b-d293-cecd9bf8b7fc"
      },
      "execution_count": null,
      "outputs": [
        {
          "output_type": "stream",
          "name": "stdout",
          "text": [
            "Comenzando entrettnamiento ... \n",
            "Modelo entranado!\n"
          ]
        }
      ]
    },
    {
      "cell_type": "code",
      "source": [
        "plt.xlabel(\"# Epoca\")\n",
        "plt.ylabel(\"Magnitud de perdida\")\n",
        "plt.plot(historial.history[\"loss\"])"
      ],
      "metadata": {
        "colab": {
          "base_uri": "https://localhost:8080/",
          "height": 296
        },
        "id": "Jb53fHjJkfba",
        "outputId": "e940ebd4-3032-417d-d021-69c1fcb4ac3f"
      },
      "execution_count": null,
      "outputs": [
        {
          "output_type": "execute_result",
          "data": {
            "text/plain": [
              "[<matplotlib.lines.Line2D at 0x7ff796b371d0>]"
            ]
          },
          "metadata": {},
          "execution_count": 96
        },
        {
          "output_type": "display_data",
          "data": {
            "text/plain": [
              "<Figure size 432x288 with 1 Axes>"
            ],
            "image/png": "[encoded data removed]"
          },
          "metadata": {
            "needs_background": "light"
          }
        }
      ]
    },
    {
      "cell_type": "markdown",
      "source": [
        "### RNA 2"
      ],
      "metadata": {
        "id": "O42o9h_kApQl"
      }
    },
    {
      "cell_type": "code",
      "source": [
        "g = train_1['G']\n",
        "t = train_1['T']\n",
        "\n",
        "entrada = np.array(np.column_stack((g,t)), dtype='float')\n",
        "\n",
        "p = train_1['Pmax']\n",
        "\n",
        "##############################################################\n",
        "\n",
        "salida = np.array(np.transpose(p), dtype='float')\n",
        "oculta1 = tf.keras.layers.Dense(units=5, input_shape=[2])\n",
        "oculta2 = tf.keras.layers.Dense(units=2)\n",
        "output = tf.keras.layers.Dense(units=1)\n",
        "\n",
        "###############################################################\n",
        "modelo = tf.keras.Sequential([oculta1,  oculta2, output])\n",
        "###############################################################\n",
        "\n",
        "modelo.compile(\n",
        "    optimizer = tf.keras.optimizers.Adam(0.1),\n",
        "    loss = 'mean_squared_error'\n",
        ")\n",
        "###############################################################\n",
        "\n",
        "print(\"Comenzando entrenamiento ... \")\n",
        "historial = modelo.fit(entrada,salida, epochs=100, verbose=False)\n",
        "print(\"Modelo entranado!\")\n",
        "###############################################################\n",
        "plt.xlabel(\"# Epoca\")\n",
        "plt.ylabel(\"Magnitud de perdida\")\n",
        "plt.plot(historial.history[\"loss\"])"
      ],
      "metadata": {
        "colab": {
          "base_uri": "https://localhost:8080/",
          "height": 342
        },
        "id": "PixjQX0Gk-i7",
        "outputId": "2a9dcb1d-a32d-4bda-d724-8c87c453cd7f"
      },
      "execution_count": null,
      "outputs": [
        {
          "output_type": "stream",
          "name": "stdout",
          "text": [
            "Comenzando entrenamiento ... \n",
            "Modelo entranado!\n"
          ]
        },
        {
          "output_type": "execute_result",
          "data": {
            "text/plain": [
              "[<matplotlib.lines.Line2D at 0x7f577315b790>]"
            ]
          },
          "metadata": {},
          "execution_count": 10
        },
        {
          "output_type": "display_data",
          "data": {
            "text/plain": [
              "<Figure size 432x288 with 1 Axes>"
            ],
            "image/png": "[encoded data removed]"
          },
          "metadata": {
            "needs_background": "light"
          }
        }
      ]
    },
    {
      "cell_type": "code",
      "source": [
        "print(\"Variables internas del modelo\")\n",
        "print(oculta1.get_weights())\n",
        "print(oculta2.get_weights())\n",
        "print(output.get_weights())"
      ],
      "metadata": {
        "colab": {
          "base_uri": "https://localhost:8080/"
        },
        "id": "SDWb2qJnmzlV",
        "outputId": "4939ea5b-77ba-457a-ca62-ab7bd81d0c86"
      },
      "execution_count": null,
      "outputs": [
        {
          "output_type": "stream",
          "name": "stdout",
          "text": [
            "Variables internas del modelo\n",
            "[array([[ 0.67033446, -0.2966106 , -0.01998537, -0.38660145,  1.0487925 ],\n",
            "       [-1.075884  , -0.20943986, -3.1135402 ,  0.02758573, -1.84972   ]],\n",
            "      dtype=float32), array([ 18.468002 ,   1.2586317,  27.301346 , -10.97803  ,  20.440323 ],\n",
            "      dtype=float32)]\n",
            "[array([[-0.17117049, -1.2795218 ],\n",
            "       [-0.31654954, -0.09632481],\n",
            "       [-0.6963905 , -0.80916595],\n",
            "       [ 0.03652098,  0.593637  ],\n",
            "       [-0.32155666, -1.7501591 ]], dtype=float32), array([ -2.9189575, -16.129646 ], dtype=float32)]\n",
            "[array([[-0.08504742],\n",
            "       [-1.3637999 ]], dtype=float32), array([15.210299], dtype=float32)]\n"
          ]
        }
      ]
    },
    {
      "cell_type": "code",
      "source": [
        "# Modelo\n",
        "w1 = np.array([[ 0.67033446, -0.2966106 , -0.01998537, -0.38660145,  1.0487925 ],\n",
        "       [-1.075884  , -0.20943986, -3.1135402 ,  0.02758573, -1.84972   ]],\n",
        "      dtype='float')\n",
        "b1 = np.array([ 18.468002 ,   1.2586317,  27.301346 , -10.97803  ,  20.440323 ],\n",
        "      dtype='float')\n",
        "w2 = np.array([[-0.17117049, -1.2795218 ],\n",
        "       [-0.31654954, -0.09632481],\n",
        "       [-0.6963905 , -0.80916595],\n",
        "       [ 0.03652098,  0.593637  ],\n",
        "       [-0.32155666, -1.7501591 ]], dtype='float')\n",
        "b2 = np.array([ -2.9189575, -16.129646 ], dtype='float')\n",
        "w3 = np.array([[-0.08504742],\n",
        "       [-1.3637999 ]], dtype='float')\n",
        "b3 = np.array([15.210299], dtype='float')"
      ],
      "metadata": {
        "id": "TiEAJ8eFnGni"
      },
      "execution_count": null,
      "outputs": []
    },
    {
      "cell_type": "code",
      "source": [
        "test_1.head()"
      ],
      "metadata": {
        "colab": {
          "base_uri": "https://localhost:8080/",
          "height": 206
        },
        "id": "1Lx8PxWiEBVx",
        "outputId": "26eadee9-1f32-4bae-fbd8-479316a5c9be"
      },
      "execution_count": null,
      "outputs": [
        {
          "output_type": "execute_result",
          "data": {
            "text/plain": [
              "      T    G      Pmax\n",
              "901  44  440  1529.080\n",
              "710  37  960  3521.040\n",
              "439  29  500  1890.510\n",
              "800  40  900  3249.988\n",
              "869  43  420  1464.832"
            ],
            "text/html": [
              "\n",
              "  <div id=\"df-4b111eb9-0c7f-4b1e-a64b-2db1fec8eaa1\">\n",
              "    <div class=\"colab-df-container\">\n",
              "      <div>\n",
              "<style scoped>\n",
              "    .dataframe tbody tr th:only-of-type {\n",
              "        vertical-align: middle;\n",
              "    }\n",
              "\n",
              "    .dataframe tbody tr th {\n",
              "        vertical-align: top;\n",
              "    }\n",
              "\n",
              "    .dataframe thead th {\n",
              "        text-align: right;\n",
              "    }\n",
              "</style>\n",
              "<table border=\"1\" class=\"dataframe\">\n",
              "  <thead>\n",
              "    <tr style=\"text-align: right;\">\n",
              "      <th></th>\n",
              "      <th>T</th>\n",
              "      <th>G</th>\n",
              "      <th>Pmax</th>\n",
              "    </tr>\n",
              "  </thead>\n",
              "  <tbody>\n",
              "    <tr>\n",
              "      <th>901</th>\n",
              "      <td>44</td>\n",
              "      <td>440</td>\n",
              "      <td>1529.080</td>\n",
              "    </tr>\n",
              "    <tr>\n",
              "      <th>710</th>\n",
              "      <td>37</td>\n",
              "      <td>960</td>\n",
              "      <td>3521.040</td>\n",
              "    </tr>\n",
              "    <tr>\n",
              "      <th>439</th>\n",
              "      <td>29</td>\n",
              "      <td>500</td>\n",
              "      <td>1890.510</td>\n",
              "    </tr>\n",
              "    <tr>\n",
              "      <th>800</th>\n",
              "      <td>40</td>\n",
              "      <td>900</td>\n",
              "      <td>3249.988</td>\n",
              "    </tr>\n",
              "    <tr>\n",
              "      <th>869</th>\n",
              "      <td>43</td>\n",
              "      <td>420</td>\n",
              "      <td>1464.832</td>\n",
              "    </tr>\n",
              "  </tbody>\n",
              "</table>\n",
              "</div>\n",
              "      <button class=\"colab-df-convert\" onclick=\"convertToInteractive('df-4b111eb9-0c7f-4b1e-a64b-2db1fec8eaa1')\"\n",
              "              title=\"Convert this dataframe to an interactive table.\"\n",
              "              style=\"display:none;\">\n",
              "        \n",
              "  <svg xmlns=\"http://www.w3.org/2000/svg\" height=\"24px\"viewBox=\"0 0 24 24\"\n",
              "       width=\"24px\">\n",
              "    <path d=\"M0 0h24v24H0V0z\" fill=\"none\"/>\n",
              "    <path d=\"M18.56 5.44l.94 2.06.94-2.06 2.06-.94-2.06-.94-.94-2.06-.94 2.06-2.06.94zm-11 1L8.5 8.5l.94-2.06 2.06-.94-2.06-.94L8.5 2.5l-.94 2.06-2.06.94zm10 10l.94 2.06.94-2.06 2.06-.94-2.06-.94-.94-2.06-.94 2.06-2.06.94z\"/><path d=\"M17.41 7.96l-1.37-1.37c-.4-.4-.92-.59-1.43-.59-.52 0-1.04.2-1.43.59L10.3 9.45l-7.72 7.72c-.78.78-.78 2.05 0 2.83L4 21.41c.39.39.9.59 1.41.59.51 0 1.02-.2 1.41-.59l7.78-7.78 2.81-2.81c.8-.78.8-2.07 0-2.86zM5.41 20L4 18.59l7.72-7.72 1.47 1.35L5.41 20z\"/>\n",
              "  </svg>\n",
              "      </button>\n",
              "      \n",
              "  <style>\n",
              "    .colab-df-container {\n",
              "      display:flex;\n",
              "      flex-wrap:wrap;\n",
              "      gap: 12px;\n",
              "    }\n",
              "\n",
              "    .colab-df-convert {\n",
              "      background-color: #E8F0FE;\n",
              "      border: none;\n",
              "      border-radius: 50%;\n",
              "      cursor: pointer;\n",
              "      display: none;\n",
              "      fill: #1967D2;\n",
              "      height: 32px;\n",
              "      padding: 0 0 0 0;\n",
              "      width: 32px;\n",
              "    }\n",
              "\n",
              "    .colab-df-convert:hover {\n",
              "      background-color: #E2EBFA;\n",
              "      box-shadow: 0px 1px 2px rgba(60, 64, 67, 0.3), 0px 1px 3px 1px rgba(60, 64, 67, 0.15);\n",
              "      fill: #174EA6;\n",
              "    }\n",
              "\n",
              "    [theme=dark] .colab-df-convert {\n",
              "      background-color: #3B4455;\n",
              "      fill: #D2E3FC;\n",
              "    }\n",
              "\n",
              "    [theme=dark] .colab-df-convert:hover {\n",
              "      background-color: #434B5C;\n",
              "      box-shadow: 0px 1px 3px 1px rgba(0, 0, 0, 0.15);\n",
              "      filter: drop-shadow(0px 1px 2px rgba(0, 0, 0, 0.3));\n",
              "      fill: #FFFFFF;\n",
              "    }\n",
              "  </style>\n",
              "\n",
              "      <script>\n",
              "        const buttonEl =\n",
              "          document.querySelector('#df-4b111eb9-0c7f-4b1e-a64b-2db1fec8eaa1 button.colab-df-convert');\n",
              "        buttonEl.style.display =\n",
              "          google.colab.kernel.accessAllowed ? 'block' : 'none';\n",
              "\n",
              "        async function convertToInteractive(key) {\n",
              "          const element = document.querySelector('#df-4b111eb9-0c7f-4b1e-a64b-2db1fec8eaa1');\n",
              "          const dataTable =\n",
              "            await google.colab.kernel.invokeFunction('convertToInteractive',\n",
              "                                                     [key], {});\n",
              "          if (!dataTable) return;\n",
              "\n",
              "          const docLinkHtml = 'Like what you see? Visit the ' +\n",
              "            '<a target=\"_blank\" href=https://colab.research.google.com/notebooks/data_table.ipynb>data table notebook</a>'\n",
              "            + ' to learn more about interactive tables.';\n",
              "          element.innerHTML = '';\n",
              "          dataTable['output_type'] = 'display_data';\n",
              "          await google.colab.output.renderOutput(dataTable, element);\n",
              "          const docLink = document.createElement('div');\n",
              "          docLink.innerHTML = docLinkHtml;\n",
              "          element.appendChild(docLink);\n",
              "        }\n",
              "      </script>\n",
              "    </div>\n",
              "  </div>\n",
              "  "
            ]
          },
          "metadata": {},
          "execution_count": 16
        }
      ]
    },
    {
      "cell_type": "code",
      "source": [
        "test_1.info()"
      ],
      "metadata": {
        "colab": {
          "base_uri": "https://localhost:8080/"
        },
        "id": "9JdRGbm1EjmR",
        "outputId": "9d47004d-6867-4ca6-c5fe-0e1fd6ab22fd"
      },
      "execution_count": null,
      "outputs": [
        {
          "output_type": "stream",
          "name": "stdout",
          "text": [
            "<class 'pandas.core.frame.DataFrame'>\n",
            "Int64Index: 289 entries, 901 to 521\n",
            "Data columns (total 3 columns):\n",
            " #   Column  Non-Null Count  Dtype  \n",
            "---  ------  --------------  -----  \n",
            " 0   T       289 non-null    int64  \n",
            " 1   G       289 non-null    int64  \n",
            " 2   Pmax    289 non-null    float64\n",
            "dtypes: float64(1), int64(2)\n",
            "memory usage: 9.0 KB\n"
          ]
        }
      ]
    },
    {
      "cell_type": "code",
      "source": [
        "# VALIDACION \n",
        "\n",
        "pot_pred = []  # Prediccion de Potencias maximas \n",
        "errorAb = [] # Error absoluto de cada prediccion\n",
        "\n",
        "for i in range(289):\n",
        "  G = test_1.iloc[i]['G']\n",
        "  T = test_1.iloc[i]['T']\n",
        "  entrada = np.array([[G,T]], dtype='float')\n",
        "  x1 = entrada.dot(w1) + b1\n",
        "  x2 = x1.dot(w2) + b2\n",
        "  x3 = x2.dot(w3) + b3\n",
        "  pot_pred.append(float(x3))\n",
        "\n",
        "for i in range(289):\n",
        "  error = 100*(abs(test_1.iloc[i]['Pmax'] - pot_pred[i])/test_1.iloc[i]['Pmax'])\n",
        "  errorAb.append(error)\n",
        "\n",
        "test_1[\"Pot Pred\"] = pot_pred\n",
        "test_1[\"Error %\"] = errorAb\n",
        "\n",
        "test_1"
      ],
      "metadata": {
        "colab": {
          "base_uri": "https://localhost:8080/",
          "height": 424
        },
        "id": "_6WmX4TRnPMV",
        "outputId": "8ed0ea36-07c5-48be-aca5-27324b402748"
      },
      "execution_count": null,
      "outputs": [
        {
          "output_type": "execute_result",
          "data": {
            "text/plain": [
              "      T     G      Pmax     Pot Pred   Error %\n",
              "901  44   440  1529.080  1459.069590  4.578597\n",
              "710  37   960  3521.040  3586.179800  1.850016\n",
              "439  29   500  1890.510  1846.919587  2.305749\n",
              "800  40   900  3249.988  3318.745065  2.115610\n",
              "869  43   420  1464.832  1389.993889  5.108989\n",
              "..   ..   ...       ...          ...       ...\n",
              "402  27  1000  3850.518  3844.746465  0.149890\n",
              "344  26   460  1756.464  1718.802789  2.144149\n",
              "211  21   900  3559.265  3509.402562  1.400920\n",
              "659  36   560  2054.589  2014.008271  1.975126\n",
              "521  31   900  3405.974  3409.056511  0.090503\n",
              "\n",
              "[289 rows x 5 columns]"
            ],
            "text/html": [
              "\n",
              "  <div id=\"df-ac351e10-2026-4a12-857f-53a1ae20bee3\">\n",
              "    <div class=\"colab-df-container\">\n",
              "      <div>\n",
              "<style scoped>\n",
              "    .dataframe tbody tr th:only-of-type {\n",
              "        vertical-align: middle;\n",
              "    }\n",
              "\n",
              "    .dataframe tbody tr th {\n",
              "        vertical-align: top;\n",
              "    }\n",
              "\n",
              "    .dataframe thead th {\n",
              "        text-align: right;\n",
              "    }\n",
              "</style>\n",
              "<table border=\"1\" class=\"dataframe\">\n",
              "  <thead>\n",
              "    <tr style=\"text-align: right;\">\n",
              "      <th></th>\n",
              "      <th>T</th>\n",
              "      <th>G</th>\n",
              "      <th>Pmax</th>\n",
              "      <th>Pot Pred</th>\n",
              "      <th>Error %</th>\n",
              "    </tr>\n",
              "  </thead>\n",
              "  <tbody>\n",
              "    <tr>\n",
              "      <th>901</th>\n",
              "      <td>44</td>\n",
              "      <td>440</td>\n",
              "      <td>1529.080</td>\n",
              "      <td>1459.069590</td>\n",
              "      <td>4.578597</td>\n",
              "    </tr>\n",
              "    <tr>\n",
              "      <th>710</th>\n",
              "      <td>37</td>\n",
              "      <td>960</td>\n",
              "      <td>3521.040</td>\n",
              "      <td>3586.179800</td>\n",
              "      <td>1.850016</td>\n",
              "    </tr>\n",
              "    <tr>\n",
              "      <th>439</th>\n",
              "      <td>29</td>\n",
              "      <td>500</td>\n",
              "      <td>1890.510</td>\n",
              "      <td>1846.919587</td>\n",
              "      <td>2.305749</td>\n",
              "    </tr>\n",
              "    <tr>\n",
              "      <th>800</th>\n",
              "      <td>40</td>\n",
              "      <td>900</td>\n",
              "      <td>3249.988</td>\n",
              "      <td>3318.745065</td>\n",
              "      <td>2.115610</td>\n",
              "    </tr>\n",
              "    <tr>\n",
              "      <th>869</th>\n",
              "      <td>43</td>\n",
              "      <td>420</td>\n",
              "      <td>1464.832</td>\n",
              "      <td>1389.993889</td>\n",
              "      <td>5.108989</td>\n",
              "    </tr>\n",
              "    <tr>\n",
              "      <th>...</th>\n",
              "      <td>...</td>\n",
              "      <td>...</td>\n",
              "      <td>...</td>\n",
              "      <td>...</td>\n",
              "      <td>...</td>\n",
              "    </tr>\n",
              "    <tr>\n",
              "      <th>402</th>\n",
              "      <td>27</td>\n",
              "      <td>1000</td>\n",
              "      <td>3850.518</td>\n",
              "      <td>3844.746465</td>\n",
              "      <td>0.149890</td>\n",
              "    </tr>\n",
              "    <tr>\n",
              "      <th>344</th>\n",
              "      <td>26</td>\n",
              "      <td>460</td>\n",
              "      <td>1756.464</td>\n",
              "      <td>1718.802789</td>\n",
              "      <td>2.144149</td>\n",
              "    </tr>\n",
              "    <tr>\n",
              "      <th>211</th>\n",
              "      <td>21</td>\n",
              "      <td>900</td>\n",
              "      <td>3559.265</td>\n",
              "      <td>3509.402562</td>\n",
              "      <td>1.400920</td>\n",
              "    </tr>\n",
              "    <tr>\n",
              "      <th>659</th>\n",
              "      <td>36</td>\n",
              "      <td>560</td>\n",
              "      <td>2054.589</td>\n",
              "      <td>2014.008271</td>\n",
              "      <td>1.975126</td>\n",
              "    </tr>\n",
              "    <tr>\n",
              "      <th>521</th>\n",
              "      <td>31</td>\n",
              "      <td>900</td>\n",
              "      <td>3405.974</td>\n",
              "      <td>3409.056511</td>\n",
              "      <td>0.090503</td>\n",
              "    </tr>\n",
              "  </tbody>\n",
              "</table>\n",
              "<p>289 rows × 5 columns</p>\n",
              "</div>\n",
              "      <button class=\"colab-df-convert\" onclick=\"convertToInteractive('df-ac351e10-2026-4a12-857f-53a1ae20bee3')\"\n",
              "              title=\"Convert this dataframe to an interactive table.\"\n",
              "              style=\"display:none;\">\n",
              "        \n",
              "  <svg xmlns=\"http://www.w3.org/2000/svg\" height=\"24px\"viewBox=\"0 0 24 24\"\n",
              "       width=\"24px\">\n",
              "    <path d=\"M0 0h24v24H0V0z\" fill=\"none\"/>\n",
              "    <path d=\"M18.56 5.44l.94 2.06.94-2.06 2.06-.94-2.06-.94-.94-2.06-.94 2.06-2.06.94zm-11 1L8.5 8.5l.94-2.06 2.06-.94-2.06-.94L8.5 2.5l-.94 2.06-2.06.94zm10 10l.94 2.06.94-2.06 2.06-.94-2.06-.94-.94-2.06-.94 2.06-2.06.94z\"/><path d=\"M17.41 7.96l-1.37-1.37c-.4-.4-.92-.59-1.43-.59-.52 0-1.04.2-1.43.59L10.3 9.45l-7.72 7.72c-.78.78-.78 2.05 0 2.83L4 21.41c.39.39.9.59 1.41.59.51 0 1.02-.2 1.41-.59l7.78-7.78 2.81-2.81c.8-.78.8-2.07 0-2.86zM5.41 20L4 18.59l7.72-7.72 1.47 1.35L5.41 20z\"/>\n",
              "  </svg>\n",
              "      </button>\n",
              "      \n",
              "  <style>\n",
              "    .colab-df-container {\n",
              "      display:flex;\n",
              "      flex-wrap:wrap;\n",
              "      gap: 12px;\n",
              "    }\n",
              "\n",
              "    .colab-df-convert {\n",
              "      background-color: #E8F0FE;\n",
              "      border: none;\n",
              "      border-radius: 50%;\n",
              "      cursor: pointer;\n",
              "      display: none;\n",
              "      fill: #1967D2;\n",
              "      height: 32px;\n",
              "      padding: 0 0 0 0;\n",
              "      width: 32px;\n",
              "    }\n",
              "\n",
              "    .colab-df-convert:hover {\n",
              "      background-color: #E2EBFA;\n",
              "      box-shadow: 0px 1px 2px rgba(60, 64, 67, 0.3), 0px 1px 3px 1px rgba(60, 64, 67, 0.15);\n",
              "      fill: #174EA6;\n",
              "    }\n",
              "\n",
              "    [theme=dark] .colab-df-convert {\n",
              "      background-color: #3B4455;\n",
              "      fill: #D2E3FC;\n",
              "    }\n",
              "\n",
              "    [theme=dark] .colab-df-convert:hover {\n",
              "      background-color: #434B5C;\n",
              "      box-shadow: 0px 1px 3px 1px rgba(0, 0, 0, 0.15);\n",
              "      filter: drop-shadow(0px 1px 2px rgba(0, 0, 0, 0.3));\n",
              "      fill: #FFFFFF;\n",
              "    }\n",
              "  </style>\n",
              "\n",
              "      <script>\n",
              "        const buttonEl =\n",
              "          document.querySelector('#df-ac351e10-2026-4a12-857f-53a1ae20bee3 button.colab-df-convert');\n",
              "        buttonEl.style.display =\n",
              "          google.colab.kernel.accessAllowed ? 'block' : 'none';\n",
              "\n",
              "        async function convertToInteractive(key) {\n",
              "          const element = document.querySelector('#df-ac351e10-2026-4a12-857f-53a1ae20bee3');\n",
              "          const dataTable =\n",
              "            await google.colab.kernel.invokeFunction('convertToInteractive',\n",
              "                                                     [key], {});\n",
              "          if (!dataTable) return;\n",
              "\n",
              "          const docLinkHtml = 'Like what you see? Visit the ' +\n",
              "            '<a target=\"_blank\" href=https://colab.research.google.com/notebooks/data_table.ipynb>data table notebook</a>'\n",
              "            + ' to learn more about interactive tables.';\n",
              "          element.innerHTML = '';\n",
              "          dataTable['output_type'] = 'display_data';\n",
              "          await google.colab.output.renderOutput(dataTable, element);\n",
              "          const docLink = document.createElement('div');\n",
              "          docLink.innerHTML = docLinkHtml;\n",
              "          element.appendChild(docLink);\n",
              "        }\n",
              "      </script>\n",
              "    </div>\n",
              "  </div>\n",
              "  "
            ]
          },
          "metadata": {},
          "execution_count": 19
        }
      ]
    },
    {
      "cell_type": "markdown",
      "source": [
        "![imagen.png](data:image/png;base64,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)"
      ],
      "metadata": {
        "id": "NaJCvsLvJDMQ"
      }
    },
    {
      "cell_type": "code",
      "source": [
        "# Graficamos el error\n",
        "plt.hist(test_1['Error %'])"
      ],
      "metadata": {
        "colab": {
          "base_uri": "https://localhost:8080/",
          "height": 352
        },
        "id": "sWuPNO7IFbLI",
        "outputId": "9b65f816-7fdb-4761-ea3d-ecb95ac54362"
      },
      "execution_count": null,
      "outputs": [
        {
          "output_type": "execute_result",
          "data": {
            "text/plain": [
              "(array([50., 59., 95., 41., 15., 13., 11.,  2.,  1.,  2.]),\n",
              " array([6.04573753e-05, 6.09991618e-01, 1.21992278e+00, 1.82985394e+00,\n",
              "        2.43978510e+00, 3.04971626e+00, 3.65964742e+00, 4.26957858e+00,\n",
              "        4.87950974e+00, 5.48944090e+00, 6.09937206e+00]),\n",
              " <a list of 10 Patch objects>)"
            ]
          },
          "metadata": {},
          "execution_count": 20
        },
        {
          "output_type": "display_data",
          "data": {
            "text/plain": [
              "<Figure size 432x288 with 1 Axes>"
            ],
            "image/png": "[encoded data removed]"
          },
          "metadata": {
            "needs_background": "light"
          }
        }
      ]
    },
    {
      "cell_type": "code",
      "source": [
        "x = []\n",
        "for i in range(289):\n",
        "  x.append(i)\n",
        "\n",
        "plt.figure(figsize=(20,10))\n",
        "plt.scatter(x,test_1['Pmax'])\n",
        "plt.scatter(x,test_1['Pot Pred'])"
      ],
      "metadata": {
        "colab": {
          "base_uri": "https://localhost:8080/",
          "height": 501
        },
        "id": "MPqYY88vGnDa",
        "outputId": "1df14eb5-9a08-48cb-e293-a5eba6be0891"
      },
      "execution_count": null,
      "outputs": [
        {
          "output_type": "execute_result",
          "data": {
            "text/plain": [
              "<matplotlib.collections.PathCollection at 0x7f576f2f4e50>"
            ]
          },
          "metadata": {},
          "execution_count": 40
        },
        {
          "output_type": "display_data",
          "data": {
            "text/plain": [
              "<Figure size 1440x720 with 1 Axes>"
            ],
            "image/png": "[encoded data removed]"
          },
          "metadata": {
            "needs_background": "light"
          }
        }
      ]
    },
    {
      "cell_type": "markdown",
      "source": [
        "## Modelo 2 -  Corriente asociada a una tension"
      ],
      "metadata": {
        "id": "2mRRtkYQYnoV"
      }
    },
    {
      "cell_type": "markdown",
      "source": [
        "### Procesamiento Data"
      ],
      "metadata": {
        "id": "Neiepp2p1G0W"
      }
    },
    {
      "cell_type": "code",
      "source": [
        "# PROCESAMIENTO DE LOS DATOS\n",
        "# Cada archivo se convierte en un dataframe, para luego ser concatenado en uno solo\n",
        "# Tomamos los datos positivos\n",
        "\n",
        "# Creacion de un dataframe general con la maxima potencia para cada T y G\n",
        "\n",
        "path = '/content/PV-System/Data_PV/'\n",
        "\n",
        "\n",
        "\n",
        "lista_df =[]\n",
        "for t in range(15,45+1):\n",
        "  for g in range(400,1000+1,20):\n",
        "    filename = f'OutputPV_T{t}_G{g}.txt'\n",
        "    df = pd.read_csv(path + filename, header=None)\n",
        "    encabezado = [\"V\", \"I\"]\n",
        "    df.columns = encabezado\n",
        "    df['T'] = t\n",
        "    df['G'] = g\n",
        "    \n",
        "    lista_df.append(df)"
      ],
      "metadata": {
        "id": "pZ02qqVqyZbX"
      },
      "execution_count": 14,
      "outputs": []
    },
    {
      "cell_type": "code",
      "source": [
        "dataframe_gen = pd.concat(lista_df)\n",
        "dataframe_gen"
      ],
      "metadata": {
        "id": "7HQlLejXz3KA",
        "outputId": "338ee1b9-6573-4b4c-aa29-344a4753269f",
        "colab": {
          "base_uri": "https://localhost:8080/",
          "height": 424
        }
      },
      "execution_count": 15,
      "outputs": [
        {
          "output_type": "execute_result",
          "data": {
            "text/plain": [
              "       V       I   T     G\n",
              "0      0  10.768  15   400\n",
              "1      1  10.766  15   400\n",
              "2      2  10.765  15   400\n",
              "3      3  10.763  15   400\n",
              "4      4  10.761  15   400\n",
              "..   ...     ...  ..   ...\n",
              "196  196 -39.222  45  1000\n",
              "197  197 -40.722  45  1000\n",
              "198  198 -42.229  45  1000\n",
              "199  199 -43.742  45  1000\n",
              "200  200 -45.262  45  1000\n",
              "\n",
              "[193161 rows x 4 columns]"
            ],
            "text/html": [
              "\n",
              "  <div id=\"df-fe6ab278-6606-4041-bf64-814322c3557a\">\n",
              "    <div class=\"colab-df-container\">\n",
              "      <div>\n",
              "<style scoped>\n",
              "    .dataframe tbody tr th:only-of-type {\n",
              "        vertical-align: middle;\n",
              "    }\n",
              "\n",
              "    .dataframe tbody tr th {\n",
              "        vertical-align: top;\n",
              "    }\n",
              "\n",
              "    .dataframe thead th {\n",
              "        text-align: right;\n",
              "    }\n",
              "</style>\n",
              "<table border=\"1\" class=\"dataframe\">\n",
              "  <thead>\n",
              "    <tr style=\"text-align: right;\">\n",
              "      <th></th>\n",
              "      <th>V</th>\n",
              "      <th>I</th>\n",
              "      <th>T</th>\n",
              "      <th>G</th>\n",
              "    </tr>\n",
              "  </thead>\n",
              "  <tbody>\n",
              "    <tr>\n",
              "      <th>0</th>\n",
              "      <td>0</td>\n",
              "      <td>10.768</td>\n",
              "      <td>15</td>\n",
              "      <td>400</td>\n",
              "    </tr>\n",
              "    <tr>\n",
              "      <th>1</th>\n",
              "      <td>1</td>\n",
              "      <td>10.766</td>\n",
              "      <td>15</td>\n",
              "      <td>400</td>\n",
              "    </tr>\n",
              "    <tr>\n",
              "      <th>2</th>\n",
              "      <td>2</td>\n",
              "      <td>10.765</td>\n",
              "      <td>15</td>\n",
              "      <td>400</td>\n",
              "    </tr>\n",
              "    <tr>\n",
              "      <th>3</th>\n",
              "      <td>3</td>\n",
              "      <td>10.763</td>\n",
              "      <td>15</td>\n",
              "      <td>400</td>\n",
              "    </tr>\n",
              "    <tr>\n",
              "      <th>4</th>\n",
              "      <td>4</td>\n",
              "      <td>10.761</td>\n",
              "      <td>15</td>\n",
              "      <td>400</td>\n",
              "    </tr>\n",
              "    <tr>\n",
              "      <th>...</th>\n",
              "      <td>...</td>\n",
              "      <td>...</td>\n",
              "      <td>...</td>\n",
              "      <td>...</td>\n",
              "    </tr>\n",
              "    <tr>\n",
              "      <th>196</th>\n",
              "      <td>196</td>\n",
              "      <td>-39.222</td>\n",
              "      <td>45</td>\n",
              "      <td>1000</td>\n",
              "    </tr>\n",
              "    <tr>\n",
              "      <th>197</th>\n",
              "      <td>197</td>\n",
              "      <td>-40.722</td>\n",
              "      <td>45</td>\n",
              "      <td>1000</td>\n",
              "    </tr>\n",
              "    <tr>\n",
              "      <th>198</th>\n",
              "      <td>198</td>\n",
              "      <td>-42.229</td>\n",
              "      <td>45</td>\n",
              "      <td>1000</td>\n",
              "    </tr>\n",
              "    <tr>\n",
              "      <th>199</th>\n",
              "      <td>199</td>\n",
              "      <td>-43.742</td>\n",
              "      <td>45</td>\n",
              "      <td>1000</td>\n",
              "    </tr>\n",
              "    <tr>\n",
              "      <th>200</th>\n",
              "      <td>200</td>\n",
              "      <td>-45.262</td>\n",
              "      <td>45</td>\n",
              "      <td>1000</td>\n",
              "    </tr>\n",
              "  </tbody>\n",
              "</table>\n",
              "<p>193161 rows × 4 columns</p>\n",
              "</div>\n",
              "      <button class=\"colab-df-convert\" onclick=\"convertToInteractive('df-fe6ab278-6606-4041-bf64-814322c3557a')\"\n",
              "              title=\"Convert this dataframe to an interactive table.\"\n",
              "              style=\"display:none;\">\n",
              "        \n",
              "  <svg xmlns=\"http://www.w3.org/2000/svg\" height=\"24px\"viewBox=\"0 0 24 24\"\n",
              "       width=\"24px\">\n",
              "    <path d=\"M0 0h24v24H0V0z\" fill=\"none\"/>\n",
              "    <path d=\"M18.56 5.44l.94 2.06.94-2.06 2.06-.94-2.06-.94-.94-2.06-.94 2.06-2.06.94zm-11 1L8.5 8.5l.94-2.06 2.06-.94-2.06-.94L8.5 2.5l-.94 2.06-2.06.94zm10 10l.94 2.06.94-2.06 2.06-.94-2.06-.94-.94-2.06-.94 2.06-2.06.94z\"/><path d=\"M17.41 7.96l-1.37-1.37c-.4-.4-.92-.59-1.43-.59-.52 0-1.04.2-1.43.59L10.3 9.45l-7.72 7.72c-.78.78-.78 2.05 0 2.83L4 21.41c.39.39.9.59 1.41.59.51 0 1.02-.2 1.41-.59l7.78-7.78 2.81-2.81c.8-.78.8-2.07 0-2.86zM5.41 20L4 18.59l7.72-7.72 1.47 1.35L5.41 20z\"/>\n",
              "  </svg>\n",
              "      </button>\n",
              "      \n",
              "  <style>\n",
              "    .colab-df-container {\n",
              "      display:flex;\n",
              "      flex-wrap:wrap;\n",
              "      gap: 12px;\n",
              "    }\n",
              "\n",
              "    .colab-df-convert {\n",
              "      background-color: #E8F0FE;\n",
              "      border: none;\n",
              "      border-radius: 50%;\n",
              "      cursor: pointer;\n",
              "      display: none;\n",
              "      fill: #1967D2;\n",
              "      height: 32px;\n",
              "      padding: 0 0 0 0;\n",
              "      width: 32px;\n",
              "    }\n",
              "\n",
              "    .colab-df-convert:hover {\n",
              "      background-color: #E2EBFA;\n",
              "      box-shadow: 0px 1px 2px rgba(60, 64, 67, 0.3), 0px 1px 3px 1px rgba(60, 64, 67, 0.15);\n",
              "      fill: #174EA6;\n",
              "    }\n",
              "\n",
              "    [theme=dark] .colab-df-convert {\n",
              "      background-color: #3B4455;\n",
              "      fill: #D2E3FC;\n",
              "    }\n",
              "\n",
              "    [theme=dark] .colab-df-convert:hover {\n",
              "      background-color: #434B5C;\n",
              "      box-shadow: 0px 1px 3px 1px rgba(0, 0, 0, 0.15);\n",
              "      filter: drop-shadow(0px 1px 2px rgba(0, 0, 0, 0.3));\n",
              "      fill: #FFFFFF;\n",
              "    }\n",
              "  </style>\n",
              "\n",
              "      <script>\n",
              "        const buttonEl =\n",
              "          document.querySelector('#df-fe6ab278-6606-4041-bf64-814322c3557a button.colab-df-convert');\n",
              "        buttonEl.style.display =\n",
              "          google.colab.kernel.accessAllowed ? 'block' : 'none';\n",
              "\n",
              "        async function convertToInteractive(key) {\n",
              "          const element = document.querySelector('#df-fe6ab278-6606-4041-bf64-814322c3557a');\n",
              "          const dataTable =\n",
              "            await google.colab.kernel.invokeFunction('convertToInteractive',\n",
              "                                                     [key], {});\n",
              "          if (!dataTable) return;\n",
              "\n",
              "          const docLinkHtml = 'Like what you see? Visit the ' +\n",
              "            '<a target=\"_blank\" href=https://colab.research.google.com/notebooks/data_table.ipynb>data table notebook</a>'\n",
              "            + ' to learn more about interactive tables.';\n",
              "          element.innerHTML = '';\n",
              "          dataTable['output_type'] = 'display_data';\n",
              "          await google.colab.output.renderOutput(dataTable, element);\n",
              "          const docLink = document.createElement('div');\n",
              "          docLink.innerHTML = docLinkHtml;\n",
              "          element.appendChild(docLink);\n",
              "        }\n",
              "      </script>\n",
              "    </div>\n",
              "  </div>\n",
              "  "
            ]
          },
          "metadata": {},
          "execution_count": 15
        }
      ]
    },
    {
      "cell_type": "code",
      "source": [
        "# Filtrar las filas cuyos valores de corriente es negativo\n",
        "\n",
        "filtro = dataframe_gen['I'] > 0\n",
        "dataframeGen = dataframe_gen[filtro]\n",
        "dataframeGen"
      ],
      "metadata": {
        "id": "dKOG0EVE0FTV",
        "outputId": "8936b5e9-e971-4f7d-eb8b-82b39755a09e",
        "colab": {
          "base_uri": "https://localhost:8080/",
          "height": 424
        }
      },
      "execution_count": 16,
      "outputs": [
        {
          "output_type": "execute_result",
          "data": {
            "text/plain": [
              "       V          I   T     G\n",
              "0      0  10.768000  15   400\n",
              "1      1  10.766000  15   400\n",
              "2      2  10.765000  15   400\n",
              "3      3  10.763000  15   400\n",
              "4      4  10.761000  15   400\n",
              "..   ...        ...  ..   ...\n",
              "163  163   4.506000  45  1000\n",
              "164  164   3.412500  45  1000\n",
              "165  165   2.299500  45  1000\n",
              "166  166   1.167600  45  1000\n",
              "167  167   0.017341  45  1000\n",
              "\n",
              "[173437 rows x 4 columns]"
            ],
            "text/html": [
              "\n",
              "  <div id=\"df-9bcd31e6-664b-4844-91dd-77ecbd193ecb\">\n",
              "    <div class=\"colab-df-container\">\n",
              "      <div>\n",
              "<style scoped>\n",
              "    .dataframe tbody tr th:only-of-type {\n",
              "        vertical-align: middle;\n",
              "    }\n",
              "\n",
              "    .dataframe tbody tr th {\n",
              "        vertical-align: top;\n",
              "    }\n",
              "\n",
              "    .dataframe thead th {\n",
              "        text-align: right;\n",
              "    }\n",
              "</style>\n",
              "<table border=\"1\" class=\"dataframe\">\n",
              "  <thead>\n",
              "    <tr style=\"text-align: right;\">\n",
              "      <th></th>\n",
              "      <th>V</th>\n",
              "      <th>I</th>\n",
              "      <th>T</th>\n",
              "      <th>G</th>\n",
              "    </tr>\n",
              "  </thead>\n",
              "  <tbody>\n",
              "    <tr>\n",
              "      <th>0</th>\n",
              "      <td>0</td>\n",
              "      <td>10.768000</td>\n",
              "      <td>15</td>\n",
              "      <td>400</td>\n",
              "    </tr>\n",
              "    <tr>\n",
              "      <th>1</th>\n",
              "      <td>1</td>\n",
              "      <td>10.766000</td>\n",
              "      <td>15</td>\n",
              "      <td>400</td>\n",
              "    </tr>\n",
              "    <tr>\n",
              "      <th>2</th>\n",
              "      <td>2</td>\n",
              "      <td>10.765000</td>\n",
              "      <td>15</td>\n",
              "      <td>400</td>\n",
              "    </tr>\n",
              "    <tr>\n",
              "      <th>3</th>\n",
              "      <td>3</td>\n",
              "      <td>10.763000</td>\n",
              "      <td>15</td>\n",
              "      <td>400</td>\n",
              "    </tr>\n",
              "    <tr>\n",
              "      <th>4</th>\n",
              "      <td>4</td>\n",
              "      <td>10.761000</td>\n",
              "      <td>15</td>\n",
              "      <td>400</td>\n",
              "    </tr>\n",
              "    <tr>\n",
              "      <th>...</th>\n",
              "      <td>...</td>\n",
              "      <td>...</td>\n",
              "      <td>...</td>\n",
              "      <td>...</td>\n",
              "    </tr>\n",
              "    <tr>\n",
              "      <th>163</th>\n",
              "      <td>163</td>\n",
              "      <td>4.506000</td>\n",
              "      <td>45</td>\n",
              "      <td>1000</td>\n",
              "    </tr>\n",
              "    <tr>\n",
              "      <th>164</th>\n",
              "      <td>164</td>\n",
              "      <td>3.412500</td>\n",
              "      <td>45</td>\n",
              "      <td>1000</td>\n",
              "    </tr>\n",
              "    <tr>\n",
              "      <th>165</th>\n",
              "      <td>165</td>\n",
              "      <td>2.299500</td>\n",
              "      <td>45</td>\n",
              "      <td>1000</td>\n",
              "    </tr>\n",
              "    <tr>\n",
              "      <th>166</th>\n",
              "      <td>166</td>\n",
              "      <td>1.167600</td>\n",
              "      <td>45</td>\n",
              "      <td>1000</td>\n",
              "    </tr>\n",
              "    <tr>\n",
              "      <th>167</th>\n",
              "      <td>167</td>\n",
              "      <td>0.017341</td>\n",
              "      <td>45</td>\n",
              "      <td>1000</td>\n",
              "    </tr>\n",
              "  </tbody>\n",
              "</table>\n",
              "<p>173437 rows × 4 columns</p>\n",
              "</div>\n",
              "      <button class=\"colab-df-convert\" onclick=\"convertToInteractive('df-9bcd31e6-664b-4844-91dd-77ecbd193ecb')\"\n",
              "              title=\"Convert this dataframe to an interactive table.\"\n",
              "              style=\"display:none;\">\n",
              "        \n",
              "  <svg xmlns=\"http://www.w3.org/2000/svg\" height=\"24px\"viewBox=\"0 0 24 24\"\n",
              "       width=\"24px\">\n",
              "    <path d=\"M0 0h24v24H0V0z\" fill=\"none\"/>\n",
              "    <path d=\"M18.56 5.44l.94 2.06.94-2.06 2.06-.94-2.06-.94-.94-2.06-.94 2.06-2.06.94zm-11 1L8.5 8.5l.94-2.06 2.06-.94-2.06-.94L8.5 2.5l-.94 2.06-2.06.94zm10 10l.94 2.06.94-2.06 2.06-.94-2.06-.94-.94-2.06-.94 2.06-2.06.94z\"/><path d=\"M17.41 7.96l-1.37-1.37c-.4-.4-.92-.59-1.43-.59-.52 0-1.04.2-1.43.59L10.3 9.45l-7.72 7.72c-.78.78-.78 2.05 0 2.83L4 21.41c.39.39.9.59 1.41.59.51 0 1.02-.2 1.41-.59l7.78-7.78 2.81-2.81c.8-.78.8-2.07 0-2.86zM5.41 20L4 18.59l7.72-7.72 1.47 1.35L5.41 20z\"/>\n",
              "  </svg>\n",
              "      </button>\n",
              "      \n",
              "  <style>\n",
              "    .colab-df-container {\n",
              "      display:flex;\n",
              "      flex-wrap:wrap;\n",
              "      gap: 12px;\n",
              "    }\n",
              "\n",
              "    .colab-df-convert {\n",
              "      background-color: #E8F0FE;\n",
              "      border: none;\n",
              "      border-radius: 50%;\n",
              "      cursor: pointer;\n",
              "      display: none;\n",
              "      fill: #1967D2;\n",
              "      height: 32px;\n",
              "      padding: 0 0 0 0;\n",
              "      width: 32px;\n",
              "    }\n",
              "\n",
              "    .colab-df-convert:hover {\n",
              "      background-color: #E2EBFA;\n",
              "      box-shadow: 0px 1px 2px rgba(60, 64, 67, 0.3), 0px 1px 3px 1px rgba(60, 64, 67, 0.15);\n",
              "      fill: #174EA6;\n",
              "    }\n",
              "\n",
              "    [theme=dark] .colab-df-convert {\n",
              "      background-color: #3B4455;\n",
              "      fill: #D2E3FC;\n",
              "    }\n",
              "\n",
              "    [theme=dark] .colab-df-convert:hover {\n",
              "      background-color: #434B5C;\n",
              "      box-shadow: 0px 1px 3px 1px rgba(0, 0, 0, 0.15);\n",
              "      filter: drop-shadow(0px 1px 2px rgba(0, 0, 0, 0.3));\n",
              "      fill: #FFFFFF;\n",
              "    }\n",
              "  </style>\n",
              "\n",
              "      <script>\n",
              "        const buttonEl =\n",
              "          document.querySelector('#df-9bcd31e6-664b-4844-91dd-77ecbd193ecb button.colab-df-convert');\n",
              "        buttonEl.style.display =\n",
              "          google.colab.kernel.accessAllowed ? 'block' : 'none';\n",
              "\n",
              "        async function convertToInteractive(key) {\n",
              "          const element = document.querySelector('#df-9bcd31e6-664b-4844-91dd-77ecbd193ecb');\n",
              "          const dataTable =\n",
              "            await google.colab.kernel.invokeFunction('convertToInteractive',\n",
              "                                                     [key], {});\n",
              "          if (!dataTable) return;\n",
              "\n",
              "          const docLinkHtml = 'Like what you see? Visit the ' +\n",
              "            '<a target=\"_blank\" href=https://colab.research.google.com/notebooks/data_table.ipynb>data table notebook</a>'\n",
              "            + ' to learn more about interactive tables.';\n",
              "          element.innerHTML = '';\n",
              "          dataTable['output_type'] = 'display_data';\n",
              "          await google.colab.output.renderOutput(dataTable, element);\n",
              "          const docLink = document.createElement('div');\n",
              "          docLink.innerHTML = docLinkHtml;\n",
              "          element.appendChild(docLink);\n",
              "        }\n",
              "      </script>\n",
              "    </div>\n",
              "  </div>\n",
              "  "
            ]
          },
          "metadata": {},
          "execution_count": 16
        }
      ]
    },
    {
      "cell_type": "code",
      "source": [
        "# Guardamos el df en csv\n",
        "dataframeGen.to_csv('Data_gen.csv')"
      ],
      "metadata": {
        "id": "JfV0MEyl0YjD"
      },
      "execution_count": 18,
      "outputs": []
    },
    {
      "cell_type": "code",
      "source": [
        "# Extraemos la data de entrenamiento y validacion y se guarda en csv\n",
        "train_2, test_2 = train_test_split(dataframeGen, test_size = 0.30)\n",
        "train_2.to_csv('dataEntrGen.csv')\n",
        "test_2.to_csv('dataValGen.csv')"
      ],
      "metadata": {
        "id": "BJ4u_uRw0vDW"
      },
      "execution_count": 19,
      "outputs": []
    },
    {
      "cell_type": "markdown",
      "source": [
        "## Modelos"
      ],
      "metadata": {
        "id": "DAasSFO41P3_"
      }
    },
    {
      "cell_type": "markdown",
      "source": [
        "### RNN1"
      ],
      "metadata": {
        "id": "N_IwwpWB1Rkh"
      }
    },
    {
      "cell_type": "code",
      "source": [
        "g = train_2['G']\n",
        "t = train_2['T']\n",
        "v = train_2['V']\n",
        "\n",
        "entrada = np.array(np.column_stack((g,t,v)), dtype='float')\n",
        "\n",
        "i = train_2['I']\n",
        "salida = np.array(np.transpose(i), dtype='float')\n",
        "##############################################################\n",
        "\n",
        "\n",
        "oculta1 = tf.keras.layers.Dense(units=5, input_shape=[3])\n",
        "oculta2 = tf.keras.layers.Dense(units=3)\n",
        "oculta3 = tf.keras.layers.Dense(units=2)\n",
        "output = tf.keras.layers.Dense(units=1)\n",
        "\n",
        "###############################################################\n",
        "modelo = tf.keras.Sequential([oculta1,  oculta2, oculta3, output])\n",
        "###############################################################\n",
        "\n",
        "modelo.compile(\n",
        "    optimizer = tf.keras.optimizers.Adam(0.1),\n",
        "    loss = 'mean_squared_error'\n",
        ")\n",
        "###############################################################\n",
        "\n",
        "print(\"Comenzando entrenamiento ... \")\n",
        "historial = modelo.fit(entrada,salida, epochs=100, verbose=False)\n",
        "print(\"Modelo entranado!\")\n",
        "###############################################################\n",
        "plt.xlabel(\"# Epoca\")\n",
        "plt.ylabel(\"Magnitud de perdida\")\n",
        "plt.plot(historial.history[\"loss\"])"
      ],
      "metadata": {
        "id": "s0Lj--ao1TYa",
        "outputId": "28fdb538-3a06-467d-f067-132cc913c2b7",
        "colab": {
          "base_uri": "https://localhost:8080/",
          "height": 331
        }
      },
      "execution_count": 24,
      "outputs": [
        {
          "output_type": "stream",
          "name": "stdout",
          "text": [
            "Comenzando entrenamiento ... \n",
            "Modelo entranado!\n"
          ]
        },
        {
          "output_type": "execute_result",
          "data": {
            "text/plain": [
              "[<matplotlib.lines.Line2D at 0x7fbab7a3e750>]"
            ]
          },
          "metadata": {},
          "execution_count": 24
        },
        {
          "output_type": "display_data",
          "data": {
            "text/plain": [
              "<Figure size 432x288 with 1 Axes>"
            ],
            "image/png": "[encoded data removed]"
          },
          "metadata": {
            "needs_background": "light"
          }
        }
      ]
    },
    {
      "cell_type": "markdown",
      "source": [
        "### RNN 1"
      ],
      "metadata": {
        "id": "-kUvWU9Bx1Az"
      }
    },
    {
      "cell_type": "markdown",
      "source": [
        "Se entrena una red neuronal Densa, la cual recibe como entrada la ```Irradiancia```, la ```Temperatura``` y la ```Tension``` para predecir la ```Corriente```. Se utiliza 3 capas ocultas y 1 capa de salida. Las tres capas ocultas tienen 10 neuronas cada una, y la capa de salida 1 sola neurona. Despues de 2 horas y media de entrenamiento con 1000 epocas se obtuvo el siguiente resultado:"
      ],
      "metadata": {
        "id": "4gQG0p_2Oemo"
      }
    },
    {
      "cell_type": "markdown",
      "source": [
        "![imagen.png](data:image/png;base64,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)"
      ],
      "metadata": {
        "id": "HVVT2tygOvAY"
      }
    },
    {
      "cell_type": "markdown",
      "source": [
        "### RNN2"
      ],
      "metadata": {
        "id": "pcdrn_cgx6lL"
      }
    },
    {
      "cell_type": "markdown",
      "source": [
        "Los resultados no son los mejores ya que existen errores de prediccion muy grandes como podemos ver en el siguiente grafico. \n",
        "\n",
        "Ahora se tomaran solamente los valores de corrientes positivas para una segunda prueba."
      ],
      "metadata": {
        "id": "ZPYtkT03O0_F"
      }
    },
    {
      "cell_type": "code",
      "source": [
        "# Filtrar las filas cuyos valores de corriente es negativo\n",
        "filtro = DF['I'] > 0\n",
        "DF2 = DF[filtro]\n",
        "DF2"
      ],
      "metadata": {
        "colab": {
          "base_uri": "https://localhost:8080/",
          "height": 424
        },
        "id": "tmIYesbe2Ekl",
        "outputId": "3bdbeccd-6b13-4571-9ba9-69f684d25c78"
      },
      "execution_count": null,
      "outputs": [
        {
          "output_type": "execute_result",
          "data": {
            "text/plain": [
              "       V          I           P   T     G\n",
              "0      0  10.768000    0.000000  15   400\n",
              "1      1  10.766000   10.766000  15   400\n",
              "2      2  10.765000   21.530000  15   400\n",
              "3      3  10.763000   32.289000  15   400\n",
              "4      4  10.761000   43.044000  15   400\n",
              "..   ...        ...         ...  ..   ...\n",
              "163  163   4.506000  734.478000  45  1000\n",
              "164  164   3.412500  559.650000  45  1000\n",
              "165  165   2.299500  379.417500  45  1000\n",
              "166  166   1.167600  193.821600  45  1000\n",
              "167  167   0.017341    2.895947  45  1000\n",
              "\n",
              "[173437 rows x 5 columns]"
            ],
            "text/html": [
              "\n",
              "  <div id=\"df-bc9c7c1a-f7f2-4054-b3e2-7a0698caca3b\">\n",
              "    <div class=\"colab-df-container\">\n",
              "      <div>\n",
              "<style scoped>\n",
              "    .dataframe tbody tr th:only-of-type {\n",
              "        vertical-align: middle;\n",
              "    }\n",
              "\n",
              "    .dataframe tbody tr th {\n",
              "        vertical-align: top;\n",
              "    }\n",
              "\n",
              "    .dataframe thead th {\n",
              "        text-align: right;\n",
              "    }\n",
              "</style>\n",
              "<table border=\"1\" class=\"dataframe\">\n",
              "  <thead>\n",
              "    <tr style=\"text-align: right;\">\n",
              "      <th></th>\n",
              "      <th>V</th>\n",
              "      <th>I</th>\n",
              "      <th>P</th>\n",
              "      <th>T</th>\n",
              "      <th>G</th>\n",
              "    </tr>\n",
              "  </thead>\n",
              "  <tbody>\n",
              "    <tr>\n",
              "      <th>0</th>\n",
              "      <td>0</td>\n",
              "      <td>10.768000</td>\n",
              "      <td>0.000000</td>\n",
              "      <td>15</td>\n",
              "      <td>400</td>\n",
              "    </tr>\n",
              "    <tr>\n",
              "      <th>1</th>\n",
              "      <td>1</td>\n",
              "      <td>10.766000</td>\n",
              "      <td>10.766000</td>\n",
              "      <td>15</td>\n",
              "      <td>400</td>\n",
              "    </tr>\n",
              "    <tr>\n",
              "      <th>2</th>\n",
              "      <td>2</td>\n",
              "      <td>10.765000</td>\n",
              "      <td>21.530000</td>\n",
              "      <td>15</td>\n",
              "      <td>400</td>\n",
              "    </tr>\n",
              "    <tr>\n",
              "      <th>3</th>\n",
              "      <td>3</td>\n",
              "      <td>10.763000</td>\n",
              "      <td>32.289000</td>\n",
              "      <td>15</td>\n",
              "      <td>400</td>\n",
              "    </tr>\n",
              "    <tr>\n",
              "      <th>4</th>\n",
              "      <td>4</td>\n",
              "      <td>10.761000</td>\n",
              "      <td>43.044000</td>\n",
              "      <td>15</td>\n",
              "      <td>400</td>\n",
              "    </tr>\n",
              "    <tr>\n",
              "      <th>...</th>\n",
              "      <td>...</td>\n",
              "      <td>...</td>\n",
              "      <td>...</td>\n",
              "      <td>...</td>\n",
              "      <td>...</td>\n",
              "    </tr>\n",
              "    <tr>\n",
              "      <th>163</th>\n",
              "      <td>163</td>\n",
              "      <td>4.506000</td>\n",
              "      <td>734.478000</td>\n",
              "      <td>45</td>\n",
              "      <td>1000</td>\n",
              "    </tr>\n",
              "    <tr>\n",
              "      <th>164</th>\n",
              "      <td>164</td>\n",
              "      <td>3.412500</td>\n",
              "      <td>559.650000</td>\n",
              "      <td>45</td>\n",
              "      <td>1000</td>\n",
              "    </tr>\n",
              "    <tr>\n",
              "      <th>165</th>\n",
              "      <td>165</td>\n",
              "      <td>2.299500</td>\n",
              "      <td>379.417500</td>\n",
              "      <td>45</td>\n",
              "      <td>1000</td>\n",
              "    </tr>\n",
              "    <tr>\n",
              "      <th>166</th>\n",
              "      <td>166</td>\n",
              "      <td>1.167600</td>\n",
              "      <td>193.821600</td>\n",
              "      <td>45</td>\n",
              "      <td>1000</td>\n",
              "    </tr>\n",
              "    <tr>\n",
              "      <th>167</th>\n",
              "      <td>167</td>\n",
              "      <td>0.017341</td>\n",
              "      <td>2.895947</td>\n",
              "      <td>45</td>\n",
              "      <td>1000</td>\n",
              "    </tr>\n",
              "  </tbody>\n",
              "</table>\n",
              "<p>173437 rows × 5 columns</p>\n",
              "</div>\n",
              "      <button class=\"colab-df-convert\" onclick=\"convertToInteractive('df-bc9c7c1a-f7f2-4054-b3e2-7a0698caca3b')\"\n",
              "              title=\"Convert this dataframe to an interactive table.\"\n",
              "              style=\"display:none;\">\n",
              "        \n",
              "  <svg xmlns=\"http://www.w3.org/2000/svg\" height=\"24px\"viewBox=\"0 0 24 24\"\n",
              "       width=\"24px\">\n",
              "    <path d=\"M0 0h24v24H0V0z\" fill=\"none\"/>\n",
              "    <path d=\"M18.56 5.44l.94 2.06.94-2.06 2.06-.94-2.06-.94-.94-2.06-.94 2.06-2.06.94zm-11 1L8.5 8.5l.94-2.06 2.06-.94-2.06-.94L8.5 2.5l-.94 2.06-2.06.94zm10 10l.94 2.06.94-2.06 2.06-.94-2.06-.94-.94-2.06-.94 2.06-2.06.94z\"/><path d=\"M17.41 7.96l-1.37-1.37c-.4-.4-.92-.59-1.43-.59-.52 0-1.04.2-1.43.59L10.3 9.45l-7.72 7.72c-.78.78-.78 2.05 0 2.83L4 21.41c.39.39.9.59 1.41.59.51 0 1.02-.2 1.41-.59l7.78-7.78 2.81-2.81c.8-.78.8-2.07 0-2.86zM5.41 20L4 18.59l7.72-7.72 1.47 1.35L5.41 20z\"/>\n",
              "  </svg>\n",
              "      </button>\n",
              "      \n",
              "  <style>\n",
              "    .colab-df-container {\n",
              "      display:flex;\n",
              "      flex-wrap:wrap;\n",
              "      gap: 12px;\n",
              "    }\n",
              "\n",
              "    .colab-df-convert {\n",
              "      background-color: #E8F0FE;\n",
              "      border: none;\n",
              "      border-radius: 50%;\n",
              "      cursor: pointer;\n",
              "      display: none;\n",
              "      fill: #1967D2;\n",
              "      height: 32px;\n",
              "      padding: 0 0 0 0;\n",
              "      width: 32px;\n",
              "    }\n",
              "\n",
              "    .colab-df-convert:hover {\n",
              "      background-color: #E2EBFA;\n",
              "      box-shadow: 0px 1px 2px rgba(60, 64, 67, 0.3), 0px 1px 3px 1px rgba(60, 64, 67, 0.15);\n",
              "      fill: #174EA6;\n",
              "    }\n",
              "\n",
              "    [theme=dark] .colab-df-convert {\n",
              "      background-color: #3B4455;\n",
              "      fill: #D2E3FC;\n",
              "    }\n",
              "\n",
              "    [theme=dark] .colab-df-convert:hover {\n",
              "      background-color: #434B5C;\n",
              "      box-shadow: 0px 1px 3px 1px rgba(0, 0, 0, 0.15);\n",
              "      filter: drop-shadow(0px 1px 2px rgba(0, 0, 0, 0.3));\n",
              "      fill: #FFFFFF;\n",
              "    }\n",
              "  </style>\n",
              "\n",
              "      <script>\n",
              "        const buttonEl =\n",
              "          document.querySelector('#df-bc9c7c1a-f7f2-4054-b3e2-7a0698caca3b button.colab-df-convert');\n",
              "        buttonEl.style.display =\n",
              "          google.colab.kernel.accessAllowed ? 'block' : 'none';\n",
              "\n",
              "        async function convertToInteractive(key) {\n",
              "          const element = document.querySelector('#df-bc9c7c1a-f7f2-4054-b3e2-7a0698caca3b');\n",
              "          const dataTable =\n",
              "            await google.colab.kernel.invokeFunction('convertToInteractive',\n",
              "                                                     [key], {});\n",
              "          if (!dataTable) return;\n",
              "\n",
              "          const docLinkHtml = 'Like what you see? Visit the ' +\n",
              "            '<a target=\"_blank\" href=https://colab.research.google.com/notebooks/data_table.ipynb>data table notebook</a>'\n",
              "            + ' to learn more about interactive tables.';\n",
              "          element.innerHTML = '';\n",
              "          dataTable['output_type'] = 'display_data';\n",
              "          await google.colab.output.renderOutput(dataTable, element);\n",
              "          const docLink = document.createElement('div');\n",
              "          docLink.innerHTML = docLinkHtml;\n",
              "          element.appendChild(docLink);\n",
              "        }\n",
              "      </script>\n",
              "    </div>\n",
              "  </div>\n",
              "  "
            ]
          },
          "metadata": {},
          "execution_count": 46
        }
      ]
    },
    {
      "cell_type": "code",
      "source": [
        "# Extraemos la data de entrenamiento y validacion y se guarda en csv\n",
        "train_2, test_2 = train_test_split(DF, test_size = 0.30)"
      ],
      "metadata": {
        "id": "loWOLX340m2D"
      },
      "execution_count": null,
      "outputs": []
    },
    {
      "cell_type": "markdown",
      "source": [
        "El dataframe general se guarda en un archivo csv de manera local:\n",
        "\n",
        "```python\n",
        "DF.to_csv('DataGeneral.csv')\n",
        "```\n",
        "\n",
        "Se generan dos dataframes a partir del general: \n",
        "* Un dataframe para entrenamiento que consiste en el 70% de los datos totales.\n",
        "* Un dataframe para valdiacion que corresponde al 30% de los datos totales.\n",
        "\n",
        "```python\n",
        "train, test = train_test_split(DF, test_size = 0.30)\n",
        "```\n",
        "\n",
        "Ambas datas se guardan de manera local:\n",
        "\n",
        "```python\n",
        "train.to_csv(\"data_entrenamiento.csv\")\n",
        "test.to_csv(\"data_validacion.csv\")\n",
        "```"
      ],
      "metadata": {
        "id": "zsmAwDQQADCl"
      }
    },
    {
      "cell_type": "markdown",
      "source": [
        "Se tiene una red con 3 capas ocultas, la primera tiene 10 neuronas, la segunda 5 neuronas y la tercera 2 neuronas."
      ],
      "metadata": {
        "id": "cl7jorY9YTAn"
      }
    },
    {
      "cell_type": "code",
      "source": [
        "DF2.to_csv('DataFiltro.csv')\n",
        "train, test = train_test_split(DF2, test_size = 0.30)\n",
        "train.to_csv(\"data_entrenamiento_filtro.csv\")\n",
        "test.to_csv(\"data_validacion_filtro.csv\")"
      ],
      "metadata": {
        "id": "feehh_zk2knO"
      },
      "execution_count": null,
      "outputs": []
    },
    {
      "cell_type": "code",
      "execution_count": null,
      "metadata": {
        "id": "Fz59X1zUUZeN"
      },
      "outputs": [],
      "source": [
        "g = train['G']\n",
        "t = train['T']\n",
        "v = train['V']\n",
        "entrada = np.array(np.column_stack((g,t,v)), dtype='float')\n",
        "\n",
        "i = train['I']\n",
        "salida = np.array(np.transpose(i), dtype='float')"
      ]
    },
    {
      "cell_type": "code",
      "execution_count": null,
      "metadata": {
        "id": "4XWAMG9vWLZl"
      },
      "outputs": [],
      "source": [
        "oculta1 = tf.keras.layers.Dense(units=10, input_shape=[3])\n",
        "oculta2 = tf.keras.layers.Dense(units=5)\n",
        "oculta3 = tf.keras.layers.Dense(units=2)\n",
        "modelo = tf.keras.Sequential([oculta1,  oculta2, oculta3])"
      ]
    },
    {
      "cell_type": "code",
      "execution_count": null,
      "metadata": {
        "id": "hBJtlBmvWoCn"
      },
      "outputs": [],
      "source": [
        "modelo.compile(\n",
        "    optimizer = tf.keras.optimizers.Adam(0.1),\n",
        "    loss = 'mean_squared_error'\n",
        ")"
      ]
    },
    {
      "cell_type": "code",
      "execution_count": null,
      "metadata": {
        "colab": {
          "base_uri": "https://localhost:8080/"
        },
        "id": "h9cTVXE_W3TN",
        "outputId": "88213e34-bd38-41b7-cd93-0361470cec4b"
      },
      "outputs": [
        {
          "output_type": "stream",
          "name": "stdout",
          "text": [
            "Comenzando entrenamiento ... \n",
            "Modelo entranado!\n"
          ]
        }
      ],
      "source": [
        "print(\"Comenzando entrettnamiento ... \")\n",
        "historial = modelo.fit(entrada,salida, epochs=500, verbose=False)\n",
        "print(\"Modelo entranado!\")"
      ]
    },
    {
      "cell_type": "markdown",
      "source": [],
      "metadata": {
        "id": "xvsvhy2eKAYD"
      }
    },
    {
      "cell_type": "code",
      "source": [
        "plt.xlabel(\"# Epoca\")\n",
        "plt.ylabel(\"Magnitud de perdida\")\n",
        "plt.plot(historial.history[\"loss\"])"
      ],
      "metadata": {
        "colab": {
          "base_uri": "https://localhost:8080/",
          "height": 296
        },
        "id": "9rqzwcops54A",
        "outputId": "ac0226f2-d600-4b74-9d95-cded38205354"
      },
      "execution_count": null,
      "outputs": [
        {
          "output_type": "execute_result",
          "data": {
            "text/plain": [
              "[<matplotlib.lines.Line2D at 0x7ff7920aefd0>]"
            ]
          },
          "metadata": {},
          "execution_count": 53
        },
        {
          "output_type": "display_data",
          "data": {
            "text/plain": [
              "<Figure size 432x288 with 1 Axes>"
            ],
            "image/png": "[encoded data removed]"
          },
          "metadata": {
            "needs_background": "light"
          }
        }
      ]
    },
    {
      "cell_type": "markdown",
      "source": [
        "Los resultados siguen siendo los no esperados"
      ],
      "metadata": {
        "id": "olXwqwNIYdI3"
      }
    },
    {
      "cell_type": "code",
      "source": [],
      "metadata": {
        "id": "XRfAHAqF68EU"
      },
      "execution_count": null,
      "outputs": []
    }
  ],
  "metadata": {
    "accelerator": "GPU",
    "colab": {
      "provenance": [],
      "toc_visible": true,
      "authorship_tag": "ABX9TyN9oxdGNKzOtQ/YAi+gZ22k",
      "include_colab_link": true
    },
    "kernelspec": {
      "display_name": "Python 3",
      "name": "python3"
    },
    "language_info": {
      "name": "python"
    }
  },
  "nbformat": 4,
  "nbformat_minor": 0
}